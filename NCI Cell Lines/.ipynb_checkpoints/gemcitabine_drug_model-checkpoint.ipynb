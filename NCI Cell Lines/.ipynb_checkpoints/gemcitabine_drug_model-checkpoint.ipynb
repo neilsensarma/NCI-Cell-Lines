{
 "cells": [
  {
   "cell_type": "code",
   "execution_count": 1,
   "id": "5d3113fc",
   "metadata": {},
   "outputs": [],
   "source": [
    "import numpy as np\n",
    "import pandas as pd\n",
    "from sklearn.preprocessing import MinMaxScaler, StandardScaler\n",
    "from sklearn.feature_selection import RFE, RFECV\n",
    "from sklearn.model_selection import StratifiedKFold, RepeatedStratifiedKFold\n",
    "from sklearn.svm import SVC\n",
    "from sklearn.ensemble import RandomForestClassifier, AdaBoostClassifier\n",
    "from sklearn.tree import DecisionTreeClassifier\n",
    "from xgboost import XGBClassifier\n",
    "from sklearn.metrics import accuracy_score, f1_score, recall_score, precision_score\n",
    "import seaborn as sns\n",
    "from warnings import filterwarnings\n",
    "filterwarnings('ignore')"
   ]
  },
  {
   "cell_type": "code",
   "execution_count": 2,
   "id": "31756909",
   "metadata": {},
   "outputs": [
    {
     "data": {
      "text/html": [
       "<div>\n",
       "<style scoped>\n",
       "    .dataframe tbody tr th:only-of-type {\n",
       "        vertical-align: middle;\n",
       "    }\n",
       "\n",
       "    .dataframe tbody tr th {\n",
       "        vertical-align: top;\n",
       "    }\n",
       "\n",
       "    .dataframe thead th {\n",
       "        text-align: right;\n",
       "    }\n",
       "</style>\n",
       "<table border=\"1\" class=\"dataframe\">\n",
       "  <thead>\n",
       "    <tr style=\"text-align: right;\">\n",
       "      <th></th>\n",
       "      <th>Cell Line</th>\n",
       "      <th>Acetone ; Propanal ; acetone</th>\n",
       "      <th>Acetaldehyde oxime ; HMDB01122</th>\n",
       "      <th>acetate</th>\n",
       "      <th>Urea</th>\n",
       "      <th>Isopropyl alcohol ; Propyl alcohol</th>\n",
       "      <th>Bicarbonate ; Hydrogen carbonate</th>\n",
       "      <th>Dimethylsulfide</th>\n",
       "      <th>3-Butyn-1-al</th>\n",
       "      <th>1-pyrrolinium</th>\n",
       "      <th>...</th>\n",
       "      <th>O-b-D-glucopyranosyl-(1-&gt;3)-O-2-(acetylamino)-2-deoxy-b-D-glucopyranosyl-(1-&gt;3)-O-[6-deoxy-a-L-galactopyranosyl-(1-&gt;4)]-O-b-D-galactopyranosyl-(1-&gt;4)-O-[6-deoxy-a-L-galactopyranosyl-(1-&gt;3)]-D-Glucose</th>\n",
       "      <th>LS tetrasaccharide d ; Sialyllacto-N-neotetraose c ; Sialyllacto-N-tetraose a ; Sialyllacto-N-tetraose b ; Sialyllacto-N-tetraose c</th>\n",
       "      <th>PIP2(16:0/18:0) ; PIP2(18:0/16:0)</th>\n",
       "      <th>TG(22:5(7Z,10Z,13Z,16Z,19Z)/20:5(5Z,8Z,11Z,14Z,17Z)/22:6(4Z,7Z,10Z,13Z,16Z,19Z))[iso6] ; TG(22:6(4Z,7Z,10Z,13Z,16Z,19Z)/20:4(5Z,8Z,11Z,14Z)/22:6(4Z,7Z,10Z,13Z,16Z,19Z))[iso3]</th>\n",
       "      <th>(2E)-Hexadecenoyl-CoA ; 2,7,10-hexadecatrienoylcoa ; 3,7,10-hexadecatrienoylcoa ; 3Z,7Z,10Z-hexadecatrienoyl-CoA ; 4,7,10-hexadecatrienoylcoa ; 4Z,7Z,10Z-hexadecatrienoyl-CoA ; 7,10,13-hexadecatrienoylcoa ; trans,cis,cis-2,7,10-hexadecatrienoyl-CoA</th>\n",
       "      <th>Lacto-N-difucohexaose ; Lacto-N-difucopentaose II</th>\n",
       "      <th>Galabiosylceramide (d18:1/26:1(17Z)) ; Lactosylceramide (d18:1/26:1(17Z))</th>\n",
       "      <th>cells</th>\n",
       "      <th>Cell names</th>\n",
       "      <th>Gemcitabine</th>\n",
       "    </tr>\n",
       "  </thead>\n",
       "  <tbody>\n",
       "    <tr>\n",
       "      <th>0</th>\n",
       "      <td>Breast_BT549</td>\n",
       "      <td>0.021811</td>\n",
       "      <td>0.006137</td>\n",
       "      <td>1.801231</td>\n",
       "      <td>0.178675</td>\n",
       "      <td>0.031762</td>\n",
       "      <td>0.143416</td>\n",
       "      <td>0.004437</td>\n",
       "      <td>0.001118</td>\n",
       "      <td>0.002353</td>\n",
       "      <td>...</td>\n",
       "      <td>0.036367</td>\n",
       "      <td>0.025836</td>\n",
       "      <td>0.075427</td>\n",
       "      <td>0.036502</td>\n",
       "      <td>0.019935</td>\n",
       "      <td>0.032820</td>\n",
       "      <td>0.039391</td>\n",
       "      <td>BT549</td>\n",
       "      <td>BR:BT-549</td>\n",
       "      <td>4.794</td>\n",
       "    </tr>\n",
       "    <tr>\n",
       "      <th>1</th>\n",
       "      <td>Breast_HS578T</td>\n",
       "      <td>0.010611</td>\n",
       "      <td>0.006815</td>\n",
       "      <td>0.884542</td>\n",
       "      <td>0.093390</td>\n",
       "      <td>0.016027</td>\n",
       "      <td>0.037372</td>\n",
       "      <td>NaN</td>\n",
       "      <td>0.005778</td>\n",
       "      <td>0.003199</td>\n",
       "      <td>...</td>\n",
       "      <td>0.024981</td>\n",
       "      <td>0.013982</td>\n",
       "      <td>0.054200</td>\n",
       "      <td>0.029125</td>\n",
       "      <td>0.010750</td>\n",
       "      <td>0.015981</td>\n",
       "      <td>0.035154</td>\n",
       "      <td>HS578T</td>\n",
       "      <td>BR:HS 578T</td>\n",
       "      <td>5.600</td>\n",
       "    </tr>\n",
       "  </tbody>\n",
       "</table>\n",
       "<p>2 rows × 2185 columns</p>\n",
       "</div>"
      ],
      "text/plain": [
       "       Cell Line  Acetone ; Propanal ; acetone  \\\n",
       "0   Breast_BT549                      0.021811   \n",
       "1  Breast_HS578T                      0.010611   \n",
       "\n",
       "   Acetaldehyde oxime ; HMDB01122   acetate      Urea  \\\n",
       "0                        0.006137  1.801231  0.178675   \n",
       "1                        0.006815  0.884542  0.093390   \n",
       "\n",
       "   Isopropyl alcohol ; Propyl alcohol  Bicarbonate ; Hydrogen carbonate  \\\n",
       "0                            0.031762                          0.143416   \n",
       "1                            0.016027                          0.037372   \n",
       "\n",
       "   Dimethylsulfide  3-Butyn-1-al  1-pyrrolinium  ...  \\\n",
       "0         0.004437      0.001118       0.002353  ...   \n",
       "1              NaN      0.005778       0.003199  ...   \n",
       "\n",
       "   O-b-D-glucopyranosyl-(1->3)-O-2-(acetylamino)-2-deoxy-b-D-glucopyranosyl-(1->3)-O-[6-deoxy-a-L-galactopyranosyl-(1->4)]-O-b-D-galactopyranosyl-(1->4)-O-[6-deoxy-a-L-galactopyranosyl-(1->3)]-D-Glucose  \\\n",
       "0                                           0.036367                                                                                                                                                         \n",
       "1                                           0.024981                                                                                                                                                         \n",
       "\n",
       "   LS tetrasaccharide d ; Sialyllacto-N-neotetraose c ; Sialyllacto-N-tetraose a ; Sialyllacto-N-tetraose b ; Sialyllacto-N-tetraose c  \\\n",
       "0                                           0.025836                                                                                     \n",
       "1                                           0.013982                                                                                     \n",
       "\n",
       "   PIP2(16:0/18:0) ; PIP2(18:0/16:0)  \\\n",
       "0                           0.075427   \n",
       "1                           0.054200   \n",
       "\n",
       "   TG(22:5(7Z,10Z,13Z,16Z,19Z)/20:5(5Z,8Z,11Z,14Z,17Z)/22:6(4Z,7Z,10Z,13Z,16Z,19Z))[iso6] ; TG(22:6(4Z,7Z,10Z,13Z,16Z,19Z)/20:4(5Z,8Z,11Z,14Z)/22:6(4Z,7Z,10Z,13Z,16Z,19Z))[iso3]  \\\n",
       "0                                           0.036502                                                                                                                                \n",
       "1                                           0.029125                                                                                                                                \n",
       "\n",
       "   (2E)-Hexadecenoyl-CoA ; 2,7,10-hexadecatrienoylcoa ; 3,7,10-hexadecatrienoylcoa ; 3Z,7Z,10Z-hexadecatrienoyl-CoA ; 4,7,10-hexadecatrienoylcoa ; 4Z,7Z,10Z-hexadecatrienoyl-CoA ; 7,10,13-hexadecatrienoylcoa ; trans,cis,cis-2,7,10-hexadecatrienoyl-CoA  \\\n",
       "0                                           0.019935                                                                                                                                                                                                          \n",
       "1                                           0.010750                                                                                                                                                                                                          \n",
       "\n",
       "   Lacto-N-difucohexaose ; Lacto-N-difucopentaose II  \\\n",
       "0                                           0.032820   \n",
       "1                                           0.015981   \n",
       "\n",
       "   Galabiosylceramide (d18:1/26:1(17Z)) ; Lactosylceramide (d18:1/26:1(17Z))  \\\n",
       "0                                           0.039391                           \n",
       "1                                           0.035154                           \n",
       "\n",
       "    cells  Cell names  Gemcitabine  \n",
       "0   BT549   BR:BT-549        4.794  \n",
       "1  HS578T  BR:HS 578T        5.600  \n",
       "\n",
       "[2 rows x 2185 columns]"
      ]
     },
     "execution_count": 2,
     "metadata": {},
     "output_type": "execute_result"
    }
   ],
   "source": [
    "data = pd.read_csv('C:\\\\Users\\\\nilav\\\\NCI Cell Lines\\\\Gemcitabine_metabolic_NCI.csv')\n",
    "data.head(2)"
   ]
  },
  {
   "cell_type": "code",
   "execution_count": 3,
   "id": "73ffd742",
   "metadata": {},
   "outputs": [
    {
     "data": {
      "text/plain": [
       "0    4.794\n",
       "1    5.600\n",
       "2    5.888\n",
       "3    6.273\n",
       "4    6.937\n",
       "Name: Gemcitabine, dtype: float64"
      ]
     },
     "execution_count": 3,
     "metadata": {},
     "output_type": "execute_result"
    }
   ],
   "source": [
    "drug = data.pop('Gemcitabine')\n",
    "drug.head()"
   ]
  },
  {
   "cell_type": "code",
   "execution_count": 4,
   "id": "ffe4b5cf",
   "metadata": {},
   "outputs": [
    {
     "data": {
      "text/plain": [
       "<AxesSubplot:ylabel='Density'>"
      ]
     },
     "execution_count": 4,
     "metadata": {},
     "output_type": "execute_result"
    },
    {
     "data": {
      "image/png": "[encoded data removed]",
      "text/plain": [
       "<Figure size 640x480 with 1 Axes>"
      ]
     },
     "metadata": {},
     "output_type": "display_data"
    }
   ],
   "source": [
    "drug.plot.density(color = 'green')"
   ]
  },
  {
   "cell_type": "code",
   "execution_count": 5,
   "id": "296709a6",
   "metadata": {},
   "outputs": [
    {
     "data": {
      "text/plain": [
       "6.185857142857144"
      ]
     },
     "execution_count": 5,
     "metadata": {},
     "output_type": "execute_result"
    }
   ],
   "source": [
    "drug.mean()"
   ]
  },
  {
   "cell_type": "code",
   "execution_count": 6,
   "id": "0469fa60",
   "metadata": {},
   "outputs": [
    {
     "data": {
      "text/plain": [
       "<AxesSubplot:ylabel='Frequency'>"
      ]
     },
     "execution_count": 6,
     "metadata": {},
     "output_type": "execute_result"
    },
    {
     "data": {
      "image/png": "[encoded data removed]",
      "text/plain": [
       "<Figure size 640x480 with 1 Axes>"
      ]
     },
     "metadata": {},
     "output_type": "display_data"
    }
   ],
   "source": [
    "drug.plot.hist()"
   ]
  },
  {
   "cell_type": "code",
   "execution_count": 7,
   "id": "a5d7db55",
   "metadata": {},
   "outputs": [
    {
     "data": {
      "text/html": [
       "<div>\n",
       "<style scoped>\n",
       "    .dataframe tbody tr th:only-of-type {\n",
       "        vertical-align: middle;\n",
       "    }\n",
       "\n",
       "    .dataframe tbody tr th {\n",
       "        vertical-align: top;\n",
       "    }\n",
       "\n",
       "    .dataframe thead th {\n",
       "        text-align: right;\n",
       "    }\n",
       "</style>\n",
       "<table border=\"1\" class=\"dataframe\">\n",
       "  <thead>\n",
       "    <tr style=\"text-align: right;\">\n",
       "      <th></th>\n",
       "      <th>Cell Line</th>\n",
       "      <th>Acetone ; Propanal ; acetone</th>\n",
       "      <th>Acetaldehyde oxime ; HMDB01122</th>\n",
       "      <th>acetate</th>\n",
       "      <th>Urea</th>\n",
       "      <th>Isopropyl alcohol ; Propyl alcohol</th>\n",
       "      <th>Bicarbonate ; Hydrogen carbonate</th>\n",
       "      <th>Dimethylsulfide</th>\n",
       "      <th>3-Butyn-1-al</th>\n",
       "      <th>1-pyrrolinium</th>\n",
       "      <th>...</th>\n",
       "      <th>2,4,7,10-hexadecatetraenoylcoa ; 2,7,10,13-hexadecatetraenoylcoa ; 2E,4Z,7Z,10Z-hexadecatetraenoyl-CoA ; 3,7,10,13-hexadecatetraenoylcoa ; 4,7,10,13-hexadecatetraenoylcoa</th>\n",
       "      <th>O-b-D-glucopyranosyl-(1-&gt;3)-O-2-(acetylamino)-2-deoxy-b-D-glucopyranosyl-(1-&gt;3)-O-[6-deoxy-a-L-galactopyranosyl-(1-&gt;4)]-O-b-D-galactopyranosyl-(1-&gt;4)-O-[6-deoxy-a-L-galactopyranosyl-(1-&gt;3)]-D-Glucose</th>\n",
       "      <th>LS tetrasaccharide d ; Sialyllacto-N-neotetraose c ; Sialyllacto-N-tetraose a ; Sialyllacto-N-tetraose b ; Sialyllacto-N-tetraose c</th>\n",
       "      <th>PIP2(16:0/18:0) ; PIP2(18:0/16:0)</th>\n",
       "      <th>TG(22:5(7Z,10Z,13Z,16Z,19Z)/20:5(5Z,8Z,11Z,14Z,17Z)/22:6(4Z,7Z,10Z,13Z,16Z,19Z))[iso6] ; TG(22:6(4Z,7Z,10Z,13Z,16Z,19Z)/20:4(5Z,8Z,11Z,14Z)/22:6(4Z,7Z,10Z,13Z,16Z,19Z))[iso3]</th>\n",
       "      <th>(2E)-Hexadecenoyl-CoA ; 2,7,10-hexadecatrienoylcoa ; 3,7,10-hexadecatrienoylcoa ; 3Z,7Z,10Z-hexadecatrienoyl-CoA ; 4,7,10-hexadecatrienoylcoa ; 4Z,7Z,10Z-hexadecatrienoyl-CoA ; 7,10,13-hexadecatrienoylcoa ; trans,cis,cis-2,7,10-hexadecatrienoyl-CoA</th>\n",
       "      <th>Lacto-N-difucohexaose ; Lacto-N-difucopentaose II</th>\n",
       "      <th>Galabiosylceramide (d18:1/26:1(17Z)) ; Lactosylceramide (d18:1/26:1(17Z))</th>\n",
       "      <th>cells</th>\n",
       "      <th>Cell names</th>\n",
       "    </tr>\n",
       "  </thead>\n",
       "  <tbody>\n",
       "    <tr>\n",
       "      <th>0</th>\n",
       "      <td>Breast_BT549</td>\n",
       "      <td>0.021811</td>\n",
       "      <td>0.006137</td>\n",
       "      <td>1.801231</td>\n",
       "      <td>0.178675</td>\n",
       "      <td>0.031762</td>\n",
       "      <td>0.143416</td>\n",
       "      <td>0.004437</td>\n",
       "      <td>0.001118</td>\n",
       "      <td>0.002353</td>\n",
       "      <td>...</td>\n",
       "      <td>0.0293</td>\n",
       "      <td>0.036367</td>\n",
       "      <td>0.025836</td>\n",
       "      <td>0.075427</td>\n",
       "      <td>0.036502</td>\n",
       "      <td>0.019935</td>\n",
       "      <td>0.03282</td>\n",
       "      <td>0.039391</td>\n",
       "      <td>BT549</td>\n",
       "      <td>BR:BT-549</td>\n",
       "    </tr>\n",
       "  </tbody>\n",
       "</table>\n",
       "<p>1 rows × 2184 columns</p>\n",
       "</div>"
      ],
      "text/plain": [
       "      Cell Line  Acetone ; Propanal ; acetone  Acetaldehyde oxime ; HMDB01122  \\\n",
       "0  Breast_BT549                      0.021811                        0.006137   \n",
       "\n",
       "    acetate      Urea  Isopropyl alcohol ; Propyl alcohol  \\\n",
       "0  1.801231  0.178675                            0.031762   \n",
       "\n",
       "   Bicarbonate ; Hydrogen carbonate  Dimethylsulfide  3-Butyn-1-al  \\\n",
       "0                          0.143416         0.004437      0.001118   \n",
       "\n",
       "   1-pyrrolinium  ...  \\\n",
       "0       0.002353  ...   \n",
       "\n",
       "   2,4,7,10-hexadecatetraenoylcoa ; 2,7,10,13-hexadecatetraenoylcoa ; 2E,4Z,7Z,10Z-hexadecatetraenoyl-CoA ; 3,7,10,13-hexadecatetraenoylcoa ; 4,7,10,13-hexadecatetraenoylcoa  \\\n",
       "0                                             0.0293                                                                                                                            \n",
       "\n",
       "   O-b-D-glucopyranosyl-(1->3)-O-2-(acetylamino)-2-deoxy-b-D-glucopyranosyl-(1->3)-O-[6-deoxy-a-L-galactopyranosyl-(1->4)]-O-b-D-galactopyranosyl-(1->4)-O-[6-deoxy-a-L-galactopyranosyl-(1->3)]-D-Glucose  \\\n",
       "0                                           0.036367                                                                                                                                                         \n",
       "\n",
       "   LS tetrasaccharide d ; Sialyllacto-N-neotetraose c ; Sialyllacto-N-tetraose a ; Sialyllacto-N-tetraose b ; Sialyllacto-N-tetraose c  \\\n",
       "0                                           0.025836                                                                                     \n",
       "\n",
       "   PIP2(16:0/18:0) ; PIP2(18:0/16:0)  \\\n",
       "0                           0.075427   \n",
       "\n",
       "   TG(22:5(7Z,10Z,13Z,16Z,19Z)/20:5(5Z,8Z,11Z,14Z,17Z)/22:6(4Z,7Z,10Z,13Z,16Z,19Z))[iso6] ; TG(22:6(4Z,7Z,10Z,13Z,16Z,19Z)/20:4(5Z,8Z,11Z,14Z)/22:6(4Z,7Z,10Z,13Z,16Z,19Z))[iso3]  \\\n",
       "0                                           0.036502                                                                                                                                \n",
       "\n",
       "   (2E)-Hexadecenoyl-CoA ; 2,7,10-hexadecatrienoylcoa ; 3,7,10-hexadecatrienoylcoa ; 3Z,7Z,10Z-hexadecatrienoyl-CoA ; 4,7,10-hexadecatrienoylcoa ; 4Z,7Z,10Z-hexadecatrienoyl-CoA ; 7,10,13-hexadecatrienoylcoa ; trans,cis,cis-2,7,10-hexadecatrienoyl-CoA  \\\n",
       "0                                           0.019935                                                                                                                                                                                                          \n",
       "\n",
       "   Lacto-N-difucohexaose ; Lacto-N-difucopentaose II  \\\n",
       "0                                            0.03282   \n",
       "\n",
       "   Galabiosylceramide (d18:1/26:1(17Z)) ; Lactosylceramide (d18:1/26:1(17Z))  \\\n",
       "0                                           0.039391                           \n",
       "\n",
       "   cells  Cell names  \n",
       "0  BT549   BR:BT-549  \n",
       "\n",
       "[1 rows x 2184 columns]"
      ]
     },
     "execution_count": 7,
     "metadata": {},
     "output_type": "execute_result"
    }
   ],
   "source": [
    "data.head(1)"
   ]
  },
  {
   "cell_type": "code",
   "execution_count": 8,
   "id": "ed3a2976",
   "metadata": {},
   "outputs": [
    {
     "data": {
      "text/html": [
       "<div>\n",
       "<style scoped>\n",
       "    .dataframe tbody tr th:only-of-type {\n",
       "        vertical-align: middle;\n",
       "    }\n",
       "\n",
       "    .dataframe tbody tr th {\n",
       "        vertical-align: top;\n",
       "    }\n",
       "\n",
       "    .dataframe thead th {\n",
       "        text-align: right;\n",
       "    }\n",
       "</style>\n",
       "<table border=\"1\" class=\"dataframe\">\n",
       "  <thead>\n",
       "    <tr style=\"text-align: right;\">\n",
       "      <th></th>\n",
       "      <th>Acetone ; Propanal ; acetone</th>\n",
       "      <th>Acetaldehyde oxime ; HMDB01122</th>\n",
       "      <th>acetate</th>\n",
       "      <th>Urea</th>\n",
       "      <th>Isopropyl alcohol ; Propyl alcohol</th>\n",
       "      <th>Bicarbonate ; Hydrogen carbonate</th>\n",
       "      <th>Dimethylsulfide</th>\n",
       "      <th>3-Butyn-1-al</th>\n",
       "      <th>1-pyrrolinium</th>\n",
       "      <th>Acrylamide</th>\n",
       "      <th>...</th>\n",
       "      <th>PIP2(16:0/18:1(11Z)) ; PIP2(16:0/18:1(9Z)) ; PIP2(16:1(9Z)/18:0) ; PIP2(18:0/16:1(9Z)) ; PIP2(18:1(11Z)/16:0) ; PIP2(18:1(9Z)/16:0)</th>\n",
       "      <th>TG(22:6(4Z,7Z,10Z,13Z,16Z,19Z)/20:5(5Z,8Z,11Z,14Z,17Z)/22:6(4Z,7Z,10Z,13Z,16Z,19Z))[iso3]</th>\n",
       "      <th>2,4,7,10-hexadecatetraenoylcoa ; 2,7,10,13-hexadecatetraenoylcoa ; 2E,4Z,7Z,10Z-hexadecatetraenoyl-CoA ; 3,7,10,13-hexadecatetraenoylcoa ; 4,7,10,13-hexadecatetraenoylcoa</th>\n",
       "      <th>O-b-D-glucopyranosyl-(1-&gt;3)-O-2-(acetylamino)-2-deoxy-b-D-glucopyranosyl-(1-&gt;3)-O-[6-deoxy-a-L-galactopyranosyl-(1-&gt;4)]-O-b-D-galactopyranosyl-(1-&gt;4)-O-[6-deoxy-a-L-galactopyranosyl-(1-&gt;3)]-D-Glucose</th>\n",
       "      <th>LS tetrasaccharide d ; Sialyllacto-N-neotetraose c ; Sialyllacto-N-tetraose a ; Sialyllacto-N-tetraose b ; Sialyllacto-N-tetraose c</th>\n",
       "      <th>PIP2(16:0/18:0) ; PIP2(18:0/16:0)</th>\n",
       "      <th>TG(22:5(7Z,10Z,13Z,16Z,19Z)/20:5(5Z,8Z,11Z,14Z,17Z)/22:6(4Z,7Z,10Z,13Z,16Z,19Z))[iso6] ; TG(22:6(4Z,7Z,10Z,13Z,16Z,19Z)/20:4(5Z,8Z,11Z,14Z)/22:6(4Z,7Z,10Z,13Z,16Z,19Z))[iso3]</th>\n",
       "      <th>(2E)-Hexadecenoyl-CoA ; 2,7,10-hexadecatrienoylcoa ; 3,7,10-hexadecatrienoylcoa ; 3Z,7Z,10Z-hexadecatrienoyl-CoA ; 4,7,10-hexadecatrienoylcoa ; 4Z,7Z,10Z-hexadecatrienoyl-CoA ; 7,10,13-hexadecatrienoylcoa ; trans,cis,cis-2,7,10-hexadecatrienoyl-CoA</th>\n",
       "      <th>Lacto-N-difucohexaose ; Lacto-N-difucopentaose II</th>\n",
       "      <th>Galabiosylceramide (d18:1/26:1(17Z)) ; Lactosylceramide (d18:1/26:1(17Z))</th>\n",
       "    </tr>\n",
       "  </thead>\n",
       "  <tbody>\n",
       "    <tr>\n",
       "      <th>0</th>\n",
       "      <td>0.021811</td>\n",
       "      <td>0.006137</td>\n",
       "      <td>1.801231</td>\n",
       "      <td>0.178675</td>\n",
       "      <td>0.031762</td>\n",
       "      <td>0.143416</td>\n",
       "      <td>0.004437</td>\n",
       "      <td>0.001118</td>\n",
       "      <td>0.002353</td>\n",
       "      <td>0.013185</td>\n",
       "      <td>...</td>\n",
       "      <td>0.071269</td>\n",
       "      <td>0.029462</td>\n",
       "      <td>0.029300</td>\n",
       "      <td>0.036367</td>\n",
       "      <td>0.025836</td>\n",
       "      <td>0.075427</td>\n",
       "      <td>0.036502</td>\n",
       "      <td>0.019935</td>\n",
       "      <td>0.032820</td>\n",
       "      <td>0.039391</td>\n",
       "    </tr>\n",
       "    <tr>\n",
       "      <th>1</th>\n",
       "      <td>0.010611</td>\n",
       "      <td>0.006815</td>\n",
       "      <td>0.884542</td>\n",
       "      <td>0.093390</td>\n",
       "      <td>0.016027</td>\n",
       "      <td>0.037372</td>\n",
       "      <td>NaN</td>\n",
       "      <td>0.005778</td>\n",
       "      <td>0.003199</td>\n",
       "      <td>0.011203</td>\n",
       "      <td>...</td>\n",
       "      <td>0.059958</td>\n",
       "      <td>0.026807</td>\n",
       "      <td>0.021282</td>\n",
       "      <td>0.024981</td>\n",
       "      <td>0.013982</td>\n",
       "      <td>0.054200</td>\n",
       "      <td>0.029125</td>\n",
       "      <td>0.010750</td>\n",
       "      <td>0.015981</td>\n",
       "      <td>0.035154</td>\n",
       "    </tr>\n",
       "  </tbody>\n",
       "</table>\n",
       "<p>2 rows × 2181 columns</p>\n",
       "</div>"
      ],
      "text/plain": [
       "   Acetone ; Propanal ; acetone  Acetaldehyde oxime ; HMDB01122   acetate  \\\n",
       "0                      0.021811                        0.006137  1.801231   \n",
       "1                      0.010611                        0.006815  0.884542   \n",
       "\n",
       "       Urea  Isopropyl alcohol ; Propyl alcohol  \\\n",
       "0  0.178675                            0.031762   \n",
       "1  0.093390                            0.016027   \n",
       "\n",
       "   Bicarbonate ; Hydrogen carbonate  Dimethylsulfide  3-Butyn-1-al  \\\n",
       "0                          0.143416         0.004437      0.001118   \n",
       "1                          0.037372              NaN      0.005778   \n",
       "\n",
       "   1-pyrrolinium  Acrylamide  ...  \\\n",
       "0       0.002353    0.013185  ...   \n",
       "1       0.003199    0.011203  ...   \n",
       "\n",
       "   PIP2(16:0/18:1(11Z)) ; PIP2(16:0/18:1(9Z)) ; PIP2(16:1(9Z)/18:0) ; PIP2(18:0/16:1(9Z)) ; PIP2(18:1(11Z)/16:0) ; PIP2(18:1(9Z)/16:0)  \\\n",
       "0                                           0.071269                                                                                     \n",
       "1                                           0.059958                                                                                     \n",
       "\n",
       "   TG(22:6(4Z,7Z,10Z,13Z,16Z,19Z)/20:5(5Z,8Z,11Z,14Z,17Z)/22:6(4Z,7Z,10Z,13Z,16Z,19Z))[iso3]  \\\n",
       "0                                           0.029462                                           \n",
       "1                                           0.026807                                           \n",
       "\n",
       "   2,4,7,10-hexadecatetraenoylcoa ; 2,7,10,13-hexadecatetraenoylcoa ; 2E,4Z,7Z,10Z-hexadecatetraenoyl-CoA ; 3,7,10,13-hexadecatetraenoylcoa ; 4,7,10,13-hexadecatetraenoylcoa  \\\n",
       "0                                           0.029300                                                                                                                            \n",
       "1                                           0.021282                                                                                                                            \n",
       "\n",
       "   O-b-D-glucopyranosyl-(1->3)-O-2-(acetylamino)-2-deoxy-b-D-glucopyranosyl-(1->3)-O-[6-deoxy-a-L-galactopyranosyl-(1->4)]-O-b-D-galactopyranosyl-(1->4)-O-[6-deoxy-a-L-galactopyranosyl-(1->3)]-D-Glucose  \\\n",
       "0                                           0.036367                                                                                                                                                         \n",
       "1                                           0.024981                                                                                                                                                         \n",
       "\n",
       "   LS tetrasaccharide d ; Sialyllacto-N-neotetraose c ; Sialyllacto-N-tetraose a ; Sialyllacto-N-tetraose b ; Sialyllacto-N-tetraose c  \\\n",
       "0                                           0.025836                                                                                     \n",
       "1                                           0.013982                                                                                     \n",
       "\n",
       "   PIP2(16:0/18:0) ; PIP2(18:0/16:0)  \\\n",
       "0                           0.075427   \n",
       "1                           0.054200   \n",
       "\n",
       "   TG(22:5(7Z,10Z,13Z,16Z,19Z)/20:5(5Z,8Z,11Z,14Z,17Z)/22:6(4Z,7Z,10Z,13Z,16Z,19Z))[iso6] ; TG(22:6(4Z,7Z,10Z,13Z,16Z,19Z)/20:4(5Z,8Z,11Z,14Z)/22:6(4Z,7Z,10Z,13Z,16Z,19Z))[iso3]  \\\n",
       "0                                           0.036502                                                                                                                                \n",
       "1                                           0.029125                                                                                                                                \n",
       "\n",
       "   (2E)-Hexadecenoyl-CoA ; 2,7,10-hexadecatrienoylcoa ; 3,7,10-hexadecatrienoylcoa ; 3Z,7Z,10Z-hexadecatrienoyl-CoA ; 4,7,10-hexadecatrienoylcoa ; 4Z,7Z,10Z-hexadecatrienoyl-CoA ; 7,10,13-hexadecatrienoylcoa ; trans,cis,cis-2,7,10-hexadecatrienoyl-CoA  \\\n",
       "0                                           0.019935                                                                                                                                                                                                          \n",
       "1                                           0.010750                                                                                                                                                                                                          \n",
       "\n",
       "   Lacto-N-difucohexaose ; Lacto-N-difucopentaose II  \\\n",
       "0                                           0.032820   \n",
       "1                                           0.015981   \n",
       "\n",
       "   Galabiosylceramide (d18:1/26:1(17Z)) ; Lactosylceramide (d18:1/26:1(17Z))  \n",
       "0                                           0.039391                          \n",
       "1                                           0.035154                          \n",
       "\n",
       "[2 rows x 2181 columns]"
      ]
     },
     "execution_count": 8,
     "metadata": {},
     "output_type": "execute_result"
    }
   ],
   "source": [
    "X = data.select_dtypes('float64')\n",
    "X.head(2)"
   ]
  },
  {
   "cell_type": "code",
   "execution_count": 9,
   "id": "077d7b9d",
   "metadata": {},
   "outputs": [
    {
     "data": {
      "text/plain": [
       "(49, 2181)"
      ]
     },
     "execution_count": 9,
     "metadata": {},
     "output_type": "execute_result"
    }
   ],
   "source": [
    "X.shape"
   ]
  },
  {
   "cell_type": "code",
   "execution_count": 10,
   "id": "ae189b8e",
   "metadata": {},
   "outputs": [],
   "source": [
    "X.fillna(0.0, inplace=True)"
   ]
  },
  {
   "cell_type": "code",
   "execution_count": 11,
   "id": "6d78ec77",
   "metadata": {},
   "outputs": [],
   "source": [
    "labels = []\n",
    "drug_mean = drug.mean()\n",
    "for i in drug:\n",
    "    if i >= drug_mean:\n",
    "        labels.append('N')\n",
    "    else:\n",
    "        labels.append('R')\n",
    "y = pd.Series(labels)"
   ]
  },
  {
   "cell_type": "code",
   "execution_count": 12,
   "id": "ee59b0d5",
   "metadata": {},
   "outputs": [
    {
     "data": {
      "text/plain": [
       "(49,)"
      ]
     },
     "execution_count": 12,
     "metadata": {},
     "output_type": "execute_result"
    }
   ],
   "source": [
    "y.shape"
   ]
  },
  {
   "cell_type": "code",
   "execution_count": 13,
   "id": "16ddf689",
   "metadata": {},
   "outputs": [
    {
     "data": {
      "text/plain": [
       "N    25\n",
       "R    24\n",
       "dtype: int64"
      ]
     },
     "execution_count": 13,
     "metadata": {},
     "output_type": "execute_result"
    }
   ],
   "source": [
    "y.value_counts()"
   ]
  },
  {
   "cell_type": "code",
   "execution_count": 14,
   "id": "223ac5fb",
   "metadata": {},
   "outputs": [],
   "source": [
    "from sklearn.preprocessing import LabelEncoder\n",
    "\n",
    "le = LabelEncoder()\n",
    "y = le.fit_transform(y)"
   ]
  },
  {
   "cell_type": "code",
   "execution_count": 15,
   "id": "4be33719",
   "metadata": {},
   "outputs": [],
   "source": [
    "y = pd.Series(y)"
   ]
  },
  {
   "cell_type": "code",
   "execution_count": 16,
   "id": "ae54dc38",
   "metadata": {},
   "outputs": [
    {
     "data": {
      "text/plain": [
       "0    25\n",
       "1    24\n",
       "dtype: int64"
      ]
     },
     "execution_count": 16,
     "metadata": {},
     "output_type": "execute_result"
    }
   ],
   "source": [
    "y.value_counts()"
   ]
  },
  {
   "cell_type": "code",
   "execution_count": 17,
   "id": "a6468038",
   "metadata": {},
   "outputs": [
    {
     "data": {
      "text/plain": [
       "RFECV(cv=5, estimator=SVC(C=1, kernel='linear'), scoring='accuracy')"
      ]
     },
     "execution_count": 17,
     "metadata": {},
     "output_type": "execute_result"
    }
   ],
   "source": [
    "rfecv = RFECV(estimator = SVC(kernel='linear', C=1), step = 1, cv = 5, scoring = 'accuracy')\n",
    "rfecv.fit(X, y)"
   ]
  },
  {
   "cell_type": "code",
   "execution_count": 18,
   "id": "00e3e98d",
   "metadata": {},
   "outputs": [
    {
     "data": {
      "text/plain": [
       "5"
      ]
     },
     "execution_count": 18,
     "metadata": {},
     "output_type": "execute_result"
    }
   ],
   "source": [
    "rfecv.n_features_"
   ]
  },
  {
   "cell_type": "code",
   "execution_count": 19,
   "id": "4c8eccf8",
   "metadata": {},
   "outputs": [
    {
     "data": {
      "image/png": "[encoded data removed]",
      "text/plain": [
       "<Figure size 640x480 with 1 Axes>"
      ]
     },
     "metadata": {},
     "output_type": "display_data"
    }
   ],
   "source": [
    "import matplotlib.pyplot as plt\n",
    "\n",
    "plt.figure()\n",
    "plt.ylabel('Accuracy score')\n",
    "plt.xlabel('Number of features selected')\n",
    "plt.title('RFECV elbow plot')\n",
    "plt.plot(range(1, len(rfecv.grid_scores_) + 1), rfecv.grid_scores_)\n",
    "plt.show()"
   ]
  },
  {
   "cell_type": "code",
   "execution_count": 20,
   "id": "1140bd7a",
   "metadata": {},
   "outputs": [],
   "source": [
    "features = rfecv.n_features_"
   ]
  },
  {
   "cell_type": "code",
   "execution_count": 21,
   "id": "04b1d1b8",
   "metadata": {},
   "outputs": [],
   "source": [
    "x_ = pd.DataFrame(rfecv.transform(X), columns = X.columns[rfecv.get_support(0)])"
   ]
  },
  {
   "cell_type": "code",
   "execution_count": 23,
   "id": "2826f836",
   "metadata": {},
   "outputs": [],
   "source": [
    "from sklearn.metrics import confusion_matrix\n",
    "\n",
    "acc_svm, acc_rf, acc_ada, acc_xg = [], [], [], []\n",
    "f1_svm, f1_rf, f1_ada, f1_xg = [], [], [], []\n",
    "conf_svm = [[0.0, 0.0], [0.0, 0.0]]\n",
    "conf_rf = [[0.0, 0.0], [0.0, 0.0]]\n",
    "conf_ada = [[0.0, 0.0], [0.0, 0.0]]\n",
    "conf_xg = [[0.0, 0.0], [0.0, 0.0]]\n",
    "model1 = SVC(kernel = 'linear', C=1, gamma='auto')\n",
    "model2 = RandomForestClassifier(criterion=\"gini\", n_estimators = 300, random_state = 3)\n",
    "model3 = AdaBoostClassifier(n_estimators = 300, learning_rate = 1.0, random_state = 3)\n",
    "model4 = XGBClassifier()\n",
    "kf = StratifiedKFold(n_splits = 5, shuffle=True, random_state = 43)\n",
    "for train_index, test_index in kf.split(X, y):\n",
    "    X_train, y_train = X.iloc[train_index], y.iloc[train_index]\n",
    "    X_test, y_test = X.iloc[test_index], y.iloc[test_index]\n",
    "    rfe = RFE(estimator = model2, n_features_to_select = features, step=1)\n",
    "    rfe.fit(X_train, y_train)\n",
    "    X_train = pd.DataFrame(rfe.transform(X_train), columns = X_train.columns[rfe.get_support(0)])\n",
    "    X_test = pd.DataFrame(rfe.transform(X_test), columns = X_test.columns[rfe.get_support(0)])\n",
    "    model1.fit(X_train, y_train)\n",
    "    model2.fit(X_train, y_train)\n",
    "    model3.fit(X_train, y_train)\n",
    "    model4.fit(X_train, y_train)\n",
    "    pred_svm = model2.predict(X_test)\n",
    "    pred_rf = model2.predict(X_test)\n",
    "    pred_ada = model3.predict(X_test)\n",
    "    pred_xg = model4.predict(X_test)\n",
    "    acc_svm.append(accuracy_score(y_test, pred_svm))\n",
    "    acc_rf.append(accuracy_score(y_test, pred_rf))\n",
    "    acc_ada.append(accuracy_score(y_test,pred_ada))\n",
    "    acc_xg.append(accuracy_score(y_test, pred_xg))\n",
    "    f1_svm.append(f1_score(y_test, pred_svm))\n",
    "    f1_rf.append(f1_score(y_test, pred_rf))\n",
    "    f1_ada.append(f1_score(y_test, pred_ada))\n",
    "    f1_xg.append(f1_score(y_test, pred_xg))\n",
    "    conf_svm += confusion_matrix(y_test, pred_svm)\n",
    "    conf_rf += confusion_matrix(y_test, pred_rf)\n",
    "    conf_ada += confusion_matrix(y_test, pred_ada)\n",
    "    conf_xg += confusion_matrix(y_test, pred_xg)"
   ]
  },
  {
   "cell_type": "code",
   "execution_count": 24,
   "id": "335a52a2",
   "metadata": {},
   "outputs": [
    {
     "data": {
      "text/plain": [
       "0.5733333333333334"
      ]
     },
     "execution_count": 24,
     "metadata": {},
     "output_type": "execute_result"
    }
   ],
   "source": [
    "sum(acc_svm)/len(acc_svm)"
   ]
  },
  {
   "cell_type": "code",
   "execution_count": 25,
   "id": "3dac0fa1",
   "metadata": {},
   "outputs": [
    {
     "data": {
      "text/plain": [
       "0.5733333333333334"
      ]
     },
     "execution_count": 25,
     "metadata": {},
     "output_type": "execute_result"
    }
   ],
   "source": [
    "sum(acc_rf)/len(acc_rf)"
   ]
  },
  {
   "cell_type": "code",
   "execution_count": 26,
   "id": "2fa7be26",
   "metadata": {},
   "outputs": [
    {
     "data": {
      "text/plain": [
       "0.611111111111111"
      ]
     },
     "execution_count": 26,
     "metadata": {},
     "output_type": "execute_result"
    }
   ],
   "source": [
    "sum(acc_ada)/len(acc_ada)"
   ]
  },
  {
   "cell_type": "code",
   "execution_count": 27,
   "id": "085b9c2b",
   "metadata": {},
   "outputs": [
    {
     "data": {
      "text/plain": [
       "0.5854545454545454"
      ]
     },
     "execution_count": 27,
     "metadata": {},
     "output_type": "execute_result"
    }
   ],
   "source": [
    "sum(f1_ada)/len(f1_ada)"
   ]
  },
  {
   "cell_type": "code",
   "execution_count": 28,
   "id": "1fc02f76",
   "metadata": {},
   "outputs": [
    {
     "data": {
      "text/plain": [
       "0.5541125541125541"
      ]
     },
     "execution_count": 28,
     "metadata": {},
     "output_type": "execute_result"
    }
   ],
   "source": [
    "sum(f1_rf)/len(f1_rf)"
   ]
  },
  {
   "cell_type": "code",
   "execution_count": 29,
   "id": "2abc8c33",
   "metadata": {},
   "outputs": [
    {
     "data": {
      "text/plain": [
       "0.5541125541125541"
      ]
     },
     "execution_count": 29,
     "metadata": {},
     "output_type": "execute_result"
    }
   ],
   "source": [
    "sum(f1_svm)/len(f1_svm)"
   ]
  },
  {
   "cell_type": "code",
   "execution_count": 30,
   "id": "5d67d912",
   "metadata": {},
   "outputs": [
    {
     "data": {
      "text/plain": [
       "0.571111111111111"
      ]
     },
     "execution_count": 30,
     "metadata": {},
     "output_type": "execute_result"
    }
   ],
   "source": [
    "sum(acc_xg)/len(acc_xg)"
   ]
  },
  {
   "cell_type": "code",
   "execution_count": 31,
   "id": "6ad0face",
   "metadata": {},
   "outputs": [
    {
     "data": {
      "text/plain": [
       "0.5907536907536908"
      ]
     },
     "execution_count": 31,
     "metadata": {},
     "output_type": "execute_result"
    }
   ],
   "source": [
    "sum(f1_xg)/len(f1_xg)"
   ]
  },
  {
   "cell_type": "code",
   "execution_count": 32,
   "id": "2fb1bcb1",
   "metadata": {},
   "outputs": [
    {
     "data": {
      "text/plain": [
       "<AxesSubplot:>"
      ]
     },
     "execution_count": 32,
     "metadata": {},
     "output_type": "execute_result"
    },
    {
     "data": {
      "image/png": "[encoded data removed]",
      "text/plain": [
       "<Figure size 640x480 with 2 Axes>"
      ]
     },
     "metadata": {},
     "output_type": "display_data"
    }
   ],
   "source": [
    "sns.heatmap(conf_svm, annot=True)"
   ]
  },
  {
   "cell_type": "code",
   "execution_count": 33,
   "id": "a29cc421",
   "metadata": {},
   "outputs": [
    {
     "data": {
      "text/plain": [
       "<AxesSubplot:>"
      ]
     },
     "execution_count": 33,
     "metadata": {},
     "output_type": "execute_result"
    },
    {
     "data": {
      "image/png": "[encoded data removed]",
      "text/plain": [
       "<Figure size 640x480 with 2 Axes>"
      ]
     },
     "metadata": {},
     "output_type": "display_data"
    }
   ],
   "source": [
    "sns.heatmap(conf_ada, annot=True)"
   ]
  },
  {
   "cell_type": "code",
   "execution_count": 34,
   "id": "24366b3e",
   "metadata": {},
   "outputs": [
    {
     "data": {
      "text/plain": [
       "<AxesSubplot:>"
      ]
     },
     "execution_count": 34,
     "metadata": {},
     "output_type": "execute_result"
    },
    {
     "data": {
      "image/png": "[encoded data removed]",
      "text/plain": [
       "<Figure size 640x480 with 2 Axes>"
      ]
     },
     "metadata": {},
     "output_type": "display_data"
    }
   ],
   "source": [
    "sns.heatmap(conf_rf, annot=True)"
   ]
  },
  {
   "cell_type": "code",
   "execution_count": 35,
   "id": "2a199e77",
   "metadata": {},
   "outputs": [
    {
     "data": {
      "text/plain": [
       "<AxesSubplot:>"
      ]
     },
     "execution_count": 35,
     "metadata": {},
     "output_type": "execute_result"
    },
    {
     "data": {
      "image/png": "[encoded data removed]",
      "text/plain": [
       "<Figure size 640x480 with 2 Axes>"
      ]
     },
     "metadata": {},
     "output_type": "display_data"
    }
   ],
   "source": [
    "sns.heatmap(conf_xg, annot=True)"
   ]
  },
  {
   "cell_type": "code",
   "execution_count": null,
   "id": "3c793322",
   "metadata": {},
   "outputs": [],
   "source": []
  }
 ],
 "metadata": {
  "kernelspec": {
   "display_name": "Python 3 (ipykernel)",
   "language": "python",
   "name": "python3"
  },
  "language_info": {
   "codemirror_mode": {
    "name": "ipython",
    "version": 3
   },
   "file_extension": ".py",
   "mimetype": "text/x-python",
   "name": "python",
   "nbconvert_exporter": "python",
   "pygments_lexer": "ipython3",
   "version": "3.9.13"
  }
 },
 "nbformat": 4,
 "nbformat_minor": 5
}
