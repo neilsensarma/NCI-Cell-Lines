{
 "cells": [
  {
   "cell_type": "code",
   "execution_count": 1,
   "id": "1374c194",
   "metadata": {},
   "outputs": [],
   "source": [
    "import numpy as np\n",
    "import pandas as pd\n",
    "from sklearn.preprocessing import MinMaxScaler, StandardScaler\n",
    "from sklearn.feature_selection import RFE, RFECV\n",
    "from sklearn.model_selection import StratifiedKFold, RepeatedStratifiedKFold\n",
    "from sklearn.svm import SVC\n",
    "from sklearn.ensemble import RandomForestClassifier, AdaBoostClassifier\n",
    "from sklearn.tree import DecisionTreeClassifier\n",
    "from xgboost import XGBClassifier\n",
    "from sklearn.metrics import accuracy_score, f1_score, recall_score, precision_score\n",
    "import seaborn as sns\n",
    "from warnings import filterwarnings\n",
    "import matplotlib.pyplot as plt\n",
    "filterwarnings('ignore')"
   ]
  },
  {
   "cell_type": "code",
   "execution_count": 2,
   "id": "2060d680",
   "metadata": {},
   "outputs": [
    {
     "data": {
      "text/html": [
       "<div>\n",
       "<style scoped>\n",
       "    .dataframe tbody tr th:only-of-type {\n",
       "        vertical-align: middle;\n",
       "    }\n",
       "\n",
       "    .dataframe tbody tr th {\n",
       "        vertical-align: top;\n",
       "    }\n",
       "\n",
       "    .dataframe thead th {\n",
       "        text-align: right;\n",
       "    }\n",
       "</style>\n",
       "<table border=\"1\" class=\"dataframe\">\n",
       "  <thead>\n",
       "    <tr style=\"text-align: right;\">\n",
       "      <th></th>\n",
       "      <th>Cell Line</th>\n",
       "      <th>Acetone ; Propanal ; acetone</th>\n",
       "      <th>Acetaldehyde oxime ; HMDB01122</th>\n",
       "      <th>acetate</th>\n",
       "      <th>Urea</th>\n",
       "      <th>Isopropyl alcohol ; Propyl alcohol</th>\n",
       "      <th>Bicarbonate ; Hydrogen carbonate</th>\n",
       "      <th>Dimethylsulfide</th>\n",
       "      <th>3-Butyn-1-al</th>\n",
       "      <th>1-pyrrolinium</th>\n",
       "      <th>...</th>\n",
       "      <th>O-b-D-glucopyranosyl-(1-&gt;3)-O-2-(acetylamino)-2-deoxy-b-D-glucopyranosyl-(1-&gt;3)-O-[6-deoxy-a-L-galactopyranosyl-(1-&gt;4)]-O-b-D-galactopyranosyl-(1-&gt;4)-O-[6-deoxy-a-L-galactopyranosyl-(1-&gt;3)]-D-Glucose</th>\n",
       "      <th>LS tetrasaccharide d ; Sialyllacto-N-neotetraose c ; Sialyllacto-N-tetraose a ; Sialyllacto-N-tetraose b ; Sialyllacto-N-tetraose c</th>\n",
       "      <th>PIP2(16:0/18:0) ; PIP2(18:0/16:0)</th>\n",
       "      <th>TG(22:5(7Z,10Z,13Z,16Z,19Z)/20:5(5Z,8Z,11Z,14Z,17Z)/22:6(4Z,7Z,10Z,13Z,16Z,19Z))[iso6] ; TG(22:6(4Z,7Z,10Z,13Z,16Z,19Z)/20:4(5Z,8Z,11Z,14Z)/22:6(4Z,7Z,10Z,13Z,16Z,19Z))[iso3]</th>\n",
       "      <th>(2E)-Hexadecenoyl-CoA ; 2,7,10-hexadecatrienoylcoa ; 3,7,10-hexadecatrienoylcoa ; 3Z,7Z,10Z-hexadecatrienoyl-CoA ; 4,7,10-hexadecatrienoylcoa ; 4Z,7Z,10Z-hexadecatrienoyl-CoA ; 7,10,13-hexadecatrienoylcoa ; trans,cis,cis-2,7,10-hexadecatrienoyl-CoA</th>\n",
       "      <th>Lacto-N-difucohexaose ; Lacto-N-difucopentaose II</th>\n",
       "      <th>Galabiosylceramide (d18:1/26:1(17Z)) ; Lactosylceramide (d18:1/26:1(17Z))</th>\n",
       "      <th>cells</th>\n",
       "      <th>Cell names</th>\n",
       "      <th>Gefitinib</th>\n",
       "    </tr>\n",
       "  </thead>\n",
       "  <tbody>\n",
       "    <tr>\n",
       "      <th>0</th>\n",
       "      <td>Breast_BT549</td>\n",
       "      <td>0.021811</td>\n",
       "      <td>0.006137</td>\n",
       "      <td>1.801231</td>\n",
       "      <td>0.178675</td>\n",
       "      <td>0.031762</td>\n",
       "      <td>0.143416</td>\n",
       "      <td>0.004437</td>\n",
       "      <td>0.001118</td>\n",
       "      <td>0.002353</td>\n",
       "      <td>...</td>\n",
       "      <td>0.036367</td>\n",
       "      <td>0.025836</td>\n",
       "      <td>0.075427</td>\n",
       "      <td>0.036502</td>\n",
       "      <td>0.019935</td>\n",
       "      <td>0.032820</td>\n",
       "      <td>0.039391</td>\n",
       "      <td>BT549</td>\n",
       "      <td>BR:BT-549</td>\n",
       "      <td>4.286667</td>\n",
       "    </tr>\n",
       "    <tr>\n",
       "      <th>1</th>\n",
       "      <td>Breast_HS578T</td>\n",
       "      <td>0.010611</td>\n",
       "      <td>0.006815</td>\n",
       "      <td>0.884542</td>\n",
       "      <td>0.093390</td>\n",
       "      <td>0.016027</td>\n",
       "      <td>0.037372</td>\n",
       "      <td>NaN</td>\n",
       "      <td>0.005778</td>\n",
       "      <td>0.003199</td>\n",
       "      <td>...</td>\n",
       "      <td>0.024981</td>\n",
       "      <td>0.013982</td>\n",
       "      <td>0.054200</td>\n",
       "      <td>0.029125</td>\n",
       "      <td>0.010750</td>\n",
       "      <td>0.015981</td>\n",
       "      <td>0.035154</td>\n",
       "      <td>HS578T</td>\n",
       "      <td>BR:HS 578T</td>\n",
       "      <td>5.173333</td>\n",
       "    </tr>\n",
       "  </tbody>\n",
       "</table>\n",
       "<p>2 rows × 2185 columns</p>\n",
       "</div>"
      ],
      "text/plain": [
       "       Cell Line  Acetone ; Propanal ; acetone  \\\n",
       "0   Breast_BT549                      0.021811   \n",
       "1  Breast_HS578T                      0.010611   \n",
       "\n",
       "   Acetaldehyde oxime ; HMDB01122   acetate      Urea  \\\n",
       "0                        0.006137  1.801231  0.178675   \n",
       "1                        0.006815  0.884542  0.093390   \n",
       "\n",
       "   Isopropyl alcohol ; Propyl alcohol  Bicarbonate ; Hydrogen carbonate  \\\n",
       "0                            0.031762                          0.143416   \n",
       "1                            0.016027                          0.037372   \n",
       "\n",
       "   Dimethylsulfide  3-Butyn-1-al  1-pyrrolinium  ...  \\\n",
       "0         0.004437      0.001118       0.002353  ...   \n",
       "1              NaN      0.005778       0.003199  ...   \n",
       "\n",
       "   O-b-D-glucopyranosyl-(1->3)-O-2-(acetylamino)-2-deoxy-b-D-glucopyranosyl-(1->3)-O-[6-deoxy-a-L-galactopyranosyl-(1->4)]-O-b-D-galactopyranosyl-(1->4)-O-[6-deoxy-a-L-galactopyranosyl-(1->3)]-D-Glucose  \\\n",
       "0                                           0.036367                                                                                                                                                         \n",
       "1                                           0.024981                                                                                                                                                         \n",
       "\n",
       "   LS tetrasaccharide d ; Sialyllacto-N-neotetraose c ; Sialyllacto-N-tetraose a ; Sialyllacto-N-tetraose b ; Sialyllacto-N-tetraose c  \\\n",
       "0                                           0.025836                                                                                     \n",
       "1                                           0.013982                                                                                     \n",
       "\n",
       "   PIP2(16:0/18:0) ; PIP2(18:0/16:0)  \\\n",
       "0                           0.075427   \n",
       "1                           0.054200   \n",
       "\n",
       "   TG(22:5(7Z,10Z,13Z,16Z,19Z)/20:5(5Z,8Z,11Z,14Z,17Z)/22:6(4Z,7Z,10Z,13Z,16Z,19Z))[iso6] ; TG(22:6(4Z,7Z,10Z,13Z,16Z,19Z)/20:4(5Z,8Z,11Z,14Z)/22:6(4Z,7Z,10Z,13Z,16Z,19Z))[iso3]  \\\n",
       "0                                           0.036502                                                                                                                                \n",
       "1                                           0.029125                                                                                                                                \n",
       "\n",
       "   (2E)-Hexadecenoyl-CoA ; 2,7,10-hexadecatrienoylcoa ; 3,7,10-hexadecatrienoylcoa ; 3Z,7Z,10Z-hexadecatrienoyl-CoA ; 4,7,10-hexadecatrienoylcoa ; 4Z,7Z,10Z-hexadecatrienoyl-CoA ; 7,10,13-hexadecatrienoylcoa ; trans,cis,cis-2,7,10-hexadecatrienoyl-CoA  \\\n",
       "0                                           0.019935                                                                                                                                                                                                          \n",
       "1                                           0.010750                                                                                                                                                                                                          \n",
       "\n",
       "   Lacto-N-difucohexaose ; Lacto-N-difucopentaose II  \\\n",
       "0                                           0.032820   \n",
       "1                                           0.015981   \n",
       "\n",
       "   Galabiosylceramide (d18:1/26:1(17Z)) ; Lactosylceramide (d18:1/26:1(17Z))  \\\n",
       "0                                           0.039391                           \n",
       "1                                           0.035154                           \n",
       "\n",
       "    cells  Cell names  Gefitinib  \n",
       "0   BT549   BR:BT-549   4.286667  \n",
       "1  HS578T  BR:HS 578T   5.173333  \n",
       "\n",
       "[2 rows x 2185 columns]"
      ]
     },
     "execution_count": 2,
     "metadata": {},
     "output_type": "execute_result"
    }
   ],
   "source": [
    "data = pd.read_csv('C:\\\\Users\\\\nilav\\\\NCI Cell Lines\\\\Gefitinib_metabolic_NCI.csv')\n",
    "data.head(2)"
   ]
  },
  {
   "cell_type": "code",
   "execution_count": 3,
   "id": "6753e626",
   "metadata": {},
   "outputs": [
    {
     "data": {
      "text/plain": [
       "0    4.286667\n",
       "1    5.173333\n",
       "2    5.078333\n",
       "3    5.158333\n",
       "4    5.231667\n",
       "Name: Gefitinib, dtype: float64"
      ]
     },
     "execution_count": 3,
     "metadata": {},
     "output_type": "execute_result"
    }
   ],
   "source": [
    "drug = data.pop('Gefitinib')\n",
    "drug.head()"
   ]
  },
  {
   "cell_type": "code",
   "execution_count": 4,
   "id": "f17a45a5",
   "metadata": {},
   "outputs": [
    {
     "data": {
      "text/html": [
       "<div>\n",
       "<style scoped>\n",
       "    .dataframe tbody tr th:only-of-type {\n",
       "        vertical-align: middle;\n",
       "    }\n",
       "\n",
       "    .dataframe tbody tr th {\n",
       "        vertical-align: top;\n",
       "    }\n",
       "\n",
       "    .dataframe thead th {\n",
       "        text-align: right;\n",
       "    }\n",
       "</style>\n",
       "<table border=\"1\" class=\"dataframe\">\n",
       "  <thead>\n",
       "    <tr style=\"text-align: right;\">\n",
       "      <th></th>\n",
       "      <th>Acetone ; Propanal ; acetone</th>\n",
       "      <th>Acetaldehyde oxime ; HMDB01122</th>\n",
       "      <th>acetate</th>\n",
       "      <th>Urea</th>\n",
       "      <th>Isopropyl alcohol ; Propyl alcohol</th>\n",
       "      <th>Bicarbonate ; Hydrogen carbonate</th>\n",
       "      <th>Dimethylsulfide</th>\n",
       "      <th>3-Butyn-1-al</th>\n",
       "      <th>1-pyrrolinium</th>\n",
       "      <th>Acrylamide</th>\n",
       "      <th>...</th>\n",
       "      <th>PIP2(16:0/18:1(11Z)) ; PIP2(16:0/18:1(9Z)) ; PIP2(16:1(9Z)/18:0) ; PIP2(18:0/16:1(9Z)) ; PIP2(18:1(11Z)/16:0) ; PIP2(18:1(9Z)/16:0)</th>\n",
       "      <th>TG(22:6(4Z,7Z,10Z,13Z,16Z,19Z)/20:5(5Z,8Z,11Z,14Z,17Z)/22:6(4Z,7Z,10Z,13Z,16Z,19Z))[iso3]</th>\n",
       "      <th>2,4,7,10-hexadecatetraenoylcoa ; 2,7,10,13-hexadecatetraenoylcoa ; 2E,4Z,7Z,10Z-hexadecatetraenoyl-CoA ; 3,7,10,13-hexadecatetraenoylcoa ; 4,7,10,13-hexadecatetraenoylcoa</th>\n",
       "      <th>O-b-D-glucopyranosyl-(1-&gt;3)-O-2-(acetylamino)-2-deoxy-b-D-glucopyranosyl-(1-&gt;3)-O-[6-deoxy-a-L-galactopyranosyl-(1-&gt;4)]-O-b-D-galactopyranosyl-(1-&gt;4)-O-[6-deoxy-a-L-galactopyranosyl-(1-&gt;3)]-D-Glucose</th>\n",
       "      <th>LS tetrasaccharide d ; Sialyllacto-N-neotetraose c ; Sialyllacto-N-tetraose a ; Sialyllacto-N-tetraose b ; Sialyllacto-N-tetraose c</th>\n",
       "      <th>PIP2(16:0/18:0) ; PIP2(18:0/16:0)</th>\n",
       "      <th>TG(22:5(7Z,10Z,13Z,16Z,19Z)/20:5(5Z,8Z,11Z,14Z,17Z)/22:6(4Z,7Z,10Z,13Z,16Z,19Z))[iso6] ; TG(22:6(4Z,7Z,10Z,13Z,16Z,19Z)/20:4(5Z,8Z,11Z,14Z)/22:6(4Z,7Z,10Z,13Z,16Z,19Z))[iso3]</th>\n",
       "      <th>(2E)-Hexadecenoyl-CoA ; 2,7,10-hexadecatrienoylcoa ; 3,7,10-hexadecatrienoylcoa ; 3Z,7Z,10Z-hexadecatrienoyl-CoA ; 4,7,10-hexadecatrienoylcoa ; 4Z,7Z,10Z-hexadecatrienoyl-CoA ; 7,10,13-hexadecatrienoylcoa ; trans,cis,cis-2,7,10-hexadecatrienoyl-CoA</th>\n",
       "      <th>Lacto-N-difucohexaose ; Lacto-N-difucopentaose II</th>\n",
       "      <th>Galabiosylceramide (d18:1/26:1(17Z)) ; Lactosylceramide (d18:1/26:1(17Z))</th>\n",
       "    </tr>\n",
       "  </thead>\n",
       "  <tbody>\n",
       "    <tr>\n",
       "      <th>0</th>\n",
       "      <td>0.021811</td>\n",
       "      <td>0.006137</td>\n",
       "      <td>1.801231</td>\n",
       "      <td>0.178675</td>\n",
       "      <td>0.031762</td>\n",
       "      <td>0.143416</td>\n",
       "      <td>0.004437</td>\n",
       "      <td>0.001118</td>\n",
       "      <td>0.002353</td>\n",
       "      <td>0.013185</td>\n",
       "      <td>...</td>\n",
       "      <td>0.071269</td>\n",
       "      <td>0.029462</td>\n",
       "      <td>0.029300</td>\n",
       "      <td>0.036367</td>\n",
       "      <td>0.025836</td>\n",
       "      <td>0.075427</td>\n",
       "      <td>0.036502</td>\n",
       "      <td>0.019935</td>\n",
       "      <td>0.032820</td>\n",
       "      <td>0.039391</td>\n",
       "    </tr>\n",
       "    <tr>\n",
       "      <th>1</th>\n",
       "      <td>0.010611</td>\n",
       "      <td>0.006815</td>\n",
       "      <td>0.884542</td>\n",
       "      <td>0.093390</td>\n",
       "      <td>0.016027</td>\n",
       "      <td>0.037372</td>\n",
       "      <td>NaN</td>\n",
       "      <td>0.005778</td>\n",
       "      <td>0.003199</td>\n",
       "      <td>0.011203</td>\n",
       "      <td>...</td>\n",
       "      <td>0.059958</td>\n",
       "      <td>0.026807</td>\n",
       "      <td>0.021282</td>\n",
       "      <td>0.024981</td>\n",
       "      <td>0.013982</td>\n",
       "      <td>0.054200</td>\n",
       "      <td>0.029125</td>\n",
       "      <td>0.010750</td>\n",
       "      <td>0.015981</td>\n",
       "      <td>0.035154</td>\n",
       "    </tr>\n",
       "  </tbody>\n",
       "</table>\n",
       "<p>2 rows × 2181 columns</p>\n",
       "</div>"
      ],
      "text/plain": [
       "   Acetone ; Propanal ; acetone  Acetaldehyde oxime ; HMDB01122   acetate  \\\n",
       "0                      0.021811                        0.006137  1.801231   \n",
       "1                      0.010611                        0.006815  0.884542   \n",
       "\n",
       "       Urea  Isopropyl alcohol ; Propyl alcohol  \\\n",
       "0  0.178675                            0.031762   \n",
       "1  0.093390                            0.016027   \n",
       "\n",
       "   Bicarbonate ; Hydrogen carbonate  Dimethylsulfide  3-Butyn-1-al  \\\n",
       "0                          0.143416         0.004437      0.001118   \n",
       "1                          0.037372              NaN      0.005778   \n",
       "\n",
       "   1-pyrrolinium  Acrylamide  ...  \\\n",
       "0       0.002353    0.013185  ...   \n",
       "1       0.003199    0.011203  ...   \n",
       "\n",
       "   PIP2(16:0/18:1(11Z)) ; PIP2(16:0/18:1(9Z)) ; PIP2(16:1(9Z)/18:0) ; PIP2(18:0/16:1(9Z)) ; PIP2(18:1(11Z)/16:0) ; PIP2(18:1(9Z)/16:0)  \\\n",
       "0                                           0.071269                                                                                     \n",
       "1                                           0.059958                                                                                     \n",
       "\n",
       "   TG(22:6(4Z,7Z,10Z,13Z,16Z,19Z)/20:5(5Z,8Z,11Z,14Z,17Z)/22:6(4Z,7Z,10Z,13Z,16Z,19Z))[iso3]  \\\n",
       "0                                           0.029462                                           \n",
       "1                                           0.026807                                           \n",
       "\n",
       "   2,4,7,10-hexadecatetraenoylcoa ; 2,7,10,13-hexadecatetraenoylcoa ; 2E,4Z,7Z,10Z-hexadecatetraenoyl-CoA ; 3,7,10,13-hexadecatetraenoylcoa ; 4,7,10,13-hexadecatetraenoylcoa  \\\n",
       "0                                           0.029300                                                                                                                            \n",
       "1                                           0.021282                                                                                                                            \n",
       "\n",
       "   O-b-D-glucopyranosyl-(1->3)-O-2-(acetylamino)-2-deoxy-b-D-glucopyranosyl-(1->3)-O-[6-deoxy-a-L-galactopyranosyl-(1->4)]-O-b-D-galactopyranosyl-(1->4)-O-[6-deoxy-a-L-galactopyranosyl-(1->3)]-D-Glucose  \\\n",
       "0                                           0.036367                                                                                                                                                         \n",
       "1                                           0.024981                                                                                                                                                         \n",
       "\n",
       "   LS tetrasaccharide d ; Sialyllacto-N-neotetraose c ; Sialyllacto-N-tetraose a ; Sialyllacto-N-tetraose b ; Sialyllacto-N-tetraose c  \\\n",
       "0                                           0.025836                                                                                     \n",
       "1                                           0.013982                                                                                     \n",
       "\n",
       "   PIP2(16:0/18:0) ; PIP2(18:0/16:0)  \\\n",
       "0                           0.075427   \n",
       "1                           0.054200   \n",
       "\n",
       "   TG(22:5(7Z,10Z,13Z,16Z,19Z)/20:5(5Z,8Z,11Z,14Z,17Z)/22:6(4Z,7Z,10Z,13Z,16Z,19Z))[iso6] ; TG(22:6(4Z,7Z,10Z,13Z,16Z,19Z)/20:4(5Z,8Z,11Z,14Z)/22:6(4Z,7Z,10Z,13Z,16Z,19Z))[iso3]  \\\n",
       "0                                           0.036502                                                                                                                                \n",
       "1                                           0.029125                                                                                                                                \n",
       "\n",
       "   (2E)-Hexadecenoyl-CoA ; 2,7,10-hexadecatrienoylcoa ; 3,7,10-hexadecatrienoylcoa ; 3Z,7Z,10Z-hexadecatrienoyl-CoA ; 4,7,10-hexadecatrienoylcoa ; 4Z,7Z,10Z-hexadecatrienoyl-CoA ; 7,10,13-hexadecatrienoylcoa ; trans,cis,cis-2,7,10-hexadecatrienoyl-CoA  \\\n",
       "0                                           0.019935                                                                                                                                                                                                          \n",
       "1                                           0.010750                                                                                                                                                                                                          \n",
       "\n",
       "   Lacto-N-difucohexaose ; Lacto-N-difucopentaose II  \\\n",
       "0                                           0.032820   \n",
       "1                                           0.015981   \n",
       "\n",
       "   Galabiosylceramide (d18:1/26:1(17Z)) ; Lactosylceramide (d18:1/26:1(17Z))  \n",
       "0                                           0.039391                          \n",
       "1                                           0.035154                          \n",
       "\n",
       "[2 rows x 2181 columns]"
      ]
     },
     "execution_count": 4,
     "metadata": {},
     "output_type": "execute_result"
    }
   ],
   "source": [
    "X = data.select_dtypes('float64')\n",
    "X.head(2)"
   ]
  },
  {
   "cell_type": "code",
   "execution_count": 5,
   "id": "f35bfc55",
   "metadata": {},
   "outputs": [],
   "source": [
    "X.fillna(0.0, inplace=True)"
   ]
  },
  {
   "cell_type": "code",
   "execution_count": 6,
   "id": "b3efd306",
   "metadata": {},
   "outputs": [],
   "source": [
    "import re\n",
    "\n",
    "regex = re.compile(r\"\\[|\\]|<\", re.IGNORECASE)\n",
    "\n",
    "X.columns = [regex.sub(\"_\", col) if any(x in str(col) for x in set(('[', ']', '<'))) else col for col in X.columns.values]"
   ]
  },
  {
   "cell_type": "code",
   "execution_count": 7,
   "id": "f2bb0e2c",
   "metadata": {},
   "outputs": [],
   "source": [
    "labels = []\n",
    "drug_mean = drug.mean()\n",
    "for i in drug:\n",
    "    if i >= drug_mean:\n",
    "        labels.append('N')\n",
    "    else:\n",
    "        labels.append('R')\n",
    "y = pd.Series(labels)"
   ]
  },
  {
   "cell_type": "code",
   "execution_count": 8,
   "id": "f4299ba5",
   "metadata": {},
   "outputs": [
    {
     "data": {
      "text/plain": [
       "5.351870748299321"
      ]
     },
     "execution_count": 8,
     "metadata": {},
     "output_type": "execute_result"
    }
   ],
   "source": [
    "drug_mean"
   ]
  },
  {
   "cell_type": "code",
   "execution_count": 9,
   "id": "456455eb",
   "metadata": {},
   "outputs": [],
   "source": [
    "from sklearn.preprocessing import LabelEncoder\n",
    "\n",
    "le = LabelEncoder()\n",
    "y = pd.Series(le.fit_transform(y))"
   ]
  },
  {
   "cell_type": "code",
   "execution_count": 10,
   "id": "73cf713a",
   "metadata": {},
   "outputs": [
    {
     "data": {
      "text/plain": [
       "1    31\n",
       "0    31\n",
       "dtype: int64"
      ]
     },
     "execution_count": 10,
     "metadata": {},
     "output_type": "execute_result"
    }
   ],
   "source": [
    "from imblearn.over_sampling import SMOTE\n",
    "\n",
    "smote = SMOTE()\n",
    "X,y = smote.fit_resample(X,y)\n",
    "\n",
    "y.value_counts()"
   ]
  },
  {
   "cell_type": "code",
   "execution_count": 11,
   "id": "4ad293ce",
   "metadata": {},
   "outputs": [
    {
     "data": {
      "text/plain": [
       "'\\n\\nfrom xgboost import plot_importance\\nfrom sklearn.model_selection import train_test_split\\n\\nmodel = RandomForestClassifier(class_weight = \\'balanced\\', n_estimators = 150, random_state = 43)\\nmodel.fit(X, y)\\nimportances = model.feature_importances_\\nindices = np.argsort(importances)[::-1]\\n\\nplt.figure()\\nplt.title(\"Feature importances\")\\nplt.bar(range(X.shape[1]), importances[indices],\\n        color=\"lightsalmon\", align=\"center\")\\nplt.xticks(range(X.shape[1]), X.columns[indices], rotation=90)\\nplt.xlim([-1, X.shape[1]])\\nplt.show()\\n\\n'"
      ]
     },
     "execution_count": 11,
     "metadata": {},
     "output_type": "execute_result"
    }
   ],
   "source": [
    "'''\n",
    "\n",
    "from xgboost import plot_importance\n",
    "from sklearn.model_selection import train_test_split\n",
    "\n",
    "model = RandomForestClassifier(class_weight = 'balanced', n_estimators = 150, random_state = 43)\n",
    "model.fit(X, y)\n",
    "importances = model.feature_importances_\n",
    "indices = np.argsort(importances)[::-1]\n",
    "\n",
    "plt.figure()\n",
    "plt.title(\"Feature importances\")\n",
    "plt.bar(range(X.shape[1]), importances[indices],\n",
    "        color=\"lightsalmon\", align=\"center\")\n",
    "plt.xticks(range(X.shape[1]), X.columns[indices], rotation=90)\n",
    "plt.xlim([-1, X.shape[1]])\n",
    "plt.show()\n",
    "\n",
    "'''"
   ]
  },
  {
   "cell_type": "code",
   "execution_count": 12,
   "id": "52133d0d",
   "metadata": {},
   "outputs": [
    {
     "name": "stdout",
     "output_type": "stream",
     "text": [
      "Accuracy on training data: 1.0\n",
      "Accuracy on testing data: 0.42857142857142855\n",
      "              precision    recall  f1-score   support\n",
      "\n",
      "           0       0.55      0.46      0.50        13\n",
      "           1       0.30      0.38      0.33         8\n",
      "\n",
      "    accuracy                           0.43        21\n",
      "   macro avg       0.42      0.42      0.42        21\n",
      "weighted avg       0.45      0.43      0.44        21\n",
      "\n"
     ]
    }
   ],
   "source": [
    "from sklearn.feature_selection import SelectFromModel\n",
    "from sklearn.metrics import classification_report\n",
    "from sklearn.model_selection import train_test_split\n",
    "#sfm = SelectFromModel(model, threshold = 0.006)\n",
    "#sfm.fit(X,y)\n",
    "\n",
    "#X = pd.DataFrame(data = sfm.transform(X), columns = X.columns[sfm.get_support(1)])\n",
    "\n",
    "indices = X.index.values\n",
    "\n",
    "\n",
    "X_train, X_test, train_index, test_index = train_test_split(X,indices, test_size = 0.33, random_state = 43)\n",
    "y_train, y_test = y.iloc[train_index], y.iloc[test_index]\n",
    "model = RandomForestClassifier(class_weight = 'balanced', n_estimators = 150, random_state = 43)\n",
    "\n",
    "rfecv = RFECV(model, min_features_to_select = 1, step = 1, cv = StratifiedKFold(5), scoring = 'precision')\n",
    "#model.fit(X_train, y_train)\n",
    "\n",
    "rfecv.fit(X_train, y_train)\n",
    "\n",
    "rfe = RFE(model, n_features_to_select = rfecv.n_features_, step = 1)\n",
    "rfe.fit(X_train, y_train)\n",
    "\n",
    "prediction = rfe.predict_proba(X_test)[:, 1]\n",
    "y_pred = rfe.predict(X_test)\n",
    "\n",
    "print(f'Accuracy on training data: {accuracy_score(y_train, rfe.predict(X_train))}')\n",
    "print(f'Accuracy on testing data: {accuracy_score(y_test, rfe.predict(X_test))}')\n",
    "print(classification_report(y_test, y_pred))"
   ]
  },
  {
   "cell_type": "code",
   "execution_count": 13,
   "id": "9483ade8",
   "metadata": {},
   "outputs": [
    {
     "data": {
      "text/plain": [
       "2181"
      ]
     },
     "execution_count": 13,
     "metadata": {},
     "output_type": "execute_result"
    }
   ],
   "source": [
    "len(X_train.columns)"
   ]
  },
  {
   "cell_type": "code",
   "execution_count": 14,
   "id": "02c4c3bd",
   "metadata": {},
   "outputs": [
    {
     "data": {
      "text/plain": [
       "Text(50.722222222222214, 0.5, 'True Labels')"
      ]
     },
     "execution_count": 14,
     "metadata": {},
     "output_type": "execute_result"
    },
    {
     "data": {
      "image/png": "[encoded data removed]",
      "text/plain": [
       "<Figure size 640x480 with 2 Axes>"
      ]
     },
     "metadata": {},
     "output_type": "display_data"
    }
   ],
   "source": [
    "from sklearn.metrics import confusion_matrix\n",
    "\n",
    "fig, ax = plt.subplots()\n",
    "ax = sns.heatmap(confusion_matrix(y_test, y_pred), annot=True, xticklabels = ['N', 'R'], yticklabels = ['N', 'R'])\n",
    "ax.set_title('Random Forest Gemcitabine - NCI60 Cell lines\\nAccuracy 88%')\n",
    "ax.set_xlabel('Predicted Labels')\n",
    "ax.set_ylabel('True Labels')"
   ]
  },
  {
   "cell_type": "code",
   "execution_count": 15,
   "id": "c55919e8",
   "metadata": {},
   "outputs": [
    {
     "data": {
      "image/png": "[encoded data removed]",
      "text/plain": [
       "<Figure size 500x500 with 1 Axes>"
      ]
     },
     "metadata": {},
     "output_type": "display_data"
    }
   ],
   "source": [
    "plt.figure(figsize=(5, 5))\n",
    "plt.hist(prediction[y_test==0], label='Non-Responders')\n",
    "plt.hist(prediction[y_test==1], label='Responders', alpha=0.7, color='r')\n",
    "plt.xlabel('Probability of being Positive Class')\n",
    "plt.ylabel('Number of records in each bucket')\n",
    "plt.legend()\n",
    "plt.tick_params(axis='both')\n",
    "plt.show() "
   ]
  },
  {
   "cell_type": "code",
   "execution_count": 16,
   "id": "59d70ca0",
   "metadata": {},
   "outputs": [
    {
     "data": {
      "text/plain": [
       "(0, 0.0)"
      ]
     },
     "execution_count": 16,
     "metadata": {},
     "output_type": "execute_result"
    }
   ],
   "source": [
    "responders = prediction[y_test == 1]\n",
    "count = 0\n",
    "for i in responders: \n",
    "    if i >= max(prediction[y_test == 0]):\n",
    "        count+=1\n",
    "count, count/len(responders)"
   ]
  },
  {
   "cell_type": "code",
   "execution_count": 17,
   "id": "08717cf2",
   "metadata": {},
   "outputs": [
    {
     "data": {
      "text/plain": [
       "0.96"
      ]
     },
     "execution_count": 17,
     "metadata": {},
     "output_type": "execute_result"
    }
   ],
   "source": [
    "max(prediction[y_test == 0])"
   ]
  },
  {
   "cell_type": "code",
   "execution_count": 18,
   "id": "fef8bedf",
   "metadata": {},
   "outputs": [],
   "source": [
    "df_rf_test = X_test.copy()\n",
    "df_rf_test.loc[test_index, 'test_proba'] = prediction\n",
    "df_rf_test.loc[test_index, 'target'] = y_test\n",
    "df1 = pd.concat([X_train, df_rf_test], sort=False).sort_index()"
   ]
  },
  {
   "cell_type": "code",
   "execution_count": 19,
   "id": "95478773",
   "metadata": {},
   "outputs": [
    {
     "data": {
      "text/plain": [
       "(0, 2183)"
      ]
     },
     "execution_count": 19,
     "metadata": {},
     "output_type": "execute_result"
    }
   ],
   "source": [
    "df1_main = df1.iloc[:49, ]\n",
    "x = max(prediction[y_test == 0])\n",
    "df1_main = df1_main.loc[(df1_main['test_proba'] > x)]\n",
    "df1_main.shape"
   ]
  },
  {
   "cell_type": "code",
   "execution_count": 20,
   "id": "46c41ac2",
   "metadata": {},
   "outputs": [
    {
     "name": "stdout",
     "output_type": "stream",
     "text": [
      "Accuracy on training data: 0.8292682926829268\n",
      "Accuracy on testing data: 0.7619047619047619\n",
      "              precision    recall  f1-score   support\n",
      "\n",
      "           0       0.83      0.77      0.80        13\n",
      "           1       0.67      0.75      0.71         8\n",
      "\n",
      "    accuracy                           0.76        21\n",
      "   macro avg       0.75      0.76      0.75        21\n",
      "weighted avg       0.77      0.76      0.76        21\n",
      "\n"
     ]
    }
   ],
   "source": [
    "model2 = SVC(kernel = 'linear', C=1, gamma='auto', probability=True)\n",
    "\n",
    "rfecv2 = RFECV(model2, min_features_to_select = 1, scoring = 'precision', step = 1, cv = StratifiedKFold(5))\n",
    "rfecv2.fit(X_train, y_train)\n",
    "\n",
    "#model2.fit(X_train, y_train)\n",
    "\n",
    "rfe2 = RFE(model2, n_features_to_select = rfecv2.n_features_, step = 1)\n",
    "rfe2.fit(X_train, y_train)\n",
    "\n",
    "prediction2 = rfe2.predict_proba(X_test)[:, 1]\n",
    "y_pred = rfe2.predict(X_test)\n",
    "print(f'Accuracy on training data: {accuracy_score(y_train, rfe2.predict(X_train))}')\n",
    "print(f'Accuracy on testing data: {accuracy_score(y_test, rfe2.predict(X_test))}')\n",
    "print(classification_report(y_test, y_pred))"
   ]
  },
  {
   "cell_type": "code",
   "execution_count": 21,
   "id": "9d86965c",
   "metadata": {},
   "outputs": [
    {
     "data": {
      "text/plain": [
       "Text(50.722222222222214, 0.5, 'True Labels')"
      ]
     },
     "execution_count": 21,
     "metadata": {},
     "output_type": "execute_result"
    },
    {
     "data": {
      "image/png": "[encoded data removed]",
      "text/plain": [
       "<Figure size 640x480 with 2 Axes>"
      ]
     },
     "metadata": {},
     "output_type": "display_data"
    }
   ],
   "source": [
    "fig, ax = plt.subplots()\n",
    "ax = sns.heatmap(confusion_matrix(y_test, y_pred), annot=True, xticklabels = ['N', 'R'], yticklabels = ['N', 'R'])\n",
    "ax.set_title('SVM Gemcitabine - NCI60 Cell lines\\nAccuracy 65%')\n",
    "ax.set_xlabel('Predicted Labels')\n",
    "ax.set_ylabel('True Labels')"
   ]
  },
  {
   "cell_type": "code",
   "execution_count": 22,
   "id": "e5aaee57",
   "metadata": {},
   "outputs": [
    {
     "data": {
      "image/png": "[encoded data removed]",
      "text/plain": [
       "<Figure size 500x500 with 1 Axes>"
      ]
     },
     "metadata": {},
     "output_type": "display_data"
    }
   ],
   "source": [
    "plt.figure(figsize=(5, 5))\n",
    "plt.hist(prediction2[y_test==0], label='Non-Responders')\n",
    "plt.hist(prediction2[y_test==1], label='Responders', alpha=0.7, color='r')\n",
    "plt.xlabel('Probability of being Positive Class')\n",
    "plt.ylabel('Number of records in each bucket')\n",
    "plt.legend()\n",
    "plt.tick_params(axis='both')\n",
    "plt.show() "
   ]
  },
  {
   "cell_type": "code",
   "execution_count": 23,
   "id": "e2cda3f6",
   "metadata": {},
   "outputs": [
    {
     "data": {
      "text/plain": [
       "(1, 0.125)"
      ]
     },
     "execution_count": 23,
     "metadata": {},
     "output_type": "execute_result"
    }
   ],
   "source": [
    "resp_svm = prediction2[y_test == 1]\n",
    "count = 0\n",
    "for i in resp_svm:\n",
    "    if i >= max(prediction2[y_test == 0]):\n",
    "        count+=1\n",
    "count, count/len(resp_svm)"
   ]
  },
  {
   "cell_type": "code",
   "execution_count": 24,
   "id": "d2ee9a40",
   "metadata": {},
   "outputs": [
    {
     "data": {
      "text/plain": [
       "0.9371261382681435"
      ]
     },
     "execution_count": 24,
     "metadata": {},
     "output_type": "execute_result"
    }
   ],
   "source": [
    "max(prediction2[y_test == 0])"
   ]
  },
  {
   "cell_type": "code",
   "execution_count": 25,
   "id": "a7990c89",
   "metadata": {},
   "outputs": [],
   "source": [
    "df_svm_test = X_test.copy()\n",
    "df_svm_test.loc[test_index, 'test_proba'] = prediction2\n",
    "\n",
    "df2 = pd.concat([X_train, df_svm_test], sort=False).sort_index()"
   ]
  },
  {
   "cell_type": "code",
   "execution_count": 26,
   "id": "40ffca2b",
   "metadata": {},
   "outputs": [
    {
     "data": {
      "text/html": [
       "<div>\n",
       "<style scoped>\n",
       "    .dataframe tbody tr th:only-of-type {\n",
       "        vertical-align: middle;\n",
       "    }\n",
       "\n",
       "    .dataframe tbody tr th {\n",
       "        vertical-align: top;\n",
       "    }\n",
       "\n",
       "    .dataframe thead th {\n",
       "        text-align: right;\n",
       "    }\n",
       "</style>\n",
       "<table border=\"1\" class=\"dataframe\">\n",
       "  <thead>\n",
       "    <tr style=\"text-align: right;\">\n",
       "      <th></th>\n",
       "      <th>Acetone ; Propanal ; acetone</th>\n",
       "      <th>Acetaldehyde oxime ; HMDB01122</th>\n",
       "      <th>acetate</th>\n",
       "      <th>Urea</th>\n",
       "      <th>Isopropyl alcohol ; Propyl alcohol</th>\n",
       "      <th>Bicarbonate ; Hydrogen carbonate</th>\n",
       "      <th>Dimethylsulfide</th>\n",
       "      <th>3-Butyn-1-al</th>\n",
       "      <th>1-pyrrolinium</th>\n",
       "      <th>Acrylamide</th>\n",
       "      <th>...</th>\n",
       "      <th>TG(22:6(4Z,7Z,10Z,13Z,16Z,19Z)/20:5(5Z,8Z,11Z,14Z,17Z)/22:6(4Z,7Z,10Z,13Z,16Z,19Z))_iso3_</th>\n",
       "      <th>2,4,7,10-hexadecatetraenoylcoa ; 2,7,10,13-hexadecatetraenoylcoa ; 2E,4Z,7Z,10Z-hexadecatetraenoyl-CoA ; 3,7,10,13-hexadecatetraenoylcoa ; 4,7,10,13-hexadecatetraenoylcoa</th>\n",
       "      <th>O-b-D-glucopyranosyl-(1-&gt;3)-O-2-(acetylamino)-2-deoxy-b-D-glucopyranosyl-(1-&gt;3)-O-_6-deoxy-a-L-galactopyranosyl-(1-&gt;4)_-O-b-D-galactopyranosyl-(1-&gt;4)-O-_6-deoxy-a-L-galactopyranosyl-(1-&gt;3)_-D-Glucose</th>\n",
       "      <th>LS tetrasaccharide d ; Sialyllacto-N-neotetraose c ; Sialyllacto-N-tetraose a ; Sialyllacto-N-tetraose b ; Sialyllacto-N-tetraose c</th>\n",
       "      <th>PIP2(16:0/18:0) ; PIP2(18:0/16:0)</th>\n",
       "      <th>TG(22:5(7Z,10Z,13Z,16Z,19Z)/20:5(5Z,8Z,11Z,14Z,17Z)/22:6(4Z,7Z,10Z,13Z,16Z,19Z))_iso6_ ; TG(22:6(4Z,7Z,10Z,13Z,16Z,19Z)/20:4(5Z,8Z,11Z,14Z)/22:6(4Z,7Z,10Z,13Z,16Z,19Z))_iso3_</th>\n",
       "      <th>(2E)-Hexadecenoyl-CoA ; 2,7,10-hexadecatrienoylcoa ; 3,7,10-hexadecatrienoylcoa ; 3Z,7Z,10Z-hexadecatrienoyl-CoA ; 4,7,10-hexadecatrienoylcoa ; 4Z,7Z,10Z-hexadecatrienoyl-CoA ; 7,10,13-hexadecatrienoylcoa ; trans,cis,cis-2,7,10-hexadecatrienoyl-CoA</th>\n",
       "      <th>Lacto-N-difucohexaose ; Lacto-N-difucopentaose II</th>\n",
       "      <th>Galabiosylceramide (d18:1/26:1(17Z)) ; Lactosylceramide (d18:1/26:1(17Z))</th>\n",
       "      <th>test_proba</th>\n",
       "    </tr>\n",
       "  </thead>\n",
       "  <tbody>\n",
       "    <tr>\n",
       "      <th>6</th>\n",
       "      <td>0.005588</td>\n",
       "      <td>0.004644</td>\n",
       "      <td>1.364809</td>\n",
       "      <td>0.135459</td>\n",
       "      <td>0.0</td>\n",
       "      <td>0.0</td>\n",
       "      <td>0.0</td>\n",
       "      <td>0.009729</td>\n",
       "      <td>0.004694</td>\n",
       "      <td>0.014806</td>\n",
       "      <td>...</td>\n",
       "      <td>0.034059</td>\n",
       "      <td>0.023589</td>\n",
       "      <td>0.030071</td>\n",
       "      <td>0.020941</td>\n",
       "      <td>0.076639</td>\n",
       "      <td>0.03705</td>\n",
       "      <td>0.018037</td>\n",
       "      <td>0.026653</td>\n",
       "      <td>0.048694</td>\n",
       "      <td>0.991232</td>\n",
       "    </tr>\n",
       "  </tbody>\n",
       "</table>\n",
       "<p>1 rows × 2182 columns</p>\n",
       "</div>"
      ],
      "text/plain": [
       "   Acetone ; Propanal ; acetone  Acetaldehyde oxime ; HMDB01122   acetate  \\\n",
       "6                      0.005588                        0.004644  1.364809   \n",
       "\n",
       "       Urea  Isopropyl alcohol ; Propyl alcohol  \\\n",
       "6  0.135459                                 0.0   \n",
       "\n",
       "   Bicarbonate ; Hydrogen carbonate  Dimethylsulfide  3-Butyn-1-al  \\\n",
       "6                               0.0              0.0      0.009729   \n",
       "\n",
       "   1-pyrrolinium  Acrylamide  ...  \\\n",
       "6       0.004694    0.014806  ...   \n",
       "\n",
       "   TG(22:6(4Z,7Z,10Z,13Z,16Z,19Z)/20:5(5Z,8Z,11Z,14Z,17Z)/22:6(4Z,7Z,10Z,13Z,16Z,19Z))_iso3_  \\\n",
       "6                                           0.034059                                           \n",
       "\n",
       "   2,4,7,10-hexadecatetraenoylcoa ; 2,7,10,13-hexadecatetraenoylcoa ; 2E,4Z,7Z,10Z-hexadecatetraenoyl-CoA ; 3,7,10,13-hexadecatetraenoylcoa ; 4,7,10,13-hexadecatetraenoylcoa  \\\n",
       "6                                           0.023589                                                                                                                            \n",
       "\n",
       "   O-b-D-glucopyranosyl-(1->3)-O-2-(acetylamino)-2-deoxy-b-D-glucopyranosyl-(1->3)-O-_6-deoxy-a-L-galactopyranosyl-(1->4)_-O-b-D-galactopyranosyl-(1->4)-O-_6-deoxy-a-L-galactopyranosyl-(1->3)_-D-Glucose  \\\n",
       "6                                           0.030071                                                                                                                                                         \n",
       "\n",
       "   LS tetrasaccharide d ; Sialyllacto-N-neotetraose c ; Sialyllacto-N-tetraose a ; Sialyllacto-N-tetraose b ; Sialyllacto-N-tetraose c  \\\n",
       "6                                           0.020941                                                                                     \n",
       "\n",
       "   PIP2(16:0/18:0) ; PIP2(18:0/16:0)  \\\n",
       "6                           0.076639   \n",
       "\n",
       "   TG(22:5(7Z,10Z,13Z,16Z,19Z)/20:5(5Z,8Z,11Z,14Z,17Z)/22:6(4Z,7Z,10Z,13Z,16Z,19Z))_iso6_ ; TG(22:6(4Z,7Z,10Z,13Z,16Z,19Z)/20:4(5Z,8Z,11Z,14Z)/22:6(4Z,7Z,10Z,13Z,16Z,19Z))_iso3_  \\\n",
       "6                                            0.03705                                                                                                                                \n",
       "\n",
       "   (2E)-Hexadecenoyl-CoA ; 2,7,10-hexadecatrienoylcoa ; 3,7,10-hexadecatrienoylcoa ; 3Z,7Z,10Z-hexadecatrienoyl-CoA ; 4,7,10-hexadecatrienoylcoa ; 4Z,7Z,10Z-hexadecatrienoyl-CoA ; 7,10,13-hexadecatrienoylcoa ; trans,cis,cis-2,7,10-hexadecatrienoyl-CoA  \\\n",
       "6                                           0.018037                                                                                                                                                                                                          \n",
       "\n",
       "   Lacto-N-difucohexaose ; Lacto-N-difucopentaose II  \\\n",
       "6                                           0.026653   \n",
       "\n",
       "   Galabiosylceramide (d18:1/26:1(17Z)) ; Lactosylceramide (d18:1/26:1(17Z))  \\\n",
       "6                                           0.048694                           \n",
       "\n",
       "   test_proba  \n",
       "6    0.991232  \n",
       "\n",
       "[1 rows x 2182 columns]"
      ]
     },
     "execution_count": 26,
     "metadata": {},
     "output_type": "execute_result"
    }
   ],
   "source": [
    "df2_main = df2.iloc[:49, ]\n",
    "df2_main = df2_main.loc[(df2_main['test_proba'] > max(prediction2[y_test == 0]))]\n",
    "df2_main"
   ]
  },
  {
   "cell_type": "code",
   "execution_count": 27,
   "id": "8141699f",
   "metadata": {},
   "outputs": [
    {
     "name": "stdout",
     "output_type": "stream",
     "text": [
      "Accuracy on training data: 1.0\n",
      "Accuracy on testing data: 0.6190476190476191\n",
      "              precision    recall  f1-score   support\n",
      "\n",
      "           0       0.78      0.54      0.64        13\n",
      "           1       0.50      0.75      0.60         8\n",
      "\n",
      "    accuracy                           0.62        21\n",
      "   macro avg       0.64      0.64      0.62        21\n",
      "weighted avg       0.67      0.62      0.62        21\n",
      "\n"
     ]
    }
   ],
   "source": [
    "model3 = XGBClassifier()\n",
    "#model3.fit(X_train, y_train)\n",
    "\n",
    "rfecv3 = RFECV(model3, min_features_to_select=1, step=1, scoring='precision', cv=StratifiedKFold(5))\n",
    "rfecv3.fit(X_train, y_train)\n",
    "\n",
    "#prediction3 = model3.predict_proba(X_test)[:, 1]\n",
    "\n",
    "rfe3 = RFE(model3, n_features_to_select = rfecv3.n_features_, step = 1)\n",
    "rfe3.fit(X_train, y_train)\n",
    "prediction3 = rfe3.predict_proba(X_test)[:, 1]\n",
    "y_pred = rfe3.predict(X_test)\n",
    "\n",
    "print(f'Accuracy on training data: {accuracy_score(y_train, rfe3.predict(X_train))}')\n",
    "print(f'Accuracy on testing data: {accuracy_score(y_test, y_pred)}')\n",
    "print(classification_report(y_test, y_pred))"
   ]
  },
  {
   "cell_type": "code",
   "execution_count": 28,
   "id": "4fa68bb7",
   "metadata": {},
   "outputs": [
    {
     "data": {
      "text/plain": [
       "Text(50.722222222222214, 0.5, 'True Labels')"
      ]
     },
     "execution_count": 28,
     "metadata": {},
     "output_type": "execute_result"
    },
    {
     "data": {
      "image/png": "[encoded data removed]",
      "text/plain": [
       "<Figure size 640x480 with 2 Axes>"
      ]
     },
     "metadata": {},
     "output_type": "display_data"
    }
   ],
   "source": [
    "fig, ax = plt.subplots()\n",
    "ax = sns.heatmap(confusion_matrix(y_test, y_pred), annot = True, xticklabels = ['N', 'R'], yticklabels = ['N', 'R'])\n",
    "ax.set_title('XGB Model Gemcitabine - NCI60 cell lines\\nAccuracy: 82%')\n",
    "ax.set_xlabel('Predicted Labels')\n",
    "ax.set_ylabel('True Labels')"
   ]
  },
  {
   "cell_type": "code",
   "execution_count": 29,
   "id": "41c49426",
   "metadata": {},
   "outputs": [
    {
     "data": {
      "image/png": "[encoded data removed]",
      "text/plain": [
       "<Figure size 500x500 with 1 Axes>"
      ]
     },
     "metadata": {},
     "output_type": "display_data"
    }
   ],
   "source": [
    "plt.figure(figsize=(5, 5))\n",
    "plt.hist(prediction3[y_test==0], label='Non-Responders')\n",
    "plt.hist(prediction3[y_test==1], label='Responders', alpha=0.7, color='r')\n",
    "plt.xlabel('Probability of being Positive Class')\n",
    "plt.ylabel('Number of records in each bucket')\n",
    "plt.legend()\n",
    "plt.tick_params(axis='both')\n",
    "plt.show() "
   ]
  },
  {
   "cell_type": "code",
   "execution_count": 30,
   "id": "88b817b0",
   "metadata": {},
   "outputs": [
    {
     "data": {
      "text/plain": [
       "(0, 0.0)"
      ]
     },
     "execution_count": 30,
     "metadata": {},
     "output_type": "execute_result"
    }
   ],
   "source": [
    "resp_xg = prediction3[y_test == 1]\n",
    "count = 0\n",
    "for i in resp_xg:\n",
    "    if i >= max(prediction3[y_test == 0]):\n",
    "        count += 1\n",
    "count, count/len(resp_xg)"
   ]
  },
  {
   "cell_type": "code",
   "execution_count": 31,
   "id": "0fe63e3d",
   "metadata": {},
   "outputs": [
    {
     "data": {
      "text/plain": [
       "0.9872574"
      ]
     },
     "execution_count": 31,
     "metadata": {},
     "output_type": "execute_result"
    }
   ],
   "source": [
    "max(prediction3[y_test == 0])"
   ]
  },
  {
   "cell_type": "code",
   "execution_count": 32,
   "id": "be40ab33",
   "metadata": {},
   "outputs": [
    {
     "data": {
      "text/html": [
       "<div>\n",
       "<style scoped>\n",
       "    .dataframe tbody tr th:only-of-type {\n",
       "        vertical-align: middle;\n",
       "    }\n",
       "\n",
       "    .dataframe tbody tr th {\n",
       "        vertical-align: top;\n",
       "    }\n",
       "\n",
       "    .dataframe thead th {\n",
       "        text-align: right;\n",
       "    }\n",
       "</style>\n",
       "<table border=\"1\" class=\"dataframe\">\n",
       "  <thead>\n",
       "    <tr style=\"text-align: right;\">\n",
       "      <th></th>\n",
       "      <th>Acetone ; Propanal ; acetone</th>\n",
       "      <th>Acetaldehyde oxime ; HMDB01122</th>\n",
       "      <th>acetate</th>\n",
       "      <th>Urea</th>\n",
       "      <th>Isopropyl alcohol ; Propyl alcohol</th>\n",
       "      <th>Bicarbonate ; Hydrogen carbonate</th>\n",
       "      <th>Dimethylsulfide</th>\n",
       "      <th>3-Butyn-1-al</th>\n",
       "      <th>1-pyrrolinium</th>\n",
       "      <th>Acrylamide</th>\n",
       "      <th>...</th>\n",
       "      <th>TG(22:6(4Z,7Z,10Z,13Z,16Z,19Z)/20:5(5Z,8Z,11Z,14Z,17Z)/22:6(4Z,7Z,10Z,13Z,16Z,19Z))_iso3_</th>\n",
       "      <th>2,4,7,10-hexadecatetraenoylcoa ; 2,7,10,13-hexadecatetraenoylcoa ; 2E,4Z,7Z,10Z-hexadecatetraenoyl-CoA ; 3,7,10,13-hexadecatetraenoylcoa ; 4,7,10,13-hexadecatetraenoylcoa</th>\n",
       "      <th>O-b-D-glucopyranosyl-(1-&gt;3)-O-2-(acetylamino)-2-deoxy-b-D-glucopyranosyl-(1-&gt;3)-O-_6-deoxy-a-L-galactopyranosyl-(1-&gt;4)_-O-b-D-galactopyranosyl-(1-&gt;4)-O-_6-deoxy-a-L-galactopyranosyl-(1-&gt;3)_-D-Glucose</th>\n",
       "      <th>LS tetrasaccharide d ; Sialyllacto-N-neotetraose c ; Sialyllacto-N-tetraose a ; Sialyllacto-N-tetraose b ; Sialyllacto-N-tetraose c</th>\n",
       "      <th>PIP2(16:0/18:0) ; PIP2(18:0/16:0)</th>\n",
       "      <th>TG(22:5(7Z,10Z,13Z,16Z,19Z)/20:5(5Z,8Z,11Z,14Z,17Z)/22:6(4Z,7Z,10Z,13Z,16Z,19Z))_iso6_ ; TG(22:6(4Z,7Z,10Z,13Z,16Z,19Z)/20:4(5Z,8Z,11Z,14Z)/22:6(4Z,7Z,10Z,13Z,16Z,19Z))_iso3_</th>\n",
       "      <th>(2E)-Hexadecenoyl-CoA ; 2,7,10-hexadecatrienoylcoa ; 3,7,10-hexadecatrienoylcoa ; 3Z,7Z,10Z-hexadecatrienoyl-CoA ; 4,7,10-hexadecatrienoylcoa ; 4Z,7Z,10Z-hexadecatrienoyl-CoA ; 7,10,13-hexadecatrienoylcoa ; trans,cis,cis-2,7,10-hexadecatrienoyl-CoA</th>\n",
       "      <th>Lacto-N-difucohexaose ; Lacto-N-difucopentaose II</th>\n",
       "      <th>Galabiosylceramide (d18:1/26:1(17Z)) ; Lactosylceramide (d18:1/26:1(17Z))</th>\n",
       "      <th>test_proba</th>\n",
       "    </tr>\n",
       "  </thead>\n",
       "  <tbody>\n",
       "    <tr>\n",
       "      <th>0</th>\n",
       "      <td>0.021811</td>\n",
       "      <td>0.006137</td>\n",
       "      <td>1.801231</td>\n",
       "      <td>0.178675</td>\n",
       "      <td>0.031762</td>\n",
       "      <td>0.143416</td>\n",
       "      <td>0.004437</td>\n",
       "      <td>0.001118</td>\n",
       "      <td>0.002353</td>\n",
       "      <td>0.013185</td>\n",
       "      <td>...</td>\n",
       "      <td>0.029462</td>\n",
       "      <td>0.029300</td>\n",
       "      <td>0.036367</td>\n",
       "      <td>0.025836</td>\n",
       "      <td>0.075427</td>\n",
       "      <td>0.036502</td>\n",
       "      <td>0.019935</td>\n",
       "      <td>0.032820</td>\n",
       "      <td>0.039391</td>\n",
       "      <td>NaN</td>\n",
       "    </tr>\n",
       "    <tr>\n",
       "      <th>1</th>\n",
       "      <td>0.010611</td>\n",
       "      <td>0.006815</td>\n",
       "      <td>0.884542</td>\n",
       "      <td>0.093390</td>\n",
       "      <td>0.016027</td>\n",
       "      <td>0.037372</td>\n",
       "      <td>0.000000</td>\n",
       "      <td>0.005778</td>\n",
       "      <td>0.003199</td>\n",
       "      <td>0.011203</td>\n",
       "      <td>...</td>\n",
       "      <td>0.026807</td>\n",
       "      <td>0.021282</td>\n",
       "      <td>0.024981</td>\n",
       "      <td>0.013982</td>\n",
       "      <td>0.054200</td>\n",
       "      <td>0.029125</td>\n",
       "      <td>0.010750</td>\n",
       "      <td>0.015981</td>\n",
       "      <td>0.035154</td>\n",
       "      <td>NaN</td>\n",
       "    </tr>\n",
       "    <tr>\n",
       "      <th>2</th>\n",
       "      <td>0.030946</td>\n",
       "      <td>0.006278</td>\n",
       "      <td>3.830076</td>\n",
       "      <td>0.384303</td>\n",
       "      <td>0.027088</td>\n",
       "      <td>0.065463</td>\n",
       "      <td>0.002946</td>\n",
       "      <td>0.009472</td>\n",
       "      <td>0.002344</td>\n",
       "      <td>0.010895</td>\n",
       "      <td>...</td>\n",
       "      <td>0.031639</td>\n",
       "      <td>0.026098</td>\n",
       "      <td>0.029986</td>\n",
       "      <td>0.025863</td>\n",
       "      <td>0.053371</td>\n",
       "      <td>0.038207</td>\n",
       "      <td>0.023270</td>\n",
       "      <td>0.030655</td>\n",
       "      <td>0.040250</td>\n",
       "      <td>NaN</td>\n",
       "    </tr>\n",
       "    <tr>\n",
       "      <th>3</th>\n",
       "      <td>0.008574</td>\n",
       "      <td>0.005661</td>\n",
       "      <td>0.296663</td>\n",
       "      <td>0.035179</td>\n",
       "      <td>0.005575</td>\n",
       "      <td>0.026321</td>\n",
       "      <td>0.001608</td>\n",
       "      <td>0.020112</td>\n",
       "      <td>0.003865</td>\n",
       "      <td>0.016057</td>\n",
       "      <td>...</td>\n",
       "      <td>0.029439</td>\n",
       "      <td>0.032452</td>\n",
       "      <td>0.034177</td>\n",
       "      <td>0.022305</td>\n",
       "      <td>0.080242</td>\n",
       "      <td>0.029226</td>\n",
       "      <td>0.019556</td>\n",
       "      <td>0.033062</td>\n",
       "      <td>0.040780</td>\n",
       "      <td>NaN</td>\n",
       "    </tr>\n",
       "    <tr>\n",
       "      <th>4</th>\n",
       "      <td>0.012726</td>\n",
       "      <td>0.003326</td>\n",
       "      <td>0.000000</td>\n",
       "      <td>0.000000</td>\n",
       "      <td>0.005354</td>\n",
       "      <td>0.037794</td>\n",
       "      <td>0.002402</td>\n",
       "      <td>0.013558</td>\n",
       "      <td>0.003402</td>\n",
       "      <td>0.013344</td>\n",
       "      <td>...</td>\n",
       "      <td>0.023395</td>\n",
       "      <td>0.027523</td>\n",
       "      <td>0.018876</td>\n",
       "      <td>0.016423</td>\n",
       "      <td>0.057103</td>\n",
       "      <td>0.022155</td>\n",
       "      <td>0.011501</td>\n",
       "      <td>0.014310</td>\n",
       "      <td>0.034584</td>\n",
       "      <td>NaN</td>\n",
       "    </tr>\n",
       "    <tr>\n",
       "      <th>...</th>\n",
       "      <td>...</td>\n",
       "      <td>...</td>\n",
       "      <td>...</td>\n",
       "      <td>...</td>\n",
       "      <td>...</td>\n",
       "      <td>...</td>\n",
       "      <td>...</td>\n",
       "      <td>...</td>\n",
       "      <td>...</td>\n",
       "      <td>...</td>\n",
       "      <td>...</td>\n",
       "      <td>...</td>\n",
       "      <td>...</td>\n",
       "      <td>...</td>\n",
       "      <td>...</td>\n",
       "      <td>...</td>\n",
       "      <td>...</td>\n",
       "      <td>...</td>\n",
       "      <td>...</td>\n",
       "      <td>...</td>\n",
       "      <td>...</td>\n",
       "    </tr>\n",
       "    <tr>\n",
       "      <th>57</th>\n",
       "      <td>0.029710</td>\n",
       "      <td>0.005494</td>\n",
       "      <td>1.871882</td>\n",
       "      <td>0.187526</td>\n",
       "      <td>0.030761</td>\n",
       "      <td>0.126784</td>\n",
       "      <td>0.004256</td>\n",
       "      <td>0.008368</td>\n",
       "      <td>0.002346</td>\n",
       "      <td>0.009851</td>\n",
       "      <td>...</td>\n",
       "      <td>0.035073</td>\n",
       "      <td>0.025938</td>\n",
       "      <td>0.040352</td>\n",
       "      <td>0.029576</td>\n",
       "      <td>0.074567</td>\n",
       "      <td>0.036209</td>\n",
       "      <td>0.023007</td>\n",
       "      <td>0.040206</td>\n",
       "      <td>0.040569</td>\n",
       "      <td>0.408147</td>\n",
       "    </tr>\n",
       "    <tr>\n",
       "      <th>58</th>\n",
       "      <td>0.023170</td>\n",
       "      <td>0.007654</td>\n",
       "      <td>2.268530</td>\n",
       "      <td>0.227312</td>\n",
       "      <td>0.020314</td>\n",
       "      <td>0.067743</td>\n",
       "      <td>0.002511</td>\n",
       "      <td>0.009551</td>\n",
       "      <td>0.003074</td>\n",
       "      <td>0.026141</td>\n",
       "      <td>...</td>\n",
       "      <td>0.044544</td>\n",
       "      <td>0.036583</td>\n",
       "      <td>0.044355</td>\n",
       "      <td>0.030253</td>\n",
       "      <td>0.060527</td>\n",
       "      <td>0.040154</td>\n",
       "      <td>0.027552</td>\n",
       "      <td>0.042445</td>\n",
       "      <td>0.048388</td>\n",
       "      <td>NaN</td>\n",
       "    </tr>\n",
       "    <tr>\n",
       "      <th>59</th>\n",
       "      <td>0.008710</td>\n",
       "      <td>0.008847</td>\n",
       "      <td>1.489213</td>\n",
       "      <td>0.151713</td>\n",
       "      <td>0.013773</td>\n",
       "      <td>0.032964</td>\n",
       "      <td>0.001881</td>\n",
       "      <td>0.003826</td>\n",
       "      <td>0.002037</td>\n",
       "      <td>0.012085</td>\n",
       "      <td>...</td>\n",
       "      <td>0.027994</td>\n",
       "      <td>0.018294</td>\n",
       "      <td>0.033230</td>\n",
       "      <td>0.022999</td>\n",
       "      <td>0.055171</td>\n",
       "      <td>0.029840</td>\n",
       "      <td>0.020976</td>\n",
       "      <td>0.030185</td>\n",
       "      <td>0.030732</td>\n",
       "      <td>NaN</td>\n",
       "    </tr>\n",
       "    <tr>\n",
       "      <th>60</th>\n",
       "      <td>0.005964</td>\n",
       "      <td>0.020693</td>\n",
       "      <td>0.109581</td>\n",
       "      <td>0.010219</td>\n",
       "      <td>0.026638</td>\n",
       "      <td>0.015616</td>\n",
       "      <td>0.001966</td>\n",
       "      <td>0.021672</td>\n",
       "      <td>0.007119</td>\n",
       "      <td>0.027363</td>\n",
       "      <td>...</td>\n",
       "      <td>0.013706</td>\n",
       "      <td>0.017275</td>\n",
       "      <td>0.038579</td>\n",
       "      <td>0.017281</td>\n",
       "      <td>0.064956</td>\n",
       "      <td>0.028227</td>\n",
       "      <td>0.023974</td>\n",
       "      <td>0.022860</td>\n",
       "      <td>0.028829</td>\n",
       "      <td>NaN</td>\n",
       "    </tr>\n",
       "    <tr>\n",
       "      <th>61</th>\n",
       "      <td>0.026783</td>\n",
       "      <td>0.009352</td>\n",
       "      <td>1.633449</td>\n",
       "      <td>0.169390</td>\n",
       "      <td>0.013509</td>\n",
       "      <td>0.077689</td>\n",
       "      <td>0.003086</td>\n",
       "      <td>0.007003</td>\n",
       "      <td>0.003030</td>\n",
       "      <td>0.021127</td>\n",
       "      <td>...</td>\n",
       "      <td>0.047374</td>\n",
       "      <td>0.030319</td>\n",
       "      <td>0.038304</td>\n",
       "      <td>0.028581</td>\n",
       "      <td>0.055304</td>\n",
       "      <td>0.045042</td>\n",
       "      <td>0.026407</td>\n",
       "      <td>0.040073</td>\n",
       "      <td>0.056842</td>\n",
       "      <td>NaN</td>\n",
       "    </tr>\n",
       "  </tbody>\n",
       "</table>\n",
       "<p>62 rows × 2182 columns</p>\n",
       "</div>"
      ],
      "text/plain": [
       "    Acetone ; Propanal ; acetone  Acetaldehyde oxime ; HMDB01122   acetate  \\\n",
       "0                       0.021811                        0.006137  1.801231   \n",
       "1                       0.010611                        0.006815  0.884542   \n",
       "2                       0.030946                        0.006278  3.830076   \n",
       "3                       0.008574                        0.005661  0.296663   \n",
       "4                       0.012726                        0.003326  0.000000   \n",
       "..                           ...                             ...       ...   \n",
       "57                      0.029710                        0.005494  1.871882   \n",
       "58                      0.023170                        0.007654  2.268530   \n",
       "59                      0.008710                        0.008847  1.489213   \n",
       "60                      0.005964                        0.020693  0.109581   \n",
       "61                      0.026783                        0.009352  1.633449   \n",
       "\n",
       "        Urea  Isopropyl alcohol ; Propyl alcohol  \\\n",
       "0   0.178675                            0.031762   \n",
       "1   0.093390                            0.016027   \n",
       "2   0.384303                            0.027088   \n",
       "3   0.035179                            0.005575   \n",
       "4   0.000000                            0.005354   \n",
       "..       ...                                 ...   \n",
       "57  0.187526                            0.030761   \n",
       "58  0.227312                            0.020314   \n",
       "59  0.151713                            0.013773   \n",
       "60  0.010219                            0.026638   \n",
       "61  0.169390                            0.013509   \n",
       "\n",
       "    Bicarbonate ; Hydrogen carbonate  Dimethylsulfide  3-Butyn-1-al  \\\n",
       "0                           0.143416         0.004437      0.001118   \n",
       "1                           0.037372         0.000000      0.005778   \n",
       "2                           0.065463         0.002946      0.009472   \n",
       "3                           0.026321         0.001608      0.020112   \n",
       "4                           0.037794         0.002402      0.013558   \n",
       "..                               ...              ...           ...   \n",
       "57                          0.126784         0.004256      0.008368   \n",
       "58                          0.067743         0.002511      0.009551   \n",
       "59                          0.032964         0.001881      0.003826   \n",
       "60                          0.015616         0.001966      0.021672   \n",
       "61                          0.077689         0.003086      0.007003   \n",
       "\n",
       "    1-pyrrolinium  Acrylamide  ...  \\\n",
       "0        0.002353    0.013185  ...   \n",
       "1        0.003199    0.011203  ...   \n",
       "2        0.002344    0.010895  ...   \n",
       "3        0.003865    0.016057  ...   \n",
       "4        0.003402    0.013344  ...   \n",
       "..            ...         ...  ...   \n",
       "57       0.002346    0.009851  ...   \n",
       "58       0.003074    0.026141  ...   \n",
       "59       0.002037    0.012085  ...   \n",
       "60       0.007119    0.027363  ...   \n",
       "61       0.003030    0.021127  ...   \n",
       "\n",
       "    TG(22:6(4Z,7Z,10Z,13Z,16Z,19Z)/20:5(5Z,8Z,11Z,14Z,17Z)/22:6(4Z,7Z,10Z,13Z,16Z,19Z))_iso3_  \\\n",
       "0                                            0.029462                                           \n",
       "1                                            0.026807                                           \n",
       "2                                            0.031639                                           \n",
       "3                                            0.029439                                           \n",
       "4                                            0.023395                                           \n",
       "..                                                ...                                           \n",
       "57                                           0.035073                                           \n",
       "58                                           0.044544                                           \n",
       "59                                           0.027994                                           \n",
       "60                                           0.013706                                           \n",
       "61                                           0.047374                                           \n",
       "\n",
       "    2,4,7,10-hexadecatetraenoylcoa ; 2,7,10,13-hexadecatetraenoylcoa ; 2E,4Z,7Z,10Z-hexadecatetraenoyl-CoA ; 3,7,10,13-hexadecatetraenoylcoa ; 4,7,10,13-hexadecatetraenoylcoa  \\\n",
       "0                                            0.029300                                                                                                                            \n",
       "1                                            0.021282                                                                                                                            \n",
       "2                                            0.026098                                                                                                                            \n",
       "3                                            0.032452                                                                                                                            \n",
       "4                                            0.027523                                                                                                                            \n",
       "..                                                ...                                                                                                                            \n",
       "57                                           0.025938                                                                                                                            \n",
       "58                                           0.036583                                                                                                                            \n",
       "59                                           0.018294                                                                                                                            \n",
       "60                                           0.017275                                                                                                                            \n",
       "61                                           0.030319                                                                                                                            \n",
       "\n",
       "    O-b-D-glucopyranosyl-(1->3)-O-2-(acetylamino)-2-deoxy-b-D-glucopyranosyl-(1->3)-O-_6-deoxy-a-L-galactopyranosyl-(1->4)_-O-b-D-galactopyranosyl-(1->4)-O-_6-deoxy-a-L-galactopyranosyl-(1->3)_-D-Glucose  \\\n",
       "0                                            0.036367                                                                                                                                                         \n",
       "1                                            0.024981                                                                                                                                                         \n",
       "2                                            0.029986                                                                                                                                                         \n",
       "3                                            0.034177                                                                                                                                                         \n",
       "4                                            0.018876                                                                                                                                                         \n",
       "..                                                ...                                                                                                                                                         \n",
       "57                                           0.040352                                                                                                                                                         \n",
       "58                                           0.044355                                                                                                                                                         \n",
       "59                                           0.033230                                                                                                                                                         \n",
       "60                                           0.038579                                                                                                                                                         \n",
       "61                                           0.038304                                                                                                                                                         \n",
       "\n",
       "    LS tetrasaccharide d ; Sialyllacto-N-neotetraose c ; Sialyllacto-N-tetraose a ; Sialyllacto-N-tetraose b ; Sialyllacto-N-tetraose c  \\\n",
       "0                                            0.025836                                                                                     \n",
       "1                                            0.013982                                                                                     \n",
       "2                                            0.025863                                                                                     \n",
       "3                                            0.022305                                                                                     \n",
       "4                                            0.016423                                                                                     \n",
       "..                                                ...                                                                                     \n",
       "57                                           0.029576                                                                                     \n",
       "58                                           0.030253                                                                                     \n",
       "59                                           0.022999                                                                                     \n",
       "60                                           0.017281                                                                                     \n",
       "61                                           0.028581                                                                                     \n",
       "\n",
       "    PIP2(16:0/18:0) ; PIP2(18:0/16:0)  \\\n",
       "0                            0.075427   \n",
       "1                            0.054200   \n",
       "2                            0.053371   \n",
       "3                            0.080242   \n",
       "4                            0.057103   \n",
       "..                                ...   \n",
       "57                           0.074567   \n",
       "58                           0.060527   \n",
       "59                           0.055171   \n",
       "60                           0.064956   \n",
       "61                           0.055304   \n",
       "\n",
       "    TG(22:5(7Z,10Z,13Z,16Z,19Z)/20:5(5Z,8Z,11Z,14Z,17Z)/22:6(4Z,7Z,10Z,13Z,16Z,19Z))_iso6_ ; TG(22:6(4Z,7Z,10Z,13Z,16Z,19Z)/20:4(5Z,8Z,11Z,14Z)/22:6(4Z,7Z,10Z,13Z,16Z,19Z))_iso3_  \\\n",
       "0                                            0.036502                                                                                                                                \n",
       "1                                            0.029125                                                                                                                                \n",
       "2                                            0.038207                                                                                                                                \n",
       "3                                            0.029226                                                                                                                                \n",
       "4                                            0.022155                                                                                                                                \n",
       "..                                                ...                                                                                                                                \n",
       "57                                           0.036209                                                                                                                                \n",
       "58                                           0.040154                                                                                                                                \n",
       "59                                           0.029840                                                                                                                                \n",
       "60                                           0.028227                                                                                                                                \n",
       "61                                           0.045042                                                                                                                                \n",
       "\n",
       "    (2E)-Hexadecenoyl-CoA ; 2,7,10-hexadecatrienoylcoa ; 3,7,10-hexadecatrienoylcoa ; 3Z,7Z,10Z-hexadecatrienoyl-CoA ; 4,7,10-hexadecatrienoylcoa ; 4Z,7Z,10Z-hexadecatrienoyl-CoA ; 7,10,13-hexadecatrienoylcoa ; trans,cis,cis-2,7,10-hexadecatrienoyl-CoA  \\\n",
       "0                                            0.019935                                                                                                                                                                                                          \n",
       "1                                            0.010750                                                                                                                                                                                                          \n",
       "2                                            0.023270                                                                                                                                                                                                          \n",
       "3                                            0.019556                                                                                                                                                                                                          \n",
       "4                                            0.011501                                                                                                                                                                                                          \n",
       "..                                                ...                                                                                                                                                                                                          \n",
       "57                                           0.023007                                                                                                                                                                                                          \n",
       "58                                           0.027552                                                                                                                                                                                                          \n",
       "59                                           0.020976                                                                                                                                                                                                          \n",
       "60                                           0.023974                                                                                                                                                                                                          \n",
       "61                                           0.026407                                                                                                                                                                                                          \n",
       "\n",
       "    Lacto-N-difucohexaose ; Lacto-N-difucopentaose II  \\\n",
       "0                                            0.032820   \n",
       "1                                            0.015981   \n",
       "2                                            0.030655   \n",
       "3                                            0.033062   \n",
       "4                                            0.014310   \n",
       "..                                                ...   \n",
       "57                                           0.040206   \n",
       "58                                           0.042445   \n",
       "59                                           0.030185   \n",
       "60                                           0.022860   \n",
       "61                                           0.040073   \n",
       "\n",
       "    Galabiosylceramide (d18:1/26:1(17Z)) ; Lactosylceramide (d18:1/26:1(17Z))  \\\n",
       "0                                            0.039391                           \n",
       "1                                            0.035154                           \n",
       "2                                            0.040250                           \n",
       "3                                            0.040780                           \n",
       "4                                            0.034584                           \n",
       "..                                                ...                           \n",
       "57                                           0.040569                           \n",
       "58                                           0.048388                           \n",
       "59                                           0.030732                           \n",
       "60                                           0.028829                           \n",
       "61                                           0.056842                           \n",
       "\n",
       "    test_proba  \n",
       "0          NaN  \n",
       "1          NaN  \n",
       "2          NaN  \n",
       "3          NaN  \n",
       "4          NaN  \n",
       "..         ...  \n",
       "57    0.408147  \n",
       "58         NaN  \n",
       "59         NaN  \n",
       "60         NaN  \n",
       "61         NaN  \n",
       "\n",
       "[62 rows x 2182 columns]"
      ]
     },
     "execution_count": 32,
     "metadata": {},
     "output_type": "execute_result"
    }
   ],
   "source": [
    "df_xg = X_test.copy()\n",
    "df_xg.loc[test_index, 'test_proba'] = prediction3\n",
    "\n",
    "df3 = pd.concat([X_train, df_xg], sort=False).sort_index()\n",
    "df3"
   ]
  },
  {
   "cell_type": "code",
   "execution_count": 33,
   "id": "be96e4a0",
   "metadata": {},
   "outputs": [
    {
     "data": {
      "text/plain": [
       "(0, 2182)"
      ]
     },
     "execution_count": 33,
     "metadata": {},
     "output_type": "execute_result"
    }
   ],
   "source": [
    "df3_main = df3.iloc[:49, ]\n",
    "df3_main = df3_main.loc[(df3_main['test_proba'] > max(prediction3[y_test == 0]))]\n",
    "df3_main.shape"
   ]
  },
  {
   "cell_type": "code",
   "execution_count": 34,
   "id": "d1b19467",
   "metadata": {},
   "outputs": [
    {
     "data": {
      "text/plain": [
       "(41,)"
      ]
     },
     "execution_count": 34,
     "metadata": {},
     "output_type": "execute_result"
    }
   ],
   "source": [
    "y_train.shape"
   ]
  },
  {
   "cell_type": "code",
   "execution_count": 35,
   "id": "5024d1ce",
   "metadata": {},
   "outputs": [
    {
     "data": {
      "text/plain": [
       "(21,)"
      ]
     },
     "execution_count": 35,
     "metadata": {},
     "output_type": "execute_result"
    }
   ],
   "source": [
    "y_test.shape"
   ]
  },
  {
   "cell_type": "code",
   "execution_count": 36,
   "id": "508bfc9d",
   "metadata": {},
   "outputs": [],
   "source": [
    "unique, counts = np.unique(y_train, return_counts=True)"
   ]
  },
  {
   "cell_type": "code",
   "execution_count": 37,
   "id": "be53b681",
   "metadata": {},
   "outputs": [
    {
     "data": {
      "text/plain": [
       "{0: 18, 1: 23}"
      ]
     },
     "execution_count": 37,
     "metadata": {},
     "output_type": "execute_result"
    }
   ],
   "source": [
    "dict(zip(unique, counts))"
   ]
  },
  {
   "cell_type": "code",
   "execution_count": 38,
   "id": "ff6b031f",
   "metadata": {},
   "outputs": [
    {
     "data": {
      "text/plain": [
       "{0: 13, 1: 8}"
      ]
     },
     "execution_count": 38,
     "metadata": {},
     "output_type": "execute_result"
    }
   ],
   "source": [
    "unique, counts = np.unique(y_test, return_counts=True)\n",
    "dict(zip(unique, counts))"
   ]
  },
  {
   "cell_type": "code",
   "execution_count": 39,
   "id": "e1cc8665",
   "metadata": {},
   "outputs": [],
   "source": [
    "common_list = []\n",
    "common_list.extend(list(df1_main.index.values))\n",
    "common_list.extend(list(df2_main.index.values))\n",
    "common_list.extend(list(df3_main.index.values))\n",
    "cl = set(common_list)"
   ]
  },
  {
   "cell_type": "code",
   "execution_count": 40,
   "id": "574df76f",
   "metadata": {},
   "outputs": [],
   "source": [
    "with open('master_list_metabolomics.txt', 'a+') as f:\n",
    "    for i in cl:\n",
    "        f.write(f'{i}\\n')"
   ]
  },
  {
   "cell_type": "code",
   "execution_count": 41,
   "id": "fe845922",
   "metadata": {},
   "outputs": [
    {
     "data": {
      "text/plain": [
       "{6}"
      ]
     },
     "execution_count": 41,
     "metadata": {},
     "output_type": "execute_result"
    }
   ],
   "source": [
    "cl"
   ]
  },
  {
   "cell_type": "code",
   "execution_count": 42,
   "id": "d5c7afa6",
   "metadata": {},
   "outputs": [
    {
     "data": {
      "text/html": [
       "<div>\n",
       "<style scoped>\n",
       "    .dataframe tbody tr th:only-of-type {\n",
       "        vertical-align: middle;\n",
       "    }\n",
       "\n",
       "    .dataframe tbody tr th {\n",
       "        vertical-align: top;\n",
       "    }\n",
       "\n",
       "    .dataframe thead th {\n",
       "        text-align: right;\n",
       "    }\n",
       "</style>\n",
       "<table border=\"1\" class=\"dataframe\">\n",
       "  <thead>\n",
       "    <tr style=\"text-align: right;\">\n",
       "      <th></th>\n",
       "      <th>Acetone ; Propanal ; acetone</th>\n",
       "      <th>Acetaldehyde oxime ; HMDB01122</th>\n",
       "      <th>acetate</th>\n",
       "      <th>Urea</th>\n",
       "      <th>Isopropyl alcohol ; Propyl alcohol</th>\n",
       "      <th>Bicarbonate ; Hydrogen carbonate</th>\n",
       "      <th>Dimethylsulfide</th>\n",
       "      <th>3-Butyn-1-al</th>\n",
       "      <th>1-pyrrolinium</th>\n",
       "      <th>Acrylamide</th>\n",
       "      <th>...</th>\n",
       "      <th>2,4,7,10-hexadecatetraenoylcoa ; 2,7,10,13-hexadecatetraenoylcoa ; 2E,4Z,7Z,10Z-hexadecatetraenoyl-CoA ; 3,7,10,13-hexadecatetraenoylcoa ; 4,7,10,13-hexadecatetraenoylcoa</th>\n",
       "      <th>O-b-D-glucopyranosyl-(1-&gt;3)-O-2-(acetylamino)-2-deoxy-b-D-glucopyranosyl-(1-&gt;3)-O-_6-deoxy-a-L-galactopyranosyl-(1-&gt;4)_-O-b-D-galactopyranosyl-(1-&gt;4)-O-_6-deoxy-a-L-galactopyranosyl-(1-&gt;3)_-D-Glucose</th>\n",
       "      <th>LS tetrasaccharide d ; Sialyllacto-N-neotetraose c ; Sialyllacto-N-tetraose a ; Sialyllacto-N-tetraose b ; Sialyllacto-N-tetraose c</th>\n",
       "      <th>PIP2(16:0/18:0) ; PIP2(18:0/16:0)</th>\n",
       "      <th>TG(22:5(7Z,10Z,13Z,16Z,19Z)/20:5(5Z,8Z,11Z,14Z,17Z)/22:6(4Z,7Z,10Z,13Z,16Z,19Z))_iso6_ ; TG(22:6(4Z,7Z,10Z,13Z,16Z,19Z)/20:4(5Z,8Z,11Z,14Z)/22:6(4Z,7Z,10Z,13Z,16Z,19Z))_iso3_</th>\n",
       "      <th>(2E)-Hexadecenoyl-CoA ; 2,7,10-hexadecatrienoylcoa ; 3,7,10-hexadecatrienoylcoa ; 3Z,7Z,10Z-hexadecatrienoyl-CoA ; 4,7,10-hexadecatrienoylcoa ; 4Z,7Z,10Z-hexadecatrienoyl-CoA ; 7,10,13-hexadecatrienoylcoa ; trans,cis,cis-2,7,10-hexadecatrienoyl-CoA</th>\n",
       "      <th>Lacto-N-difucohexaose ; Lacto-N-difucopentaose II</th>\n",
       "      <th>Galabiosylceramide (d18:1/26:1(17Z)) ; Lactosylceramide (d18:1/26:1(17Z))</th>\n",
       "      <th>test_proba</th>\n",
       "      <th>target</th>\n",
       "    </tr>\n",
       "  </thead>\n",
       "  <tbody>\n",
       "    <tr>\n",
       "      <th>5</th>\n",
       "      <td>0.011141</td>\n",
       "      <td>0.009984</td>\n",
       "      <td>0.659236</td>\n",
       "      <td>0.065128</td>\n",
       "      <td>0.017453</td>\n",
       "      <td>0.051079</td>\n",
       "      <td>0.002598</td>\n",
       "      <td>0.012055</td>\n",
       "      <td>0.003386</td>\n",
       "      <td>0.030684</td>\n",
       "      <td>...</td>\n",
       "      <td>0.024676</td>\n",
       "      <td>0.025293</td>\n",
       "      <td>0.022498</td>\n",
       "      <td>0.058869</td>\n",
       "      <td>0.030951</td>\n",
       "      <td>0.022203</td>\n",
       "      <td>0.019651</td>\n",
       "      <td>0.031818</td>\n",
       "      <td>0.040000</td>\n",
       "      <td>1.0</td>\n",
       "    </tr>\n",
       "    <tr>\n",
       "      <th>6</th>\n",
       "      <td>0.005588</td>\n",
       "      <td>0.004644</td>\n",
       "      <td>1.364809</td>\n",
       "      <td>0.135459</td>\n",
       "      <td>0.000000</td>\n",
       "      <td>0.000000</td>\n",
       "      <td>0.000000</td>\n",
       "      <td>0.009729</td>\n",
       "      <td>0.004694</td>\n",
       "      <td>0.014806</td>\n",
       "      <td>...</td>\n",
       "      <td>0.023589</td>\n",
       "      <td>0.030071</td>\n",
       "      <td>0.020941</td>\n",
       "      <td>0.076639</td>\n",
       "      <td>0.037050</td>\n",
       "      <td>0.018037</td>\n",
       "      <td>0.026653</td>\n",
       "      <td>0.048694</td>\n",
       "      <td>0.100000</td>\n",
       "      <td>1.0</td>\n",
       "    </tr>\n",
       "    <tr>\n",
       "      <th>13</th>\n",
       "      <td>0.033523</td>\n",
       "      <td>0.009218</td>\n",
       "      <td>1.059579</td>\n",
       "      <td>0.109258</td>\n",
       "      <td>0.014784</td>\n",
       "      <td>0.032721</td>\n",
       "      <td>0.001313</td>\n",
       "      <td>0.005751</td>\n",
       "      <td>0.008299</td>\n",
       "      <td>0.032031</td>\n",
       "      <td>...</td>\n",
       "      <td>0.020374</td>\n",
       "      <td>0.031512</td>\n",
       "      <td>0.025023</td>\n",
       "      <td>0.062053</td>\n",
       "      <td>0.029968</td>\n",
       "      <td>0.024340</td>\n",
       "      <td>0.029870</td>\n",
       "      <td>0.036048</td>\n",
       "      <td>0.300000</td>\n",
       "      <td>1.0</td>\n",
       "    </tr>\n",
       "    <tr>\n",
       "      <th>14</th>\n",
       "      <td>0.020936</td>\n",
       "      <td>0.006008</td>\n",
       "      <td>2.162611</td>\n",
       "      <td>0.216662</td>\n",
       "      <td>0.022609</td>\n",
       "      <td>0.055089</td>\n",
       "      <td>0.001374</td>\n",
       "      <td>0.014707</td>\n",
       "      <td>0.004673</td>\n",
       "      <td>0.025133</td>\n",
       "      <td>...</td>\n",
       "      <td>0.033130</td>\n",
       "      <td>0.042306</td>\n",
       "      <td>0.028578</td>\n",
       "      <td>0.083914</td>\n",
       "      <td>0.034131</td>\n",
       "      <td>0.037424</td>\n",
       "      <td>0.046017</td>\n",
       "      <td>0.040396</td>\n",
       "      <td>0.933333</td>\n",
       "      <td>1.0</td>\n",
       "    </tr>\n",
       "    <tr>\n",
       "      <th>18</th>\n",
       "      <td>0.000000</td>\n",
       "      <td>0.005607</td>\n",
       "      <td>2.794049</td>\n",
       "      <td>0.281898</td>\n",
       "      <td>0.011671</td>\n",
       "      <td>0.048926</td>\n",
       "      <td>0.001743</td>\n",
       "      <td>0.005170</td>\n",
       "      <td>0.003252</td>\n",
       "      <td>0.011638</td>\n",
       "      <td>...</td>\n",
       "      <td>0.018334</td>\n",
       "      <td>0.031475</td>\n",
       "      <td>0.017202</td>\n",
       "      <td>0.073433</td>\n",
       "      <td>0.024569</td>\n",
       "      <td>0.019386</td>\n",
       "      <td>0.028369</td>\n",
       "      <td>0.029232</td>\n",
       "      <td>0.140000</td>\n",
       "      <td>1.0</td>\n",
       "    </tr>\n",
       "    <tr>\n",
       "      <th>33</th>\n",
       "      <td>0.001401</td>\n",
       "      <td>0.011153</td>\n",
       "      <td>0.000000</td>\n",
       "      <td>0.000000</td>\n",
       "      <td>0.010036</td>\n",
       "      <td>0.033916</td>\n",
       "      <td>0.001127</td>\n",
       "      <td>0.029042</td>\n",
       "      <td>0.003436</td>\n",
       "      <td>0.013404</td>\n",
       "      <td>...</td>\n",
       "      <td>0.009754</td>\n",
       "      <td>0.032013</td>\n",
       "      <td>0.019493</td>\n",
       "      <td>0.064700</td>\n",
       "      <td>0.022372</td>\n",
       "      <td>0.013152</td>\n",
       "      <td>0.019244</td>\n",
       "      <td>0.022367</td>\n",
       "      <td>0.740000</td>\n",
       "      <td>1.0</td>\n",
       "    </tr>\n",
       "    <tr>\n",
       "      <th>37</th>\n",
       "      <td>0.000000</td>\n",
       "      <td>0.006458</td>\n",
       "      <td>0.050548</td>\n",
       "      <td>0.012002</td>\n",
       "      <td>0.000000</td>\n",
       "      <td>0.000000</td>\n",
       "      <td>0.000642</td>\n",
       "      <td>0.020524</td>\n",
       "      <td>0.003171</td>\n",
       "      <td>0.006387</td>\n",
       "      <td>...</td>\n",
       "      <td>0.023151</td>\n",
       "      <td>0.018226</td>\n",
       "      <td>0.013784</td>\n",
       "      <td>0.054095</td>\n",
       "      <td>0.019990</td>\n",
       "      <td>0.014045</td>\n",
       "      <td>0.013133</td>\n",
       "      <td>0.027973</td>\n",
       "      <td>0.913333</td>\n",
       "      <td>1.0</td>\n",
       "    </tr>\n",
       "    <tr>\n",
       "      <th>45</th>\n",
       "      <td>0.013196</td>\n",
       "      <td>0.002906</td>\n",
       "      <td>1.675851</td>\n",
       "      <td>0.168906</td>\n",
       "      <td>0.012024</td>\n",
       "      <td>0.044982</td>\n",
       "      <td>0.001773</td>\n",
       "      <td>0.004601</td>\n",
       "      <td>0.001948</td>\n",
       "      <td>0.006204</td>\n",
       "      <td>...</td>\n",
       "      <td>0.021465</td>\n",
       "      <td>0.034015</td>\n",
       "      <td>0.025258</td>\n",
       "      <td>0.055743</td>\n",
       "      <td>0.030627</td>\n",
       "      <td>0.021747</td>\n",
       "      <td>0.032798</td>\n",
       "      <td>0.040198</td>\n",
       "      <td>0.220000</td>\n",
       "      <td>1.0</td>\n",
       "    </tr>\n",
       "  </tbody>\n",
       "</table>\n",
       "<p>8 rows × 2183 columns</p>\n",
       "</div>"
      ],
      "text/plain": [
       "    Acetone ; Propanal ; acetone  Acetaldehyde oxime ; HMDB01122   acetate  \\\n",
       "5                       0.011141                        0.009984  0.659236   \n",
       "6                       0.005588                        0.004644  1.364809   \n",
       "13                      0.033523                        0.009218  1.059579   \n",
       "14                      0.020936                        0.006008  2.162611   \n",
       "18                      0.000000                        0.005607  2.794049   \n",
       "33                      0.001401                        0.011153  0.000000   \n",
       "37                      0.000000                        0.006458  0.050548   \n",
       "45                      0.013196                        0.002906  1.675851   \n",
       "\n",
       "        Urea  Isopropyl alcohol ; Propyl alcohol  \\\n",
       "5   0.065128                            0.017453   \n",
       "6   0.135459                            0.000000   \n",
       "13  0.109258                            0.014784   \n",
       "14  0.216662                            0.022609   \n",
       "18  0.281898                            0.011671   \n",
       "33  0.000000                            0.010036   \n",
       "37  0.012002                            0.000000   \n",
       "45  0.168906                            0.012024   \n",
       "\n",
       "    Bicarbonate ; Hydrogen carbonate  Dimethylsulfide  3-Butyn-1-al  \\\n",
       "5                           0.051079         0.002598      0.012055   \n",
       "6                           0.000000         0.000000      0.009729   \n",
       "13                          0.032721         0.001313      0.005751   \n",
       "14                          0.055089         0.001374      0.014707   \n",
       "18                          0.048926         0.001743      0.005170   \n",
       "33                          0.033916         0.001127      0.029042   \n",
       "37                          0.000000         0.000642      0.020524   \n",
       "45                          0.044982         0.001773      0.004601   \n",
       "\n",
       "    1-pyrrolinium  Acrylamide  ...  \\\n",
       "5        0.003386    0.030684  ...   \n",
       "6        0.004694    0.014806  ...   \n",
       "13       0.008299    0.032031  ...   \n",
       "14       0.004673    0.025133  ...   \n",
       "18       0.003252    0.011638  ...   \n",
       "33       0.003436    0.013404  ...   \n",
       "37       0.003171    0.006387  ...   \n",
       "45       0.001948    0.006204  ...   \n",
       "\n",
       "    2,4,7,10-hexadecatetraenoylcoa ; 2,7,10,13-hexadecatetraenoylcoa ; 2E,4Z,7Z,10Z-hexadecatetraenoyl-CoA ; 3,7,10,13-hexadecatetraenoylcoa ; 4,7,10,13-hexadecatetraenoylcoa  \\\n",
       "5                                            0.024676                                                                                                                            \n",
       "6                                            0.023589                                                                                                                            \n",
       "13                                           0.020374                                                                                                                            \n",
       "14                                           0.033130                                                                                                                            \n",
       "18                                           0.018334                                                                                                                            \n",
       "33                                           0.009754                                                                                                                            \n",
       "37                                           0.023151                                                                                                                            \n",
       "45                                           0.021465                                                                                                                            \n",
       "\n",
       "    O-b-D-glucopyranosyl-(1->3)-O-2-(acetylamino)-2-deoxy-b-D-glucopyranosyl-(1->3)-O-_6-deoxy-a-L-galactopyranosyl-(1->4)_-O-b-D-galactopyranosyl-(1->4)-O-_6-deoxy-a-L-galactopyranosyl-(1->3)_-D-Glucose  \\\n",
       "5                                            0.025293                                                                                                                                                         \n",
       "6                                            0.030071                                                                                                                                                         \n",
       "13                                           0.031512                                                                                                                                                         \n",
       "14                                           0.042306                                                                                                                                                         \n",
       "18                                           0.031475                                                                                                                                                         \n",
       "33                                           0.032013                                                                                                                                                         \n",
       "37                                           0.018226                                                                                                                                                         \n",
       "45                                           0.034015                                                                                                                                                         \n",
       "\n",
       "    LS tetrasaccharide d ; Sialyllacto-N-neotetraose c ; Sialyllacto-N-tetraose a ; Sialyllacto-N-tetraose b ; Sialyllacto-N-tetraose c  \\\n",
       "5                                            0.022498                                                                                     \n",
       "6                                            0.020941                                                                                     \n",
       "13                                           0.025023                                                                                     \n",
       "14                                           0.028578                                                                                     \n",
       "18                                           0.017202                                                                                     \n",
       "33                                           0.019493                                                                                     \n",
       "37                                           0.013784                                                                                     \n",
       "45                                           0.025258                                                                                     \n",
       "\n",
       "    PIP2(16:0/18:0) ; PIP2(18:0/16:0)  \\\n",
       "5                            0.058869   \n",
       "6                            0.076639   \n",
       "13                           0.062053   \n",
       "14                           0.083914   \n",
       "18                           0.073433   \n",
       "33                           0.064700   \n",
       "37                           0.054095   \n",
       "45                           0.055743   \n",
       "\n",
       "    TG(22:5(7Z,10Z,13Z,16Z,19Z)/20:5(5Z,8Z,11Z,14Z,17Z)/22:6(4Z,7Z,10Z,13Z,16Z,19Z))_iso6_ ; TG(22:6(4Z,7Z,10Z,13Z,16Z,19Z)/20:4(5Z,8Z,11Z,14Z)/22:6(4Z,7Z,10Z,13Z,16Z,19Z))_iso3_  \\\n",
       "5                                            0.030951                                                                                                                                \n",
       "6                                            0.037050                                                                                                                                \n",
       "13                                           0.029968                                                                                                                                \n",
       "14                                           0.034131                                                                                                                                \n",
       "18                                           0.024569                                                                                                                                \n",
       "33                                           0.022372                                                                                                                                \n",
       "37                                           0.019990                                                                                                                                \n",
       "45                                           0.030627                                                                                                                                \n",
       "\n",
       "    (2E)-Hexadecenoyl-CoA ; 2,7,10-hexadecatrienoylcoa ; 3,7,10-hexadecatrienoylcoa ; 3Z,7Z,10Z-hexadecatrienoyl-CoA ; 4,7,10-hexadecatrienoylcoa ; 4Z,7Z,10Z-hexadecatrienoyl-CoA ; 7,10,13-hexadecatrienoylcoa ; trans,cis,cis-2,7,10-hexadecatrienoyl-CoA  \\\n",
       "5                                            0.022203                                                                                                                                                                                                          \n",
       "6                                            0.018037                                                                                                                                                                                                          \n",
       "13                                           0.024340                                                                                                                                                                                                          \n",
       "14                                           0.037424                                                                                                                                                                                                          \n",
       "18                                           0.019386                                                                                                                                                                                                          \n",
       "33                                           0.013152                                                                                                                                                                                                          \n",
       "37                                           0.014045                                                                                                                                                                                                          \n",
       "45                                           0.021747                                                                                                                                                                                                          \n",
       "\n",
       "    Lacto-N-difucohexaose ; Lacto-N-difucopentaose II  \\\n",
       "5                                            0.019651   \n",
       "6                                            0.026653   \n",
       "13                                           0.029870   \n",
       "14                                           0.046017   \n",
       "18                                           0.028369   \n",
       "33                                           0.019244   \n",
       "37                                           0.013133   \n",
       "45                                           0.032798   \n",
       "\n",
       "    Galabiosylceramide (d18:1/26:1(17Z)) ; Lactosylceramide (d18:1/26:1(17Z))  \\\n",
       "5                                            0.031818                           \n",
       "6                                            0.048694                           \n",
       "13                                           0.036048                           \n",
       "14                                           0.040396                           \n",
       "18                                           0.029232                           \n",
       "33                                           0.022367                           \n",
       "37                                           0.027973                           \n",
       "45                                           0.040198                           \n",
       "\n",
       "    test_proba  target  \n",
       "5     0.040000     1.0  \n",
       "6     0.100000     1.0  \n",
       "13    0.300000     1.0  \n",
       "14    0.933333     1.0  \n",
       "18    0.140000     1.0  \n",
       "33    0.740000     1.0  \n",
       "37    0.913333     1.0  \n",
       "45    0.220000     1.0  \n",
       "\n",
       "[8 rows x 2183 columns]"
      ]
     },
     "execution_count": 42,
     "metadata": {},
     "output_type": "execute_result"
    }
   ],
   "source": [
    "df1_total = df1.iloc[:49, ]\n",
    "df1_total = df1_total.loc[df1_total['target'] == 1.0]\n",
    "df1_total"
   ]
  },
  {
   "cell_type": "code",
   "execution_count": 43,
   "id": "6cbfb3a9",
   "metadata": {},
   "outputs": [],
   "source": [
    "l = list(df1_total.index.values)\n",
    "with open('total_metabolomics.txt', 'a+') as f:\n",
    "    for i in l:\n",
    "        f.write(f'{i}\\n')"
   ]
  },
  {
   "cell_type": "code",
   "execution_count": 44,
   "id": "3bfef068",
   "metadata": {},
   "outputs": [
    {
     "data": {
      "text/plain": [
       "[5, 6, 13, 14, 18, 33, 37, 45]"
      ]
     },
     "execution_count": 44,
     "metadata": {},
     "output_type": "execute_result"
    }
   ],
   "source": [
    "l"
   ]
  },
  {
   "cell_type": "code",
   "execution_count": 45,
   "id": "2ba27e83",
   "metadata": {},
   "outputs": [
    {
     "data": {
      "text/plain": [
       "{6}"
      ]
     },
     "execution_count": 45,
     "metadata": {},
     "output_type": "execute_result"
    }
   ],
   "source": [
    "cl"
   ]
  },
  {
   "cell_type": "code",
   "execution_count": null,
   "id": "c9a0c913",
   "metadata": {},
   "outputs": [],
   "source": []
  }
 ],
 "metadata": {
  "kernelspec": {
   "display_name": "Python 3 (ipykernel)",
   "language": "python",
   "name": "python3"
  },
  "language_info": {
   "codemirror_mode": {
    "name": "ipython",
    "version": 3
   },
   "file_extension": ".py",
   "mimetype": "text/x-python",
   "name": "python",
   "nbconvert_exporter": "python",
   "pygments_lexer": "ipython3",
   "version": "3.9.13"
  }
 },
 "nbformat": 4,
 "nbformat_minor": 5
}
