{
 "cells": [
  {
   "cell_type": "code",
   "execution_count": 1,
   "id": "a4e4aa37",
   "metadata": {},
   "outputs": [],
   "source": [
    "with open('C:\\\\Users\\\\nilav\\\\Desktop\\\\NCI Cell Lines\\\\NCI Cell Lines\\\\ModelRunNTimes\\\\outputs\\\\master_list_metabolomics.txt', 'r') as f:\n",
    "    x = set(f.read().strip().split())"
   ]
  },
  {
   "cell_type": "code",
   "execution_count": 2,
   "id": "b225ac9b",
   "metadata": {},
   "outputs": [
    {
     "data": {
      "text/plain": [
       "21"
      ]
     },
     "execution_count": 2,
     "metadata": {},
     "output_type": "execute_result"
    }
   ],
   "source": [
    "len(x)"
   ]
  },
  {
   "cell_type": "code",
   "execution_count": 3,
   "id": "fee783d9",
   "metadata": {},
   "outputs": [],
   "source": [
    "with open('C:\\\\Users\\\\nilav\\\\Desktop\\\\NCI Cell Lines\\\\NCI Cell Lines\\\\ModelRunNTimes\\\\outputs\\\\total_metabolomics.txt', 'r') as f:\n",
    "    y = set(f.read().strip().split())"
   ]
  },
  {
   "cell_type": "code",
   "execution_count": 4,
   "id": "95239c0d",
   "metadata": {},
   "outputs": [
    {
     "data": {
      "text/plain": [
       "24"
      ]
     },
     "execution_count": 4,
     "metadata": {},
     "output_type": "execute_result"
    }
   ],
   "source": [
    "len(y)"
   ]
  },
  {
   "cell_type": "code",
   "execution_count": 11,
   "id": "ea4440e7",
   "metadata": {},
   "outputs": [],
   "source": [
    "failed = []\n",
    "for i in y:\n",
    "    if i not in x:\n",
    "        failed.append(i)"
   ]
  },
  {
   "cell_type": "code",
   "execution_count": 12,
   "id": "05170548",
   "metadata": {},
   "outputs": [
    {
     "data": {
      "text/plain": [
       "3"
      ]
     },
     "execution_count": 12,
     "metadata": {},
     "output_type": "execute_result"
    }
   ],
   "source": [
    "len(failed)"
   ]
  },
  {
   "cell_type": "code",
   "execution_count": 13,
   "id": "5173cee6",
   "metadata": {},
   "outputs": [
    {
     "data": {
      "text/plain": [
       "['31', '50', '26']"
      ]
     },
     "execution_count": 13,
     "metadata": {},
     "output_type": "execute_result"
    }
   ],
   "source": [
    "failed #third iteration with 52 samples"
   ]
  },
  {
   "cell_type": "code",
   "execution_count": 15,
   "id": "6b901d96",
   "metadata": {},
   "outputs": [
    {
     "data": {
      "text/plain": [
       "['18', '50', '22']"
      ]
     },
     "execution_count": 15,
     "metadata": {},
     "output_type": "execute_result"
    }
   ],
   "source": [
    "failed #fourth iteration with 52 samples"
   ]
  },
  {
   "cell_type": "code",
   "execution_count": 9,
   "id": "6ead78ae",
   "metadata": {},
   "outputs": [
    {
     "data": {
      "text/plain": [
       "['50', '26', '31']"
      ]
     },
     "execution_count": 9,
     "metadata": {},
     "output_type": "execute_result"
    }
   ],
   "source": [
    "failed #first iteration with 15 total drugs and 52 samples"
   ]
  },
  {
   "cell_type": "code",
   "execution_count": null,
   "id": "80997241",
   "metadata": {},
   "outputs": [],
   "source": []
  }
 ],
 "metadata": {
  "kernelspec": {
   "display_name": "Python 3 (ipykernel)",
   "language": "python",
   "name": "python3"
  },
  "language_info": {
   "codemirror_mode": {
    "name": "ipython",
    "version": 3
   },
   "file_extension": ".py",
   "mimetype": "text/x-python",
   "name": "python",
   "nbconvert_exporter": "python",
   "pygments_lexer": "ipython3",
   "version": "3.8.8"
  }
 },
 "nbformat": 4,
 "nbformat_minor": 5
}
