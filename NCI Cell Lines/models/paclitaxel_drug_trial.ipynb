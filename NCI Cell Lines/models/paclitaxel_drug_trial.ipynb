{
 "cells": [
  {
   "cell_type": "code",
   "execution_count": 1,
   "id": "1374c194",
   "metadata": {},
   "outputs": [],
   "source": [
    "import numpy as np\n",
    "import pandas as pd\n",
    "from sklearn.preprocessing import MinMaxScaler, StandardScaler\n",
    "from sklearn.feature_selection import RFE, RFECV\n",
    "from sklearn.model_selection import StratifiedKFold, RepeatedStratifiedKFold\n",
    "from sklearn.svm import SVC\n",
    "from sklearn.ensemble import RandomForestClassifier, AdaBoostClassifier\n",
    "from sklearn.tree import DecisionTreeClassifier\n",
    "from xgboost import XGBClassifier\n",
    "from sklearn.metrics import accuracy_score, f1_score, recall_score, precision_score\n",
    "import seaborn as sns\n",
    "from warnings import filterwarnings\n",
    "import matplotlib.pyplot as plt\n",
    "filterwarnings('ignore')"
   ]
  },
  {
   "cell_type": "code",
   "execution_count": 2,
   "id": "2060d680",
   "metadata": {},
   "outputs": [
    {
     "data": {
      "text/html": [
       "<div>\n",
       "<style scoped>\n",
       "    .dataframe tbody tr th:only-of-type {\n",
       "        vertical-align: middle;\n",
       "    }\n",
       "\n",
       "    .dataframe tbody tr th {\n",
       "        vertical-align: top;\n",
       "    }\n",
       "\n",
       "    .dataframe thead th {\n",
       "        text-align: right;\n",
       "    }\n",
       "</style>\n",
       "<table border=\"1\" class=\"dataframe\">\n",
       "  <thead>\n",
       "    <tr style=\"text-align: right;\">\n",
       "      <th></th>\n",
       "      <th>Cell Line</th>\n",
       "      <th>Acetone ; Propanal ; acetone</th>\n",
       "      <th>Acetaldehyde oxime ; HMDB01122</th>\n",
       "      <th>acetate</th>\n",
       "      <th>Urea</th>\n",
       "      <th>Isopropyl alcohol ; Propyl alcohol</th>\n",
       "      <th>Bicarbonate ; Hydrogen carbonate</th>\n",
       "      <th>Dimethylsulfide</th>\n",
       "      <th>3-Butyn-1-al</th>\n",
       "      <th>1-pyrrolinium</th>\n",
       "      <th>...</th>\n",
       "      <th>O-b-D-glucopyranosyl-(1-&gt;3)-O-2-(acetylamino)-2-deoxy-b-D-glucopyranosyl-(1-&gt;3)-O-[6-deoxy-a-L-galactopyranosyl-(1-&gt;4)]-O-b-D-galactopyranosyl-(1-&gt;4)-O-[6-deoxy-a-L-galactopyranosyl-(1-&gt;3)]-D-Glucose</th>\n",
       "      <th>LS tetrasaccharide d ; Sialyllacto-N-neotetraose c ; Sialyllacto-N-tetraose a ; Sialyllacto-N-tetraose b ; Sialyllacto-N-tetraose c</th>\n",
       "      <th>PIP2(16:0/18:0) ; PIP2(18:0/16:0)</th>\n",
       "      <th>TG(22:5(7Z,10Z,13Z,16Z,19Z)/20:5(5Z,8Z,11Z,14Z,17Z)/22:6(4Z,7Z,10Z,13Z,16Z,19Z))[iso6] ; TG(22:6(4Z,7Z,10Z,13Z,16Z,19Z)/20:4(5Z,8Z,11Z,14Z)/22:6(4Z,7Z,10Z,13Z,16Z,19Z))[iso3]</th>\n",
       "      <th>(2E)-Hexadecenoyl-CoA ; 2,7,10-hexadecatrienoylcoa ; 3,7,10-hexadecatrienoylcoa ; 3Z,7Z,10Z-hexadecatrienoyl-CoA ; 4,7,10-hexadecatrienoylcoa ; 4Z,7Z,10Z-hexadecatrienoyl-CoA ; 7,10,13-hexadecatrienoylcoa ; trans,cis,cis-2,7,10-hexadecatrienoyl-CoA</th>\n",
       "      <th>Lacto-N-difucohexaose ; Lacto-N-difucopentaose II</th>\n",
       "      <th>Galabiosylceramide (d18:1/26:1(17Z)) ; Lactosylceramide (d18:1/26:1(17Z))</th>\n",
       "      <th>cells</th>\n",
       "      <th>Cell names</th>\n",
       "      <th>Paclitaxel</th>\n",
       "    </tr>\n",
       "  </thead>\n",
       "  <tbody>\n",
       "    <tr>\n",
       "      <th>0</th>\n",
       "      <td>Breast_BT549</td>\n",
       "      <td>0.021811</td>\n",
       "      <td>0.006137</td>\n",
       "      <td>1.801231</td>\n",
       "      <td>0.178675</td>\n",
       "      <td>0.031762</td>\n",
       "      <td>0.143416</td>\n",
       "      <td>0.004437</td>\n",
       "      <td>0.001118</td>\n",
       "      <td>0.002353</td>\n",
       "      <td>...</td>\n",
       "      <td>0.036367</td>\n",
       "      <td>0.025836</td>\n",
       "      <td>0.075427</td>\n",
       "      <td>0.036502</td>\n",
       "      <td>0.019935</td>\n",
       "      <td>0.032820</td>\n",
       "      <td>0.039391</td>\n",
       "      <td>BT549</td>\n",
       "      <td>BR:BT-549</td>\n",
       "      <td>5.573385</td>\n",
       "    </tr>\n",
       "    <tr>\n",
       "      <th>1</th>\n",
       "      <td>Breast_HS578T</td>\n",
       "      <td>0.010611</td>\n",
       "      <td>0.006815</td>\n",
       "      <td>0.884542</td>\n",
       "      <td>0.093390</td>\n",
       "      <td>0.016027</td>\n",
       "      <td>0.037372</td>\n",
       "      <td>NaN</td>\n",
       "      <td>0.005778</td>\n",
       "      <td>0.003199</td>\n",
       "      <td>...</td>\n",
       "      <td>0.024981</td>\n",
       "      <td>0.013982</td>\n",
       "      <td>0.054200</td>\n",
       "      <td>0.029125</td>\n",
       "      <td>0.010750</td>\n",
       "      <td>0.015981</td>\n",
       "      <td>0.035154</td>\n",
       "      <td>HS578T</td>\n",
       "      <td>BR:HS 578T</td>\n",
       "      <td>6.502923</td>\n",
       "    </tr>\n",
       "  </tbody>\n",
       "</table>\n",
       "<p>2 rows × 2185 columns</p>\n",
       "</div>"
      ],
      "text/plain": [
       "       Cell Line  Acetone ; Propanal ; acetone  \\\n",
       "0   Breast_BT549                      0.021811   \n",
       "1  Breast_HS578T                      0.010611   \n",
       "\n",
       "   Acetaldehyde oxime ; HMDB01122   acetate      Urea  \\\n",
       "0                        0.006137  1.801231  0.178675   \n",
       "1                        0.006815  0.884542  0.093390   \n",
       "\n",
       "   Isopropyl alcohol ; Propyl alcohol  Bicarbonate ; Hydrogen carbonate  \\\n",
       "0                            0.031762                          0.143416   \n",
       "1                            0.016027                          0.037372   \n",
       "\n",
       "   Dimethylsulfide  3-Butyn-1-al  1-pyrrolinium  ...  \\\n",
       "0         0.004437      0.001118       0.002353  ...   \n",
       "1              NaN      0.005778       0.003199  ...   \n",
       "\n",
       "   O-b-D-glucopyranosyl-(1->3)-O-2-(acetylamino)-2-deoxy-b-D-glucopyranosyl-(1->3)-O-[6-deoxy-a-L-galactopyranosyl-(1->4)]-O-b-D-galactopyranosyl-(1->4)-O-[6-deoxy-a-L-galactopyranosyl-(1->3)]-D-Glucose  \\\n",
       "0                                           0.036367                                                                                                                                                         \n",
       "1                                           0.024981                                                                                                                                                         \n",
       "\n",
       "   LS tetrasaccharide d ; Sialyllacto-N-neotetraose c ; Sialyllacto-N-tetraose a ; Sialyllacto-N-tetraose b ; Sialyllacto-N-tetraose c  \\\n",
       "0                                           0.025836                                                                                     \n",
       "1                                           0.013982                                                                                     \n",
       "\n",
       "   PIP2(16:0/18:0) ; PIP2(18:0/16:0)  \\\n",
       "0                           0.075427   \n",
       "1                           0.054200   \n",
       "\n",
       "   TG(22:5(7Z,10Z,13Z,16Z,19Z)/20:5(5Z,8Z,11Z,14Z,17Z)/22:6(4Z,7Z,10Z,13Z,16Z,19Z))[iso6] ; TG(22:6(4Z,7Z,10Z,13Z,16Z,19Z)/20:4(5Z,8Z,11Z,14Z)/22:6(4Z,7Z,10Z,13Z,16Z,19Z))[iso3]  \\\n",
       "0                                           0.036502                                                                                                                                \n",
       "1                                           0.029125                                                                                                                                \n",
       "\n",
       "   (2E)-Hexadecenoyl-CoA ; 2,7,10-hexadecatrienoylcoa ; 3,7,10-hexadecatrienoylcoa ; 3Z,7Z,10Z-hexadecatrienoyl-CoA ; 4,7,10-hexadecatrienoylcoa ; 4Z,7Z,10Z-hexadecatrienoyl-CoA ; 7,10,13-hexadecatrienoylcoa ; trans,cis,cis-2,7,10-hexadecatrienoyl-CoA  \\\n",
       "0                                           0.019935                                                                                                                                                                                                          \n",
       "1                                           0.010750                                                                                                                                                                                                          \n",
       "\n",
       "   Lacto-N-difucohexaose ; Lacto-N-difucopentaose II  \\\n",
       "0                                           0.032820   \n",
       "1                                           0.015981   \n",
       "\n",
       "   Galabiosylceramide (d18:1/26:1(17Z)) ; Lactosylceramide (d18:1/26:1(17Z))  \\\n",
       "0                                           0.039391                           \n",
       "1                                           0.035154                           \n",
       "\n",
       "    cells  Cell names  Paclitaxel  \n",
       "0   BT549   BR:BT-549    5.573385  \n",
       "1  HS578T  BR:HS 578T    6.502923  \n",
       "\n",
       "[2 rows x 2185 columns]"
      ]
     },
     "execution_count": 2,
     "metadata": {},
     "output_type": "execute_result"
    }
   ],
   "source": [
    "data = pd.read_csv('C:\\\\Users\\\\nilav\\\\NCI Cell Lines\\\\Paclitaxel_metabolic_NCI.csv')\n",
    "data.head(2)"
   ]
  },
  {
   "cell_type": "code",
   "execution_count": 3,
   "id": "6753e626",
   "metadata": {},
   "outputs": [
    {
     "data": {
      "text/plain": [
       "0    5.573385\n",
       "1    6.502923\n",
       "2    6.085692\n",
       "3    5.334615\n",
       "4    7.409077\n",
       "Name: Paclitaxel, dtype: float64"
      ]
     },
     "execution_count": 3,
     "metadata": {},
     "output_type": "execute_result"
    }
   ],
   "source": [
    "drug = data.pop('Paclitaxel')\n",
    "drug.head()"
   ]
  },
  {
   "cell_type": "code",
   "execution_count": 4,
   "id": "f17a45a5",
   "metadata": {},
   "outputs": [
    {
     "data": {
      "text/html": [
       "<div>\n",
       "<style scoped>\n",
       "    .dataframe tbody tr th:only-of-type {\n",
       "        vertical-align: middle;\n",
       "    }\n",
       "\n",
       "    .dataframe tbody tr th {\n",
       "        vertical-align: top;\n",
       "    }\n",
       "\n",
       "    .dataframe thead th {\n",
       "        text-align: right;\n",
       "    }\n",
       "</style>\n",
       "<table border=\"1\" class=\"dataframe\">\n",
       "  <thead>\n",
       "    <tr style=\"text-align: right;\">\n",
       "      <th></th>\n",
       "      <th>Acetone ; Propanal ; acetone</th>\n",
       "      <th>Acetaldehyde oxime ; HMDB01122</th>\n",
       "      <th>acetate</th>\n",
       "      <th>Urea</th>\n",
       "      <th>Isopropyl alcohol ; Propyl alcohol</th>\n",
       "      <th>Bicarbonate ; Hydrogen carbonate</th>\n",
       "      <th>Dimethylsulfide</th>\n",
       "      <th>3-Butyn-1-al</th>\n",
       "      <th>1-pyrrolinium</th>\n",
       "      <th>Acrylamide</th>\n",
       "      <th>...</th>\n",
       "      <th>PIP2(16:0/18:1(11Z)) ; PIP2(16:0/18:1(9Z)) ; PIP2(16:1(9Z)/18:0) ; PIP2(18:0/16:1(9Z)) ; PIP2(18:1(11Z)/16:0) ; PIP2(18:1(9Z)/16:0)</th>\n",
       "      <th>TG(22:6(4Z,7Z,10Z,13Z,16Z,19Z)/20:5(5Z,8Z,11Z,14Z,17Z)/22:6(4Z,7Z,10Z,13Z,16Z,19Z))[iso3]</th>\n",
       "      <th>2,4,7,10-hexadecatetraenoylcoa ; 2,7,10,13-hexadecatetraenoylcoa ; 2E,4Z,7Z,10Z-hexadecatetraenoyl-CoA ; 3,7,10,13-hexadecatetraenoylcoa ; 4,7,10,13-hexadecatetraenoylcoa</th>\n",
       "      <th>O-b-D-glucopyranosyl-(1-&gt;3)-O-2-(acetylamino)-2-deoxy-b-D-glucopyranosyl-(1-&gt;3)-O-[6-deoxy-a-L-galactopyranosyl-(1-&gt;4)]-O-b-D-galactopyranosyl-(1-&gt;4)-O-[6-deoxy-a-L-galactopyranosyl-(1-&gt;3)]-D-Glucose</th>\n",
       "      <th>LS tetrasaccharide d ; Sialyllacto-N-neotetraose c ; Sialyllacto-N-tetraose a ; Sialyllacto-N-tetraose b ; Sialyllacto-N-tetraose c</th>\n",
       "      <th>PIP2(16:0/18:0) ; PIP2(18:0/16:0)</th>\n",
       "      <th>TG(22:5(7Z,10Z,13Z,16Z,19Z)/20:5(5Z,8Z,11Z,14Z,17Z)/22:6(4Z,7Z,10Z,13Z,16Z,19Z))[iso6] ; TG(22:6(4Z,7Z,10Z,13Z,16Z,19Z)/20:4(5Z,8Z,11Z,14Z)/22:6(4Z,7Z,10Z,13Z,16Z,19Z))[iso3]</th>\n",
       "      <th>(2E)-Hexadecenoyl-CoA ; 2,7,10-hexadecatrienoylcoa ; 3,7,10-hexadecatrienoylcoa ; 3Z,7Z,10Z-hexadecatrienoyl-CoA ; 4,7,10-hexadecatrienoylcoa ; 4Z,7Z,10Z-hexadecatrienoyl-CoA ; 7,10,13-hexadecatrienoylcoa ; trans,cis,cis-2,7,10-hexadecatrienoyl-CoA</th>\n",
       "      <th>Lacto-N-difucohexaose ; Lacto-N-difucopentaose II</th>\n",
       "      <th>Galabiosylceramide (d18:1/26:1(17Z)) ; Lactosylceramide (d18:1/26:1(17Z))</th>\n",
       "    </tr>\n",
       "  </thead>\n",
       "  <tbody>\n",
       "    <tr>\n",
       "      <th>0</th>\n",
       "      <td>0.021811</td>\n",
       "      <td>0.006137</td>\n",
       "      <td>1.801231</td>\n",
       "      <td>0.178675</td>\n",
       "      <td>0.031762</td>\n",
       "      <td>0.143416</td>\n",
       "      <td>0.004437</td>\n",
       "      <td>0.001118</td>\n",
       "      <td>0.002353</td>\n",
       "      <td>0.013185</td>\n",
       "      <td>...</td>\n",
       "      <td>0.071269</td>\n",
       "      <td>0.029462</td>\n",
       "      <td>0.029300</td>\n",
       "      <td>0.036367</td>\n",
       "      <td>0.025836</td>\n",
       "      <td>0.075427</td>\n",
       "      <td>0.036502</td>\n",
       "      <td>0.019935</td>\n",
       "      <td>0.032820</td>\n",
       "      <td>0.039391</td>\n",
       "    </tr>\n",
       "    <tr>\n",
       "      <th>1</th>\n",
       "      <td>0.010611</td>\n",
       "      <td>0.006815</td>\n",
       "      <td>0.884542</td>\n",
       "      <td>0.093390</td>\n",
       "      <td>0.016027</td>\n",
       "      <td>0.037372</td>\n",
       "      <td>NaN</td>\n",
       "      <td>0.005778</td>\n",
       "      <td>0.003199</td>\n",
       "      <td>0.011203</td>\n",
       "      <td>...</td>\n",
       "      <td>0.059958</td>\n",
       "      <td>0.026807</td>\n",
       "      <td>0.021282</td>\n",
       "      <td>0.024981</td>\n",
       "      <td>0.013982</td>\n",
       "      <td>0.054200</td>\n",
       "      <td>0.029125</td>\n",
       "      <td>0.010750</td>\n",
       "      <td>0.015981</td>\n",
       "      <td>0.035154</td>\n",
       "    </tr>\n",
       "  </tbody>\n",
       "</table>\n",
       "<p>2 rows × 2181 columns</p>\n",
       "</div>"
      ],
      "text/plain": [
       "   Acetone ; Propanal ; acetone  Acetaldehyde oxime ; HMDB01122   acetate  \\\n",
       "0                      0.021811                        0.006137  1.801231   \n",
       "1                      0.010611                        0.006815  0.884542   \n",
       "\n",
       "       Urea  Isopropyl alcohol ; Propyl alcohol  \\\n",
       "0  0.178675                            0.031762   \n",
       "1  0.093390                            0.016027   \n",
       "\n",
       "   Bicarbonate ; Hydrogen carbonate  Dimethylsulfide  3-Butyn-1-al  \\\n",
       "0                          0.143416         0.004437      0.001118   \n",
       "1                          0.037372              NaN      0.005778   \n",
       "\n",
       "   1-pyrrolinium  Acrylamide  ...  \\\n",
       "0       0.002353    0.013185  ...   \n",
       "1       0.003199    0.011203  ...   \n",
       "\n",
       "   PIP2(16:0/18:1(11Z)) ; PIP2(16:0/18:1(9Z)) ; PIP2(16:1(9Z)/18:0) ; PIP2(18:0/16:1(9Z)) ; PIP2(18:1(11Z)/16:0) ; PIP2(18:1(9Z)/16:0)  \\\n",
       "0                                           0.071269                                                                                     \n",
       "1                                           0.059958                                                                                     \n",
       "\n",
       "   TG(22:6(4Z,7Z,10Z,13Z,16Z,19Z)/20:5(5Z,8Z,11Z,14Z,17Z)/22:6(4Z,7Z,10Z,13Z,16Z,19Z))[iso3]  \\\n",
       "0                                           0.029462                                           \n",
       "1                                           0.026807                                           \n",
       "\n",
       "   2,4,7,10-hexadecatetraenoylcoa ; 2,7,10,13-hexadecatetraenoylcoa ; 2E,4Z,7Z,10Z-hexadecatetraenoyl-CoA ; 3,7,10,13-hexadecatetraenoylcoa ; 4,7,10,13-hexadecatetraenoylcoa  \\\n",
       "0                                           0.029300                                                                                                                            \n",
       "1                                           0.021282                                                                                                                            \n",
       "\n",
       "   O-b-D-glucopyranosyl-(1->3)-O-2-(acetylamino)-2-deoxy-b-D-glucopyranosyl-(1->3)-O-[6-deoxy-a-L-galactopyranosyl-(1->4)]-O-b-D-galactopyranosyl-(1->4)-O-[6-deoxy-a-L-galactopyranosyl-(1->3)]-D-Glucose  \\\n",
       "0                                           0.036367                                                                                                                                                         \n",
       "1                                           0.024981                                                                                                                                                         \n",
       "\n",
       "   LS tetrasaccharide d ; Sialyllacto-N-neotetraose c ; Sialyllacto-N-tetraose a ; Sialyllacto-N-tetraose b ; Sialyllacto-N-tetraose c  \\\n",
       "0                                           0.025836                                                                                     \n",
       "1                                           0.013982                                                                                     \n",
       "\n",
       "   PIP2(16:0/18:0) ; PIP2(18:0/16:0)  \\\n",
       "0                           0.075427   \n",
       "1                           0.054200   \n",
       "\n",
       "   TG(22:5(7Z,10Z,13Z,16Z,19Z)/20:5(5Z,8Z,11Z,14Z,17Z)/22:6(4Z,7Z,10Z,13Z,16Z,19Z))[iso6] ; TG(22:6(4Z,7Z,10Z,13Z,16Z,19Z)/20:4(5Z,8Z,11Z,14Z)/22:6(4Z,7Z,10Z,13Z,16Z,19Z))[iso3]  \\\n",
       "0                                           0.036502                                                                                                                                \n",
       "1                                           0.029125                                                                                                                                \n",
       "\n",
       "   (2E)-Hexadecenoyl-CoA ; 2,7,10-hexadecatrienoylcoa ; 3,7,10-hexadecatrienoylcoa ; 3Z,7Z,10Z-hexadecatrienoyl-CoA ; 4,7,10-hexadecatrienoylcoa ; 4Z,7Z,10Z-hexadecatrienoyl-CoA ; 7,10,13-hexadecatrienoylcoa ; trans,cis,cis-2,7,10-hexadecatrienoyl-CoA  \\\n",
       "0                                           0.019935                                                                                                                                                                                                          \n",
       "1                                           0.010750                                                                                                                                                                                                          \n",
       "\n",
       "   Lacto-N-difucohexaose ; Lacto-N-difucopentaose II  \\\n",
       "0                                           0.032820   \n",
       "1                                           0.015981   \n",
       "\n",
       "   Galabiosylceramide (d18:1/26:1(17Z)) ; Lactosylceramide (d18:1/26:1(17Z))  \n",
       "0                                           0.039391                          \n",
       "1                                           0.035154                          \n",
       "\n",
       "[2 rows x 2181 columns]"
      ]
     },
     "execution_count": 4,
     "metadata": {},
     "output_type": "execute_result"
    }
   ],
   "source": [
    "X = data.select_dtypes('float64')\n",
    "X.head(2)"
   ]
  },
  {
   "cell_type": "code",
   "execution_count": 5,
   "id": "f35bfc55",
   "metadata": {},
   "outputs": [],
   "source": [
    "X.fillna(0.0, inplace=True)"
   ]
  },
  {
   "cell_type": "code",
   "execution_count": 6,
   "id": "b3efd306",
   "metadata": {},
   "outputs": [],
   "source": [
    "import re\n",
    "\n",
    "regex = re.compile(r\"\\[|\\]|<\", re.IGNORECASE)\n",
    "\n",
    "X.columns = [regex.sub(\"_\", col) if any(x in str(col) for x in set(('[', ']', '<'))) else col for col in X.columns.values]"
   ]
  },
  {
   "cell_type": "code",
   "execution_count": 7,
   "id": "f2bb0e2c",
   "metadata": {},
   "outputs": [],
   "source": [
    "labels = []\n",
    "drug_mean = drug.mean()\n",
    "for i in drug:\n",
    "    if i >= drug_mean:\n",
    "        labels.append('N')\n",
    "    else:\n",
    "        labels.append('R')\n",
    "y = pd.Series(labels)"
   ]
  },
  {
   "cell_type": "code",
   "execution_count": 8,
   "id": "456455eb",
   "metadata": {},
   "outputs": [],
   "source": [
    "from sklearn.preprocessing import LabelEncoder\n",
    "\n",
    "le = LabelEncoder()\n",
    "y = pd.Series(le.fit_transform(y))"
   ]
  },
  {
   "cell_type": "code",
   "execution_count": 9,
   "id": "db156398",
   "metadata": {},
   "outputs": [
    {
     "data": {
      "text/plain": [
       "1    28\n",
       "0    28\n",
       "dtype: int64"
      ]
     },
     "execution_count": 9,
     "metadata": {},
     "output_type": "execute_result"
    }
   ],
   "source": [
    "from imblearn.over_sampling import SMOTE\n",
    "\n",
    "smote = SMOTE()\n",
    "X,y = smote.fit_resample(X,y)\n",
    "\n",
    "y.value_counts()"
   ]
  },
  {
   "cell_type": "code",
   "execution_count": 10,
   "id": "4ad293ce",
   "metadata": {},
   "outputs": [
    {
     "data": {
      "text/plain": [
       "'\\nfrom xgboost import plot_importance\\nfrom sklearn.model_selection import train_test_split\\n\\nmodel = RandomForestClassifier(class_weight = \\'balanced\\', n_estimators = 150, random_state = 43)\\nmodel.fit(X, y)\\nimportances = model.feature_importances_\\nindices = np.argsort(importances)[::-1]\\n\\nplt.figure()\\nplt.title(\"Feature importances\")\\nplt.bar(range(X.shape[1]), importances[indices],\\n        color=\"lightsalmon\", align=\"center\")\\nplt.xticks(range(X.shape[1]), X.columns[indices], rotation=90)\\nplt.xlim([-1, X.shape[1]])\\nplt.show()\\n'"
      ]
     },
     "execution_count": 10,
     "metadata": {},
     "output_type": "execute_result"
    }
   ],
   "source": [
    "'''\n",
    "from xgboost import plot_importance\n",
    "from sklearn.model_selection import train_test_split\n",
    "\n",
    "model = RandomForestClassifier(class_weight = 'balanced', n_estimators = 150, random_state = 43)\n",
    "model.fit(X, y)\n",
    "importances = model.feature_importances_\n",
    "indices = np.argsort(importances)[::-1]\n",
    "\n",
    "plt.figure()\n",
    "plt.title(\"Feature importances\")\n",
    "plt.bar(range(X.shape[1]), importances[indices],\n",
    "        color=\"lightsalmon\", align=\"center\")\n",
    "plt.xticks(range(X.shape[1]), X.columns[indices], rotation=90)\n",
    "plt.xlim([-1, X.shape[1]])\n",
    "plt.show()\n",
    "'''"
   ]
  },
  {
   "cell_type": "code",
   "execution_count": 11,
   "id": "52133d0d",
   "metadata": {},
   "outputs": [
    {
     "name": "stdout",
     "output_type": "stream",
     "text": [
      "Accuracy on training data: 1.0\n",
      "Accuracy on testing data: 0.6842105263157895\n",
      "              precision    recall  f1-score   support\n",
      "\n",
      "           0       0.70      0.70      0.70        10\n",
      "           1       0.67      0.67      0.67         9\n",
      "\n",
      "    accuracy                           0.68        19\n",
      "   macro avg       0.68      0.68      0.68        19\n",
      "weighted avg       0.68      0.68      0.68        19\n",
      "\n"
     ]
    }
   ],
   "source": [
    "from sklearn.feature_selection import SelectFromModel\n",
    "from sklearn.metrics import classification_report\n",
    "from sklearn.model_selection import train_test_split\n",
    "#sfm = SelectFromModel(model, threshold = 0.006)\n",
    "#sfm.fit(X,y)\n",
    "\n",
    "#X = pd.DataFrame(data = sfm.transform(X), columns = X.columns[sfm.get_support(1)])\n",
    "\n",
    "indices = X.index.values\n",
    "\n",
    "\n",
    "X_train, X_test, train_index, test_index = train_test_split(X,indices, test_size = 0.33, random_state = 43)\n",
    "y_train, y_test = y.iloc[train_index], y.iloc[test_index]\n",
    "model = RandomForestClassifier(class_weight = 'balanced', n_estimators = 150, random_state = 43)\n",
    "\n",
    "rfecv = RFECV(model, min_features_to_select = 1, step = 1, cv = StratifiedKFold(5), scoring = 'precision')\n",
    "#model.fit(X_train, y_train)\n",
    "\n",
    "rfecv.fit(X_train, y_train)\n",
    "\n",
    "rfe = RFE(model, n_features_to_select = rfecv.n_features_, step = 1)\n",
    "rfe.fit(X_train, y_train)\n",
    "\n",
    "prediction = rfe.predict_proba(X_test)[:, 1]\n",
    "y_pred = rfe.predict(X_test)\n",
    "\n",
    "print(f'Accuracy on training data: {accuracy_score(y_train, rfe.predict(X_train))}')\n",
    "print(f'Accuracy on testing data: {accuracy_score(y_test, rfe.predict(X_test))}')\n",
    "print(classification_report(y_test, y_pred))"
   ]
  },
  {
   "cell_type": "code",
   "execution_count": 12,
   "id": "02c4c3bd",
   "metadata": {},
   "outputs": [
    {
     "data": {
      "text/plain": [
       "Text(50.722222222222214, 0.5, 'True Labels')"
      ]
     },
     "execution_count": 12,
     "metadata": {},
     "output_type": "execute_result"
    },
    {
     "data": {
      "image/png": "[encoded data removed]",
      "text/plain": [
       "<Figure size 640x480 with 2 Axes>"
      ]
     },
     "metadata": {},
     "output_type": "display_data"
    }
   ],
   "source": [
    "from sklearn.metrics import confusion_matrix\n",
    "\n",
    "fig, ax = plt.subplots()\n",
    "ax = sns.heatmap(confusion_matrix(y_test, y_pred), annot=True, xticklabels = ['N', 'R'], yticklabels = ['N', 'R'])\n",
    "ax.set_title('Random Forest Gemcitabine - NCI60 Cell lines\\nAccuracy 88%')\n",
    "ax.set_xlabel('Predicted Labels')\n",
    "ax.set_ylabel('True Labels')"
   ]
  },
  {
   "cell_type": "code",
   "execution_count": 13,
   "id": "c55919e8",
   "metadata": {},
   "outputs": [
    {
     "data": {
      "image/png": "[encoded data removed]",
      "text/plain": [
       "<Figure size 500x500 with 1 Axes>"
      ]
     },
     "metadata": {},
     "output_type": "display_data"
    }
   ],
   "source": [
    "plt.figure(figsize=(5, 5))\n",
    "plt.hist(prediction[y_test==0], label='Non-Responders')\n",
    "plt.hist(prediction[y_test==1], label='Responders', alpha=0.7, color='r')\n",
    "plt.xlabel('Probability of being Positive Class')\n",
    "plt.ylabel('Number of records in each bucket')\n",
    "plt.legend()\n",
    "plt.tick_params(axis='both')\n",
    "plt.show() "
   ]
  },
  {
   "cell_type": "code",
   "execution_count": 14,
   "id": "5464f588",
   "metadata": {},
   "outputs": [
    {
     "data": {
      "text/plain": [
       "(4, 0.4444444444444444)"
      ]
     },
     "execution_count": 14,
     "metadata": {},
     "output_type": "execute_result"
    }
   ],
   "source": [
    "responders = prediction[y_test == 1]\n",
    "count = 0\n",
    "for i in responders: \n",
    "    if i >= max(prediction[y_test == 0]):\n",
    "        count+=1\n",
    "count, count/len(responders)"
   ]
  },
  {
   "cell_type": "code",
   "execution_count": 15,
   "id": "c836204c",
   "metadata": {},
   "outputs": [
    {
     "data": {
      "text/plain": [
       "0.68"
      ]
     },
     "execution_count": 15,
     "metadata": {},
     "output_type": "execute_result"
    }
   ],
   "source": [
    "max(prediction[y_test == 0])"
   ]
  },
  {
   "cell_type": "code",
   "execution_count": 16,
   "id": "efa56ff2",
   "metadata": {},
   "outputs": [],
   "source": [
    "df_rf_test = X_test.copy()\n",
    "df_rf_test.loc[test_index, 'test_proba'] = prediction\n",
    "df_rf_test.loc[test_index, 'target'] = y_test\n",
    "df1 = pd.concat([X_train, df_rf_test], sort=False).sort_index()"
   ]
  },
  {
   "cell_type": "code",
   "execution_count": 17,
   "id": "a677c3ef",
   "metadata": {},
   "outputs": [
    {
     "data": {
      "text/plain": [
       "(1, 2183)"
      ]
     },
     "execution_count": 17,
     "metadata": {},
     "output_type": "execute_result"
    }
   ],
   "source": [
    "df1_main = df1.iloc[:49, ]\n",
    "x = max(prediction[y_test == 0])\n",
    "df1_main = df1_main.loc[(df1_main['test_proba'] > x)]\n",
    "df1_main.shape"
   ]
  },
  {
   "cell_type": "code",
   "execution_count": 18,
   "id": "b10ce3c5",
   "metadata": {},
   "outputs": [
    {
     "data": {
      "text/html": [
       "<div>\n",
       "<style scoped>\n",
       "    .dataframe tbody tr th:only-of-type {\n",
       "        vertical-align: middle;\n",
       "    }\n",
       "\n",
       "    .dataframe tbody tr th {\n",
       "        vertical-align: top;\n",
       "    }\n",
       "\n",
       "    .dataframe thead th {\n",
       "        text-align: right;\n",
       "    }\n",
       "</style>\n",
       "<table border=\"1\" class=\"dataframe\">\n",
       "  <thead>\n",
       "    <tr style=\"text-align: right;\">\n",
       "      <th></th>\n",
       "      <th>Acetone ; Propanal ; acetone</th>\n",
       "      <th>Acetaldehyde oxime ; HMDB01122</th>\n",
       "      <th>acetate</th>\n",
       "      <th>Urea</th>\n",
       "      <th>Isopropyl alcohol ; Propyl alcohol</th>\n",
       "      <th>Bicarbonate ; Hydrogen carbonate</th>\n",
       "      <th>Dimethylsulfide</th>\n",
       "      <th>3-Butyn-1-al</th>\n",
       "      <th>1-pyrrolinium</th>\n",
       "      <th>Acrylamide</th>\n",
       "      <th>...</th>\n",
       "      <th>2,4,7,10-hexadecatetraenoylcoa ; 2,7,10,13-hexadecatetraenoylcoa ; 2E,4Z,7Z,10Z-hexadecatetraenoyl-CoA ; 3,7,10,13-hexadecatetraenoylcoa ; 4,7,10,13-hexadecatetraenoylcoa</th>\n",
       "      <th>O-b-D-glucopyranosyl-(1-&gt;3)-O-2-(acetylamino)-2-deoxy-b-D-glucopyranosyl-(1-&gt;3)-O-_6-deoxy-a-L-galactopyranosyl-(1-&gt;4)_-O-b-D-galactopyranosyl-(1-&gt;4)-O-_6-deoxy-a-L-galactopyranosyl-(1-&gt;3)_-D-Glucose</th>\n",
       "      <th>LS tetrasaccharide d ; Sialyllacto-N-neotetraose c ; Sialyllacto-N-tetraose a ; Sialyllacto-N-tetraose b ; Sialyllacto-N-tetraose c</th>\n",
       "      <th>PIP2(16:0/18:0) ; PIP2(18:0/16:0)</th>\n",
       "      <th>TG(22:5(7Z,10Z,13Z,16Z,19Z)/20:5(5Z,8Z,11Z,14Z,17Z)/22:6(4Z,7Z,10Z,13Z,16Z,19Z))_iso6_ ; TG(22:6(4Z,7Z,10Z,13Z,16Z,19Z)/20:4(5Z,8Z,11Z,14Z)/22:6(4Z,7Z,10Z,13Z,16Z,19Z))_iso3_</th>\n",
       "      <th>(2E)-Hexadecenoyl-CoA ; 2,7,10-hexadecatrienoylcoa ; 3,7,10-hexadecatrienoylcoa ; 3Z,7Z,10Z-hexadecatrienoyl-CoA ; 4,7,10-hexadecatrienoylcoa ; 4Z,7Z,10Z-hexadecatrienoyl-CoA ; 7,10,13-hexadecatrienoylcoa ; trans,cis,cis-2,7,10-hexadecatrienoyl-CoA</th>\n",
       "      <th>Lacto-N-difucohexaose ; Lacto-N-difucopentaose II</th>\n",
       "      <th>Galabiosylceramide (d18:1/26:1(17Z)) ; Lactosylceramide (d18:1/26:1(17Z))</th>\n",
       "      <th>test_proba</th>\n",
       "      <th>target</th>\n",
       "    </tr>\n",
       "  </thead>\n",
       "  <tbody>\n",
       "    <tr>\n",
       "      <th>22</th>\n",
       "      <td>0.008685</td>\n",
       "      <td>0.013029</td>\n",
       "      <td>2.396659</td>\n",
       "      <td>0.239636</td>\n",
       "      <td>0.021718</td>\n",
       "      <td>0.090765</td>\n",
       "      <td>0.003039</td>\n",
       "      <td>0.008786</td>\n",
       "      <td>0.006041</td>\n",
       "      <td>0.01844</td>\n",
       "      <td>...</td>\n",
       "      <td>0.028495</td>\n",
       "      <td>0.036931</td>\n",
       "      <td>0.029011</td>\n",
       "      <td>0.081907</td>\n",
       "      <td>0.028995</td>\n",
       "      <td>0.022431</td>\n",
       "      <td>0.031226</td>\n",
       "      <td>0.032148</td>\n",
       "      <td>0.873333</td>\n",
       "      <td>1.0</td>\n",
       "    </tr>\n",
       "  </tbody>\n",
       "</table>\n",
       "<p>1 rows × 2183 columns</p>\n",
       "</div>"
      ],
      "text/plain": [
       "    Acetone ; Propanal ; acetone  Acetaldehyde oxime ; HMDB01122   acetate  \\\n",
       "22                      0.008685                        0.013029  2.396659   \n",
       "\n",
       "        Urea  Isopropyl alcohol ; Propyl alcohol  \\\n",
       "22  0.239636                            0.021718   \n",
       "\n",
       "    Bicarbonate ; Hydrogen carbonate  Dimethylsulfide  3-Butyn-1-al  \\\n",
       "22                          0.090765         0.003039      0.008786   \n",
       "\n",
       "    1-pyrrolinium  Acrylamide  ...  \\\n",
       "22       0.006041     0.01844  ...   \n",
       "\n",
       "    2,4,7,10-hexadecatetraenoylcoa ; 2,7,10,13-hexadecatetraenoylcoa ; 2E,4Z,7Z,10Z-hexadecatetraenoyl-CoA ; 3,7,10,13-hexadecatetraenoylcoa ; 4,7,10,13-hexadecatetraenoylcoa  \\\n",
       "22                                           0.028495                                                                                                                            \n",
       "\n",
       "    O-b-D-glucopyranosyl-(1->3)-O-2-(acetylamino)-2-deoxy-b-D-glucopyranosyl-(1->3)-O-_6-deoxy-a-L-galactopyranosyl-(1->4)_-O-b-D-galactopyranosyl-(1->4)-O-_6-deoxy-a-L-galactopyranosyl-(1->3)_-D-Glucose  \\\n",
       "22                                           0.036931                                                                                                                                                         \n",
       "\n",
       "    LS tetrasaccharide d ; Sialyllacto-N-neotetraose c ; Sialyllacto-N-tetraose a ; Sialyllacto-N-tetraose b ; Sialyllacto-N-tetraose c  \\\n",
       "22                                           0.029011                                                                                     \n",
       "\n",
       "    PIP2(16:0/18:0) ; PIP2(18:0/16:0)  \\\n",
       "22                           0.081907   \n",
       "\n",
       "    TG(22:5(7Z,10Z,13Z,16Z,19Z)/20:5(5Z,8Z,11Z,14Z,17Z)/22:6(4Z,7Z,10Z,13Z,16Z,19Z))_iso6_ ; TG(22:6(4Z,7Z,10Z,13Z,16Z,19Z)/20:4(5Z,8Z,11Z,14Z)/22:6(4Z,7Z,10Z,13Z,16Z,19Z))_iso3_  \\\n",
       "22                                           0.028995                                                                                                                                \n",
       "\n",
       "    (2E)-Hexadecenoyl-CoA ; 2,7,10-hexadecatrienoylcoa ; 3,7,10-hexadecatrienoylcoa ; 3Z,7Z,10Z-hexadecatrienoyl-CoA ; 4,7,10-hexadecatrienoylcoa ; 4Z,7Z,10Z-hexadecatrienoyl-CoA ; 7,10,13-hexadecatrienoylcoa ; trans,cis,cis-2,7,10-hexadecatrienoyl-CoA  \\\n",
       "22                                           0.022431                                                                                                                                                                                                          \n",
       "\n",
       "    Lacto-N-difucohexaose ; Lacto-N-difucopentaose II  \\\n",
       "22                                           0.031226   \n",
       "\n",
       "    Galabiosylceramide (d18:1/26:1(17Z)) ; Lactosylceramide (d18:1/26:1(17Z))  \\\n",
       "22                                           0.032148                           \n",
       "\n",
       "    test_proba  target  \n",
       "22    0.873333     1.0  \n",
       "\n",
       "[1 rows x 2183 columns]"
      ]
     },
     "execution_count": 18,
     "metadata": {},
     "output_type": "execute_result"
    }
   ],
   "source": [
    "df1_main"
   ]
  },
  {
   "cell_type": "code",
   "execution_count": 19,
   "id": "46c41ac2",
   "metadata": {},
   "outputs": [
    {
     "name": "stdout",
     "output_type": "stream",
     "text": [
      "Accuracy on training data: 1.0\n",
      "Accuracy on testing data: 0.5789473684210527\n",
      "              precision    recall  f1-score   support\n",
      "\n",
      "           0       0.67      0.40      0.50        10\n",
      "           1       0.54      0.78      0.64         9\n",
      "\n",
      "    accuracy                           0.58        19\n",
      "   macro avg       0.60      0.59      0.57        19\n",
      "weighted avg       0.61      0.58      0.56        19\n",
      "\n"
     ]
    }
   ],
   "source": [
    "model2 = SVC(kernel = 'linear', C=1, gamma='auto', probability=True)\n",
    "\n",
    "rfecv2 = RFECV(model2, min_features_to_select = 1, scoring = 'precision', step = 1, cv = StratifiedKFold(5))\n",
    "rfecv2.fit(X_train, y_train)\n",
    "\n",
    "#model2.fit(X_train, y_train)\n",
    "\n",
    "rfe2 = RFE(model2, n_features_to_select = rfecv2.n_features_, step = 1)\n",
    "rfe2.fit(X_train, y_train)\n",
    "\n",
    "prediction2 = rfe2.predict_proba(X_test)[:, 1]\n",
    "y_pred = rfe2.predict(X_test)\n",
    "print(f'Accuracy on training data: {accuracy_score(y_train, rfe2.predict(X_train))}')\n",
    "print(f'Accuracy on testing data: {accuracy_score(y_test, rfe2.predict(X_test))}')\n",
    "print(classification_report(y_test, y_pred))"
   ]
  },
  {
   "cell_type": "code",
   "execution_count": 20,
   "id": "9d86965c",
   "metadata": {},
   "outputs": [
    {
     "data": {
      "text/plain": [
       "Text(50.722222222222214, 0.5, 'True Labels')"
      ]
     },
     "execution_count": 20,
     "metadata": {},
     "output_type": "execute_result"
    },
    {
     "data": {
      "image/png": "[encoded data removed]",
      "text/plain": [
       "<Figure size 640x480 with 2 Axes>"
      ]
     },
     "metadata": {},
     "output_type": "display_data"
    }
   ],
   "source": [
    "fig, ax = plt.subplots()\n",
    "ax = sns.heatmap(confusion_matrix(y_test, y_pred), annot=True, xticklabels = ['N', 'R'], yticklabels = ['N', 'R'])\n",
    "ax.set_title('SVM Gemcitabine - NCI60 Cell lines\\nAccuracy 65%')\n",
    "ax.set_xlabel('Predicted Labels')\n",
    "ax.set_ylabel('True Labels')"
   ]
  },
  {
   "cell_type": "code",
   "execution_count": 21,
   "id": "e5aaee57",
   "metadata": {},
   "outputs": [
    {
     "data": {
      "image/png": "[encoded data removed]",
      "text/plain": [
       "<Figure size 500x500 with 1 Axes>"
      ]
     },
     "metadata": {},
     "output_type": "display_data"
    }
   ],
   "source": [
    "plt.figure(figsize=(5, 5))\n",
    "plt.hist(prediction2[y_test==0], label='Non-Responders')\n",
    "plt.hist(prediction2[y_test==1], label='Responders', alpha=0.7, color='r')\n",
    "plt.xlabel('Probability of being Positive Class')\n",
    "plt.ylabel('Number of records in each bucket')\n",
    "plt.legend()\n",
    "plt.tick_params(axis='both')\n",
    "plt.show() "
   ]
  },
  {
   "cell_type": "code",
   "execution_count": 22,
   "id": "8b7180c4",
   "metadata": {},
   "outputs": [
    {
     "data": {
      "text/plain": [
       "(1, 0.1111111111111111)"
      ]
     },
     "execution_count": 22,
     "metadata": {},
     "output_type": "execute_result"
    }
   ],
   "source": [
    "resp_svm = prediction2[y_test == 1]\n",
    "count = 0\n",
    "for i in resp_svm:\n",
    "    if i >= max(prediction2[y_test == 0]):\n",
    "        count+=1\n",
    "count, count/len(resp_svm)"
   ]
  },
  {
   "cell_type": "code",
   "execution_count": 23,
   "id": "1286e2e6",
   "metadata": {},
   "outputs": [
    {
     "data": {
      "text/plain": [
       "0.9884966969826169"
      ]
     },
     "execution_count": 23,
     "metadata": {},
     "output_type": "execute_result"
    }
   ],
   "source": [
    "max(prediction2[y_test == 0])"
   ]
  },
  {
   "cell_type": "code",
   "execution_count": 24,
   "id": "538b66de",
   "metadata": {},
   "outputs": [],
   "source": [
    "df_svm_test = X_test.copy()\n",
    "df_svm_test.loc[test_index, 'test_proba'] = prediction2\n",
    "\n",
    "df2 = pd.concat([X_train, df_svm_test], sort=False).sort_index()"
   ]
  },
  {
   "cell_type": "code",
   "execution_count": 25,
   "id": "d001d6f5",
   "metadata": {},
   "outputs": [
    {
     "data": {
      "text/html": [
       "<div>\n",
       "<style scoped>\n",
       "    .dataframe tbody tr th:only-of-type {\n",
       "        vertical-align: middle;\n",
       "    }\n",
       "\n",
       "    .dataframe tbody tr th {\n",
       "        vertical-align: top;\n",
       "    }\n",
       "\n",
       "    .dataframe thead th {\n",
       "        text-align: right;\n",
       "    }\n",
       "</style>\n",
       "<table border=\"1\" class=\"dataframe\">\n",
       "  <thead>\n",
       "    <tr style=\"text-align: right;\">\n",
       "      <th></th>\n",
       "      <th>Acetone ; Propanal ; acetone</th>\n",
       "      <th>Acetaldehyde oxime ; HMDB01122</th>\n",
       "      <th>acetate</th>\n",
       "      <th>Urea</th>\n",
       "      <th>Isopropyl alcohol ; Propyl alcohol</th>\n",
       "      <th>Bicarbonate ; Hydrogen carbonate</th>\n",
       "      <th>Dimethylsulfide</th>\n",
       "      <th>3-Butyn-1-al</th>\n",
       "      <th>1-pyrrolinium</th>\n",
       "      <th>Acrylamide</th>\n",
       "      <th>...</th>\n",
       "      <th>TG(22:6(4Z,7Z,10Z,13Z,16Z,19Z)/20:5(5Z,8Z,11Z,14Z,17Z)/22:6(4Z,7Z,10Z,13Z,16Z,19Z))_iso3_</th>\n",
       "      <th>2,4,7,10-hexadecatetraenoylcoa ; 2,7,10,13-hexadecatetraenoylcoa ; 2E,4Z,7Z,10Z-hexadecatetraenoyl-CoA ; 3,7,10,13-hexadecatetraenoylcoa ; 4,7,10,13-hexadecatetraenoylcoa</th>\n",
       "      <th>O-b-D-glucopyranosyl-(1-&gt;3)-O-2-(acetylamino)-2-deoxy-b-D-glucopyranosyl-(1-&gt;3)-O-_6-deoxy-a-L-galactopyranosyl-(1-&gt;4)_-O-b-D-galactopyranosyl-(1-&gt;4)-O-_6-deoxy-a-L-galactopyranosyl-(1-&gt;3)_-D-Glucose</th>\n",
       "      <th>LS tetrasaccharide d ; Sialyllacto-N-neotetraose c ; Sialyllacto-N-tetraose a ; Sialyllacto-N-tetraose b ; Sialyllacto-N-tetraose c</th>\n",
       "      <th>PIP2(16:0/18:0) ; PIP2(18:0/16:0)</th>\n",
       "      <th>TG(22:5(7Z,10Z,13Z,16Z,19Z)/20:5(5Z,8Z,11Z,14Z,17Z)/22:6(4Z,7Z,10Z,13Z,16Z,19Z))_iso6_ ; TG(22:6(4Z,7Z,10Z,13Z,16Z,19Z)/20:4(5Z,8Z,11Z,14Z)/22:6(4Z,7Z,10Z,13Z,16Z,19Z))_iso3_</th>\n",
       "      <th>(2E)-Hexadecenoyl-CoA ; 2,7,10-hexadecatrienoylcoa ; 3,7,10-hexadecatrienoylcoa ; 3Z,7Z,10Z-hexadecatrienoyl-CoA ; 4,7,10-hexadecatrienoylcoa ; 4Z,7Z,10Z-hexadecatrienoyl-CoA ; 7,10,13-hexadecatrienoylcoa ; trans,cis,cis-2,7,10-hexadecatrienoyl-CoA</th>\n",
       "      <th>Lacto-N-difucohexaose ; Lacto-N-difucopentaose II</th>\n",
       "      <th>Galabiosylceramide (d18:1/26:1(17Z)) ; Lactosylceramide (d18:1/26:1(17Z))</th>\n",
       "      <th>test_proba</th>\n",
       "    </tr>\n",
       "  </thead>\n",
       "  <tbody>\n",
       "    <tr>\n",
       "      <th>44</th>\n",
       "      <td>0.017482</td>\n",
       "      <td>0.007055</td>\n",
       "      <td>2.939951</td>\n",
       "      <td>0.2826</td>\n",
       "      <td>0.018621</td>\n",
       "      <td>0.040777</td>\n",
       "      <td>0.001871</td>\n",
       "      <td>0.022287</td>\n",
       "      <td>0.002229</td>\n",
       "      <td>0.014295</td>\n",
       "      <td>...</td>\n",
       "      <td>0.023846</td>\n",
       "      <td>0.025446</td>\n",
       "      <td>0.031473</td>\n",
       "      <td>0.021851</td>\n",
       "      <td>0.079911</td>\n",
       "      <td>0.022523</td>\n",
       "      <td>0.01917</td>\n",
       "      <td>0.027684</td>\n",
       "      <td>0.027955</td>\n",
       "      <td>1.0</td>\n",
       "    </tr>\n",
       "  </tbody>\n",
       "</table>\n",
       "<p>1 rows × 2182 columns</p>\n",
       "</div>"
      ],
      "text/plain": [
       "    Acetone ; Propanal ; acetone  Acetaldehyde oxime ; HMDB01122   acetate  \\\n",
       "44                      0.017482                        0.007055  2.939951   \n",
       "\n",
       "      Urea  Isopropyl alcohol ; Propyl alcohol  \\\n",
       "44  0.2826                            0.018621   \n",
       "\n",
       "    Bicarbonate ; Hydrogen carbonate  Dimethylsulfide  3-Butyn-1-al  \\\n",
       "44                          0.040777         0.001871      0.022287   \n",
       "\n",
       "    1-pyrrolinium  Acrylamide  ...  \\\n",
       "44       0.002229    0.014295  ...   \n",
       "\n",
       "    TG(22:6(4Z,7Z,10Z,13Z,16Z,19Z)/20:5(5Z,8Z,11Z,14Z,17Z)/22:6(4Z,7Z,10Z,13Z,16Z,19Z))_iso3_  \\\n",
       "44                                           0.023846                                           \n",
       "\n",
       "    2,4,7,10-hexadecatetraenoylcoa ; 2,7,10,13-hexadecatetraenoylcoa ; 2E,4Z,7Z,10Z-hexadecatetraenoyl-CoA ; 3,7,10,13-hexadecatetraenoylcoa ; 4,7,10,13-hexadecatetraenoylcoa  \\\n",
       "44                                           0.025446                                                                                                                            \n",
       "\n",
       "    O-b-D-glucopyranosyl-(1->3)-O-2-(acetylamino)-2-deoxy-b-D-glucopyranosyl-(1->3)-O-_6-deoxy-a-L-galactopyranosyl-(1->4)_-O-b-D-galactopyranosyl-(1->4)-O-_6-deoxy-a-L-galactopyranosyl-(1->3)_-D-Glucose  \\\n",
       "44                                           0.031473                                                                                                                                                         \n",
       "\n",
       "    LS tetrasaccharide d ; Sialyllacto-N-neotetraose c ; Sialyllacto-N-tetraose a ; Sialyllacto-N-tetraose b ; Sialyllacto-N-tetraose c  \\\n",
       "44                                           0.021851                                                                                     \n",
       "\n",
       "    PIP2(16:0/18:0) ; PIP2(18:0/16:0)  \\\n",
       "44                           0.079911   \n",
       "\n",
       "    TG(22:5(7Z,10Z,13Z,16Z,19Z)/20:5(5Z,8Z,11Z,14Z,17Z)/22:6(4Z,7Z,10Z,13Z,16Z,19Z))_iso6_ ; TG(22:6(4Z,7Z,10Z,13Z,16Z,19Z)/20:4(5Z,8Z,11Z,14Z)/22:6(4Z,7Z,10Z,13Z,16Z,19Z))_iso3_  \\\n",
       "44                                           0.022523                                                                                                                                \n",
       "\n",
       "    (2E)-Hexadecenoyl-CoA ; 2,7,10-hexadecatrienoylcoa ; 3,7,10-hexadecatrienoylcoa ; 3Z,7Z,10Z-hexadecatrienoyl-CoA ; 4,7,10-hexadecatrienoylcoa ; 4Z,7Z,10Z-hexadecatrienoyl-CoA ; 7,10,13-hexadecatrienoylcoa ; trans,cis,cis-2,7,10-hexadecatrienoyl-CoA  \\\n",
       "44                                            0.01917                                                                                                                                                                                                          \n",
       "\n",
       "    Lacto-N-difucohexaose ; Lacto-N-difucopentaose II  \\\n",
       "44                                           0.027684   \n",
       "\n",
       "    Galabiosylceramide (d18:1/26:1(17Z)) ; Lactosylceramide (d18:1/26:1(17Z))  \\\n",
       "44                                           0.027955                           \n",
       "\n",
       "    test_proba  \n",
       "44         1.0  \n",
       "\n",
       "[1 rows x 2182 columns]"
      ]
     },
     "execution_count": 25,
     "metadata": {},
     "output_type": "execute_result"
    }
   ],
   "source": [
    "df2_main = df2.iloc[:49, ]\n",
    "df2_main = df2_main.loc[(df2_main['test_proba'] > max(prediction2[y_test == 0]))]\n",
    "df2_main"
   ]
  },
  {
   "cell_type": "code",
   "execution_count": 26,
   "id": "8141699f",
   "metadata": {},
   "outputs": [
    {
     "name": "stdout",
     "output_type": "stream",
     "text": [
      "Accuracy on training data: 0.972972972972973\n",
      "Accuracy on testing data: 0.7368421052631579\n",
      "              precision    recall  f1-score   support\n",
      "\n",
      "           0       0.69      0.90      0.78        10\n",
      "           1       0.83      0.56      0.67         9\n",
      "\n",
      "    accuracy                           0.74        19\n",
      "   macro avg       0.76      0.73      0.72        19\n",
      "weighted avg       0.76      0.74      0.73        19\n",
      "\n"
     ]
    }
   ],
   "source": [
    "model3 = XGBClassifier()\n",
    "#model3.fit(X_train, y_train)\n",
    "\n",
    "rfecv3 = RFECV(model3, min_features_to_select=1, step=1, scoring='precision', cv=StratifiedKFold(5))\n",
    "rfecv3.fit(X_train, y_train)\n",
    "\n",
    "#prediction3 = model3.predict_proba(X_test)[:, 1]\n",
    "\n",
    "rfe3 = RFE(model3, n_features_to_select = rfecv3.n_features_, step = 1)\n",
    "rfe3.fit(X_train, y_train)\n",
    "prediction3 = rfe3.predict_proba(X_test)[:, 1]\n",
    "y_pred = rfe3.predict(X_test)\n",
    "\n",
    "print(f'Accuracy on training data: {accuracy_score(y_train, rfe3.predict(X_train))}')\n",
    "print(f'Accuracy on testing data: {accuracy_score(y_test, y_pred)}')\n",
    "print(classification_report(y_test, y_pred))"
   ]
  },
  {
   "cell_type": "code",
   "execution_count": 27,
   "id": "4fa68bb7",
   "metadata": {},
   "outputs": [
    {
     "data": {
      "text/plain": [
       "Text(50.722222222222214, 0.5, 'True Labels')"
      ]
     },
     "execution_count": 27,
     "metadata": {},
     "output_type": "execute_result"
    },
    {
     "data": {
      "image/png": "[encoded data removed]",
      "text/plain": [
       "<Figure size 640x480 with 2 Axes>"
      ]
     },
     "metadata": {},
     "output_type": "display_data"
    }
   ],
   "source": [
    "fig, ax = plt.subplots()\n",
    "ax = sns.heatmap(confusion_matrix(y_test, y_pred), annot = True, xticklabels = ['N', 'R'], yticklabels = ['N', 'R'])\n",
    "ax.set_title('XGB Model Gemcitabine - NCI60 cell lines\\nAccuracy: 82%')\n",
    "ax.set_xlabel('Predicted Labels')\n",
    "ax.set_ylabel('True Labels')"
   ]
  },
  {
   "cell_type": "code",
   "execution_count": 28,
   "id": "41c49426",
   "metadata": {},
   "outputs": [
    {
     "data": {
      "image/png": "[encoded data removed]",
      "text/plain": [
       "<Figure size 500x500 with 1 Axes>"
      ]
     },
     "metadata": {},
     "output_type": "display_data"
    }
   ],
   "source": [
    "plt.figure(figsize=(5, 5))\n",
    "plt.hist(prediction3[y_test==0], label='Non-Responders')\n",
    "plt.hist(prediction3[y_test==1], label='Responders', alpha=0.7, color='r')\n",
    "plt.xlabel('Probability of being Positive Class')\n",
    "plt.ylabel('Number of records in each bucket')\n",
    "plt.legend()\n",
    "plt.tick_params(axis='both')\n",
    "plt.show() "
   ]
  },
  {
   "cell_type": "code",
   "execution_count": 29,
   "id": "c19db325",
   "metadata": {},
   "outputs": [
    {
     "data": {
      "text/plain": [
       "(5, 0.5555555555555556)"
      ]
     },
     "execution_count": 29,
     "metadata": {},
     "output_type": "execute_result"
    }
   ],
   "source": [
    "resp_xg = prediction3[y_test == 1]\n",
    "count = 0\n",
    "for i in resp_xg:\n",
    "    if i >= max(prediction3[y_test == 0]):\n",
    "        count += 1\n",
    "count, count/len(resp_xg)"
   ]
  },
  {
   "cell_type": "code",
   "execution_count": 30,
   "id": "6e47350c",
   "metadata": {},
   "outputs": [
    {
     "data": {
      "text/plain": [
       "0.8975777"
      ]
     },
     "execution_count": 30,
     "metadata": {},
     "output_type": "execute_result"
    }
   ],
   "source": [
    "max(prediction3[y_test == 0])"
   ]
  },
  {
   "cell_type": "code",
   "execution_count": 31,
   "id": "b8562ec4",
   "metadata": {},
   "outputs": [],
   "source": [
    "df_xg = X_test.copy()\n",
    "df_xg.loc[test_index, 'test_proba'] = prediction3\n",
    "\n",
    "df3 = pd.concat([X_train, df_xg], sort=False).sort_index()"
   ]
  },
  {
   "cell_type": "code",
   "execution_count": 32,
   "id": "c426013e",
   "metadata": {},
   "outputs": [
    {
     "data": {
      "text/plain": [
       "(1, 2182)"
      ]
     },
     "execution_count": 32,
     "metadata": {},
     "output_type": "execute_result"
    }
   ],
   "source": [
    "df3_main = df3.iloc[:49, ]\n",
    "df3_main = df3_main.loc[(df3_main['test_proba'] > max(prediction3[y_test == 0]))]\n",
    "df3_main.shape"
   ]
  },
  {
   "cell_type": "code",
   "execution_count": 33,
   "id": "aae0a270",
   "metadata": {},
   "outputs": [
    {
     "data": {
      "text/html": [
       "<div>\n",
       "<style scoped>\n",
       "    .dataframe tbody tr th:only-of-type {\n",
       "        vertical-align: middle;\n",
       "    }\n",
       "\n",
       "    .dataframe tbody tr th {\n",
       "        vertical-align: top;\n",
       "    }\n",
       "\n",
       "    .dataframe thead th {\n",
       "        text-align: right;\n",
       "    }\n",
       "</style>\n",
       "<table border=\"1\" class=\"dataframe\">\n",
       "  <thead>\n",
       "    <tr style=\"text-align: right;\">\n",
       "      <th></th>\n",
       "      <th>Acetone ; Propanal ; acetone</th>\n",
       "      <th>Acetaldehyde oxime ; HMDB01122</th>\n",
       "      <th>acetate</th>\n",
       "      <th>Urea</th>\n",
       "      <th>Isopropyl alcohol ; Propyl alcohol</th>\n",
       "      <th>Bicarbonate ; Hydrogen carbonate</th>\n",
       "      <th>Dimethylsulfide</th>\n",
       "      <th>3-Butyn-1-al</th>\n",
       "      <th>1-pyrrolinium</th>\n",
       "      <th>Acrylamide</th>\n",
       "      <th>...</th>\n",
       "      <th>TG(22:6(4Z,7Z,10Z,13Z,16Z,19Z)/20:5(5Z,8Z,11Z,14Z,17Z)/22:6(4Z,7Z,10Z,13Z,16Z,19Z))_iso3_</th>\n",
       "      <th>2,4,7,10-hexadecatetraenoylcoa ; 2,7,10,13-hexadecatetraenoylcoa ; 2E,4Z,7Z,10Z-hexadecatetraenoyl-CoA ; 3,7,10,13-hexadecatetraenoylcoa ; 4,7,10,13-hexadecatetraenoylcoa</th>\n",
       "      <th>O-b-D-glucopyranosyl-(1-&gt;3)-O-2-(acetylamino)-2-deoxy-b-D-glucopyranosyl-(1-&gt;3)-O-_6-deoxy-a-L-galactopyranosyl-(1-&gt;4)_-O-b-D-galactopyranosyl-(1-&gt;4)-O-_6-deoxy-a-L-galactopyranosyl-(1-&gt;3)_-D-Glucose</th>\n",
       "      <th>LS tetrasaccharide d ; Sialyllacto-N-neotetraose c ; Sialyllacto-N-tetraose a ; Sialyllacto-N-tetraose b ; Sialyllacto-N-tetraose c</th>\n",
       "      <th>PIP2(16:0/18:0) ; PIP2(18:0/16:0)</th>\n",
       "      <th>TG(22:5(7Z,10Z,13Z,16Z,19Z)/20:5(5Z,8Z,11Z,14Z,17Z)/22:6(4Z,7Z,10Z,13Z,16Z,19Z))_iso6_ ; TG(22:6(4Z,7Z,10Z,13Z,16Z,19Z)/20:4(5Z,8Z,11Z,14Z)/22:6(4Z,7Z,10Z,13Z,16Z,19Z))_iso3_</th>\n",
       "      <th>(2E)-Hexadecenoyl-CoA ; 2,7,10-hexadecatrienoylcoa ; 3,7,10-hexadecatrienoylcoa ; 3Z,7Z,10Z-hexadecatrienoyl-CoA ; 4,7,10-hexadecatrienoylcoa ; 4Z,7Z,10Z-hexadecatrienoyl-CoA ; 7,10,13-hexadecatrienoylcoa ; trans,cis,cis-2,7,10-hexadecatrienoyl-CoA</th>\n",
       "      <th>Lacto-N-difucohexaose ; Lacto-N-difucopentaose II</th>\n",
       "      <th>Galabiosylceramide (d18:1/26:1(17Z)) ; Lactosylceramide (d18:1/26:1(17Z))</th>\n",
       "      <th>test_proba</th>\n",
       "    </tr>\n",
       "  </thead>\n",
       "  <tbody>\n",
       "    <tr>\n",
       "      <th>22</th>\n",
       "      <td>0.008685</td>\n",
       "      <td>0.013029</td>\n",
       "      <td>2.396659</td>\n",
       "      <td>0.239636</td>\n",
       "      <td>0.021718</td>\n",
       "      <td>0.090765</td>\n",
       "      <td>0.003039</td>\n",
       "      <td>0.008786</td>\n",
       "      <td>0.006041</td>\n",
       "      <td>0.01844</td>\n",
       "      <td>...</td>\n",
       "      <td>0.02801</td>\n",
       "      <td>0.028495</td>\n",
       "      <td>0.036931</td>\n",
       "      <td>0.029011</td>\n",
       "      <td>0.081907</td>\n",
       "      <td>0.028995</td>\n",
       "      <td>0.022431</td>\n",
       "      <td>0.031226</td>\n",
       "      <td>0.032148</td>\n",
       "      <td>0.905519</td>\n",
       "    </tr>\n",
       "  </tbody>\n",
       "</table>\n",
       "<p>1 rows × 2182 columns</p>\n",
       "</div>"
      ],
      "text/plain": [
       "    Acetone ; Propanal ; acetone  Acetaldehyde oxime ; HMDB01122   acetate  \\\n",
       "22                      0.008685                        0.013029  2.396659   \n",
       "\n",
       "        Urea  Isopropyl alcohol ; Propyl alcohol  \\\n",
       "22  0.239636                            0.021718   \n",
       "\n",
       "    Bicarbonate ; Hydrogen carbonate  Dimethylsulfide  3-Butyn-1-al  \\\n",
       "22                          0.090765         0.003039      0.008786   \n",
       "\n",
       "    1-pyrrolinium  Acrylamide  ...  \\\n",
       "22       0.006041     0.01844  ...   \n",
       "\n",
       "    TG(22:6(4Z,7Z,10Z,13Z,16Z,19Z)/20:5(5Z,8Z,11Z,14Z,17Z)/22:6(4Z,7Z,10Z,13Z,16Z,19Z))_iso3_  \\\n",
       "22                                            0.02801                                           \n",
       "\n",
       "    2,4,7,10-hexadecatetraenoylcoa ; 2,7,10,13-hexadecatetraenoylcoa ; 2E,4Z,7Z,10Z-hexadecatetraenoyl-CoA ; 3,7,10,13-hexadecatetraenoylcoa ; 4,7,10,13-hexadecatetraenoylcoa  \\\n",
       "22                                           0.028495                                                                                                                            \n",
       "\n",
       "    O-b-D-glucopyranosyl-(1->3)-O-2-(acetylamino)-2-deoxy-b-D-glucopyranosyl-(1->3)-O-_6-deoxy-a-L-galactopyranosyl-(1->4)_-O-b-D-galactopyranosyl-(1->4)-O-_6-deoxy-a-L-galactopyranosyl-(1->3)_-D-Glucose  \\\n",
       "22                                           0.036931                                                                                                                                                         \n",
       "\n",
       "    LS tetrasaccharide d ; Sialyllacto-N-neotetraose c ; Sialyllacto-N-tetraose a ; Sialyllacto-N-tetraose b ; Sialyllacto-N-tetraose c  \\\n",
       "22                                           0.029011                                                                                     \n",
       "\n",
       "    PIP2(16:0/18:0) ; PIP2(18:0/16:0)  \\\n",
       "22                           0.081907   \n",
       "\n",
       "    TG(22:5(7Z,10Z,13Z,16Z,19Z)/20:5(5Z,8Z,11Z,14Z,17Z)/22:6(4Z,7Z,10Z,13Z,16Z,19Z))_iso6_ ; TG(22:6(4Z,7Z,10Z,13Z,16Z,19Z)/20:4(5Z,8Z,11Z,14Z)/22:6(4Z,7Z,10Z,13Z,16Z,19Z))_iso3_  \\\n",
       "22                                           0.028995                                                                                                                                \n",
       "\n",
       "    (2E)-Hexadecenoyl-CoA ; 2,7,10-hexadecatrienoylcoa ; 3,7,10-hexadecatrienoylcoa ; 3Z,7Z,10Z-hexadecatrienoyl-CoA ; 4,7,10-hexadecatrienoylcoa ; 4Z,7Z,10Z-hexadecatrienoyl-CoA ; 7,10,13-hexadecatrienoylcoa ; trans,cis,cis-2,7,10-hexadecatrienoyl-CoA  \\\n",
       "22                                           0.022431                                                                                                                                                                                                          \n",
       "\n",
       "    Lacto-N-difucohexaose ; Lacto-N-difucopentaose II  \\\n",
       "22                                           0.031226   \n",
       "\n",
       "    Galabiosylceramide (d18:1/26:1(17Z)) ; Lactosylceramide (d18:1/26:1(17Z))  \\\n",
       "22                                           0.032148                           \n",
       "\n",
       "    test_proba  \n",
       "22    0.905519  \n",
       "\n",
       "[1 rows x 2182 columns]"
      ]
     },
     "execution_count": 33,
     "metadata": {},
     "output_type": "execute_result"
    }
   ],
   "source": [
    "df3_main"
   ]
  },
  {
   "cell_type": "code",
   "execution_count": 34,
   "id": "508bfc9d",
   "metadata": {},
   "outputs": [],
   "source": [
    "unique, counts = np.unique(y_train, return_counts=True)"
   ]
  },
  {
   "cell_type": "code",
   "execution_count": 35,
   "id": "be53b681",
   "metadata": {},
   "outputs": [
    {
     "data": {
      "text/plain": [
       "{0: 18, 1: 19}"
      ]
     },
     "execution_count": 35,
     "metadata": {},
     "output_type": "execute_result"
    }
   ],
   "source": [
    "dict(zip(unique, counts))"
   ]
  },
  {
   "cell_type": "code",
   "execution_count": 36,
   "id": "ff6b031f",
   "metadata": {},
   "outputs": [
    {
     "data": {
      "text/plain": [
       "{0: 10, 1: 9}"
      ]
     },
     "execution_count": 36,
     "metadata": {},
     "output_type": "execute_result"
    }
   ],
   "source": [
    "unique, counts = np.unique(y_test, return_counts=True)\n",
    "dict(zip(unique, counts))"
   ]
  },
  {
   "cell_type": "code",
   "execution_count": 37,
   "id": "d4e9a002",
   "metadata": {},
   "outputs": [],
   "source": [
    "common_list = []\n",
    "common_list.extend(list(df1_main.index.values))\n",
    "common_list.extend(list(df2_main.index.values))\n",
    "common_list.extend(list(df3_main.index.values))\n",
    "cl = set(common_list)"
   ]
  },
  {
   "cell_type": "code",
   "execution_count": 38,
   "id": "23e714d4",
   "metadata": {},
   "outputs": [],
   "source": [
    "with open('master_list_metabolomics.txt', 'a+') as f:\n",
    "    for i in cl:\n",
    "        f.write(f'{i}\\n')"
   ]
  },
  {
   "cell_type": "code",
   "execution_count": 39,
   "id": "74c45eb1",
   "metadata": {},
   "outputs": [
    {
     "data": {
      "text/plain": [
       "{22, 44}"
      ]
     },
     "execution_count": 39,
     "metadata": {},
     "output_type": "execute_result"
    }
   ],
   "source": [
    "cl"
   ]
  },
  {
   "cell_type": "code",
   "execution_count": 40,
   "id": "a74b5657",
   "metadata": {},
   "outputs": [
    {
     "data": {
      "text/html": [
       "<div>\n",
       "<style scoped>\n",
       "    .dataframe tbody tr th:only-of-type {\n",
       "        vertical-align: middle;\n",
       "    }\n",
       "\n",
       "    .dataframe tbody tr th {\n",
       "        vertical-align: top;\n",
       "    }\n",
       "\n",
       "    .dataframe thead th {\n",
       "        text-align: right;\n",
       "    }\n",
       "</style>\n",
       "<table border=\"1\" class=\"dataframe\">\n",
       "  <thead>\n",
       "    <tr style=\"text-align: right;\">\n",
       "      <th></th>\n",
       "      <th>Acetone ; Propanal ; acetone</th>\n",
       "      <th>Acetaldehyde oxime ; HMDB01122</th>\n",
       "      <th>acetate</th>\n",
       "      <th>Urea</th>\n",
       "      <th>Isopropyl alcohol ; Propyl alcohol</th>\n",
       "      <th>Bicarbonate ; Hydrogen carbonate</th>\n",
       "      <th>Dimethylsulfide</th>\n",
       "      <th>3-Butyn-1-al</th>\n",
       "      <th>1-pyrrolinium</th>\n",
       "      <th>Acrylamide</th>\n",
       "      <th>...</th>\n",
       "      <th>2,4,7,10-hexadecatetraenoylcoa ; 2,7,10,13-hexadecatetraenoylcoa ; 2E,4Z,7Z,10Z-hexadecatetraenoyl-CoA ; 3,7,10,13-hexadecatetraenoylcoa ; 4,7,10,13-hexadecatetraenoylcoa</th>\n",
       "      <th>O-b-D-glucopyranosyl-(1-&gt;3)-O-2-(acetylamino)-2-deoxy-b-D-glucopyranosyl-(1-&gt;3)-O-_6-deoxy-a-L-galactopyranosyl-(1-&gt;4)_-O-b-D-galactopyranosyl-(1-&gt;4)-O-_6-deoxy-a-L-galactopyranosyl-(1-&gt;3)_-D-Glucose</th>\n",
       "      <th>LS tetrasaccharide d ; Sialyllacto-N-neotetraose c ; Sialyllacto-N-tetraose a ; Sialyllacto-N-tetraose b ; Sialyllacto-N-tetraose c</th>\n",
       "      <th>PIP2(16:0/18:0) ; PIP2(18:0/16:0)</th>\n",
       "      <th>TG(22:5(7Z,10Z,13Z,16Z,19Z)/20:5(5Z,8Z,11Z,14Z,17Z)/22:6(4Z,7Z,10Z,13Z,16Z,19Z))_iso6_ ; TG(22:6(4Z,7Z,10Z,13Z,16Z,19Z)/20:4(5Z,8Z,11Z,14Z)/22:6(4Z,7Z,10Z,13Z,16Z,19Z))_iso3_</th>\n",
       "      <th>(2E)-Hexadecenoyl-CoA ; 2,7,10-hexadecatrienoylcoa ; 3,7,10-hexadecatrienoylcoa ; 3Z,7Z,10Z-hexadecatrienoyl-CoA ; 4,7,10-hexadecatrienoylcoa ; 4Z,7Z,10Z-hexadecatrienoyl-CoA ; 7,10,13-hexadecatrienoylcoa ; trans,cis,cis-2,7,10-hexadecatrienoyl-CoA</th>\n",
       "      <th>Lacto-N-difucohexaose ; Lacto-N-difucopentaose II</th>\n",
       "      <th>Galabiosylceramide (d18:1/26:1(17Z)) ; Lactosylceramide (d18:1/26:1(17Z))</th>\n",
       "      <th>test_proba</th>\n",
       "      <th>target</th>\n",
       "    </tr>\n",
       "  </thead>\n",
       "  <tbody>\n",
       "    <tr>\n",
       "      <th>3</th>\n",
       "      <td>0.008574</td>\n",
       "      <td>0.005661</td>\n",
       "      <td>0.296663</td>\n",
       "      <td>0.035179</td>\n",
       "      <td>0.005575</td>\n",
       "      <td>0.026321</td>\n",
       "      <td>0.001608</td>\n",
       "      <td>0.020112</td>\n",
       "      <td>0.003865</td>\n",
       "      <td>0.016057</td>\n",
       "      <td>...</td>\n",
       "      <td>0.032452</td>\n",
       "      <td>0.034177</td>\n",
       "      <td>0.022305</td>\n",
       "      <td>0.080242</td>\n",
       "      <td>0.029226</td>\n",
       "      <td>0.019556</td>\n",
       "      <td>0.033062</td>\n",
       "      <td>0.040780</td>\n",
       "      <td>0.613333</td>\n",
       "      <td>1.0</td>\n",
       "    </tr>\n",
       "    <tr>\n",
       "      <th>13</th>\n",
       "      <td>0.033523</td>\n",
       "      <td>0.009218</td>\n",
       "      <td>1.059579</td>\n",
       "      <td>0.109258</td>\n",
       "      <td>0.014784</td>\n",
       "      <td>0.032721</td>\n",
       "      <td>0.001313</td>\n",
       "      <td>0.005751</td>\n",
       "      <td>0.008299</td>\n",
       "      <td>0.032031</td>\n",
       "      <td>...</td>\n",
       "      <td>0.020374</td>\n",
       "      <td>0.031512</td>\n",
       "      <td>0.025023</td>\n",
       "      <td>0.062053</td>\n",
       "      <td>0.029968</td>\n",
       "      <td>0.024340</td>\n",
       "      <td>0.029870</td>\n",
       "      <td>0.036048</td>\n",
       "      <td>0.186667</td>\n",
       "      <td>1.0</td>\n",
       "    </tr>\n",
       "    <tr>\n",
       "      <th>19</th>\n",
       "      <td>0.017639</td>\n",
       "      <td>0.001785</td>\n",
       "      <td>2.454459</td>\n",
       "      <td>0.246197</td>\n",
       "      <td>0.032514</td>\n",
       "      <td>0.119699</td>\n",
       "      <td>0.004779</td>\n",
       "      <td>0.003190</td>\n",
       "      <td>0.001329</td>\n",
       "      <td>0.008451</td>\n",
       "      <td>...</td>\n",
       "      <td>0.027301</td>\n",
       "      <td>0.033516</td>\n",
       "      <td>0.028713</td>\n",
       "      <td>0.062610</td>\n",
       "      <td>0.031535</td>\n",
       "      <td>0.020139</td>\n",
       "      <td>0.032979</td>\n",
       "      <td>0.039560</td>\n",
       "      <td>0.633333</td>\n",
       "      <td>1.0</td>\n",
       "    </tr>\n",
       "    <tr>\n",
       "      <th>22</th>\n",
       "      <td>0.008685</td>\n",
       "      <td>0.013029</td>\n",
       "      <td>2.396659</td>\n",
       "      <td>0.239636</td>\n",
       "      <td>0.021718</td>\n",
       "      <td>0.090765</td>\n",
       "      <td>0.003039</td>\n",
       "      <td>0.008786</td>\n",
       "      <td>0.006041</td>\n",
       "      <td>0.018440</td>\n",
       "      <td>...</td>\n",
       "      <td>0.028495</td>\n",
       "      <td>0.036931</td>\n",
       "      <td>0.029011</td>\n",
       "      <td>0.081907</td>\n",
       "      <td>0.028995</td>\n",
       "      <td>0.022431</td>\n",
       "      <td>0.031226</td>\n",
       "      <td>0.032148</td>\n",
       "      <td>0.873333</td>\n",
       "      <td>1.0</td>\n",
       "    </tr>\n",
       "    <tr>\n",
       "      <th>40</th>\n",
       "      <td>0.018032</td>\n",
       "      <td>0.015463</td>\n",
       "      <td>0.730186</td>\n",
       "      <td>0.071365</td>\n",
       "      <td>0.013367</td>\n",
       "      <td>0.029493</td>\n",
       "      <td>0.001910</td>\n",
       "      <td>0.014167</td>\n",
       "      <td>0.006510</td>\n",
       "      <td>0.012491</td>\n",
       "      <td>...</td>\n",
       "      <td>0.017485</td>\n",
       "      <td>0.024215</td>\n",
       "      <td>0.018698</td>\n",
       "      <td>0.052264</td>\n",
       "      <td>0.022757</td>\n",
       "      <td>0.014375</td>\n",
       "      <td>0.020781</td>\n",
       "      <td>0.026261</td>\n",
       "      <td>0.433333</td>\n",
       "      <td>1.0</td>\n",
       "    </tr>\n",
       "    <tr>\n",
       "      <th>44</th>\n",
       "      <td>0.017482</td>\n",
       "      <td>0.007055</td>\n",
       "      <td>2.939951</td>\n",
       "      <td>0.282600</td>\n",
       "      <td>0.018621</td>\n",
       "      <td>0.040777</td>\n",
       "      <td>0.001871</td>\n",
       "      <td>0.022287</td>\n",
       "      <td>0.002229</td>\n",
       "      <td>0.014295</td>\n",
       "      <td>...</td>\n",
       "      <td>0.025446</td>\n",
       "      <td>0.031473</td>\n",
       "      <td>0.021851</td>\n",
       "      <td>0.079911</td>\n",
       "      <td>0.022523</td>\n",
       "      <td>0.019170</td>\n",
       "      <td>0.027684</td>\n",
       "      <td>0.027955</td>\n",
       "      <td>0.500000</td>\n",
       "      <td>1.0</td>\n",
       "    </tr>\n",
       "  </tbody>\n",
       "</table>\n",
       "<p>6 rows × 2183 columns</p>\n",
       "</div>"
      ],
      "text/plain": [
       "    Acetone ; Propanal ; acetone  Acetaldehyde oxime ; HMDB01122   acetate  \\\n",
       "3                       0.008574                        0.005661  0.296663   \n",
       "13                      0.033523                        0.009218  1.059579   \n",
       "19                      0.017639                        0.001785  2.454459   \n",
       "22                      0.008685                        0.013029  2.396659   \n",
       "40                      0.018032                        0.015463  0.730186   \n",
       "44                      0.017482                        0.007055  2.939951   \n",
       "\n",
       "        Urea  Isopropyl alcohol ; Propyl alcohol  \\\n",
       "3   0.035179                            0.005575   \n",
       "13  0.109258                            0.014784   \n",
       "19  0.246197                            0.032514   \n",
       "22  0.239636                            0.021718   \n",
       "40  0.071365                            0.013367   \n",
       "44  0.282600                            0.018621   \n",
       "\n",
       "    Bicarbonate ; Hydrogen carbonate  Dimethylsulfide  3-Butyn-1-al  \\\n",
       "3                           0.026321         0.001608      0.020112   \n",
       "13                          0.032721         0.001313      0.005751   \n",
       "19                          0.119699         0.004779      0.003190   \n",
       "22                          0.090765         0.003039      0.008786   \n",
       "40                          0.029493         0.001910      0.014167   \n",
       "44                          0.040777         0.001871      0.022287   \n",
       "\n",
       "    1-pyrrolinium  Acrylamide  ...  \\\n",
       "3        0.003865    0.016057  ...   \n",
       "13       0.008299    0.032031  ...   \n",
       "19       0.001329    0.008451  ...   \n",
       "22       0.006041    0.018440  ...   \n",
       "40       0.006510    0.012491  ...   \n",
       "44       0.002229    0.014295  ...   \n",
       "\n",
       "    2,4,7,10-hexadecatetraenoylcoa ; 2,7,10,13-hexadecatetraenoylcoa ; 2E,4Z,7Z,10Z-hexadecatetraenoyl-CoA ; 3,7,10,13-hexadecatetraenoylcoa ; 4,7,10,13-hexadecatetraenoylcoa  \\\n",
       "3                                            0.032452                                                                                                                            \n",
       "13                                           0.020374                                                                                                                            \n",
       "19                                           0.027301                                                                                                                            \n",
       "22                                           0.028495                                                                                                                            \n",
       "40                                           0.017485                                                                                                                            \n",
       "44                                           0.025446                                                                                                                            \n",
       "\n",
       "    O-b-D-glucopyranosyl-(1->3)-O-2-(acetylamino)-2-deoxy-b-D-glucopyranosyl-(1->3)-O-_6-deoxy-a-L-galactopyranosyl-(1->4)_-O-b-D-galactopyranosyl-(1->4)-O-_6-deoxy-a-L-galactopyranosyl-(1->3)_-D-Glucose  \\\n",
       "3                                            0.034177                                                                                                                                                         \n",
       "13                                           0.031512                                                                                                                                                         \n",
       "19                                           0.033516                                                                                                                                                         \n",
       "22                                           0.036931                                                                                                                                                         \n",
       "40                                           0.024215                                                                                                                                                         \n",
       "44                                           0.031473                                                                                                                                                         \n",
       "\n",
       "    LS tetrasaccharide d ; Sialyllacto-N-neotetraose c ; Sialyllacto-N-tetraose a ; Sialyllacto-N-tetraose b ; Sialyllacto-N-tetraose c  \\\n",
       "3                                            0.022305                                                                                     \n",
       "13                                           0.025023                                                                                     \n",
       "19                                           0.028713                                                                                     \n",
       "22                                           0.029011                                                                                     \n",
       "40                                           0.018698                                                                                     \n",
       "44                                           0.021851                                                                                     \n",
       "\n",
       "    PIP2(16:0/18:0) ; PIP2(18:0/16:0)  \\\n",
       "3                            0.080242   \n",
       "13                           0.062053   \n",
       "19                           0.062610   \n",
       "22                           0.081907   \n",
       "40                           0.052264   \n",
       "44                           0.079911   \n",
       "\n",
       "    TG(22:5(7Z,10Z,13Z,16Z,19Z)/20:5(5Z,8Z,11Z,14Z,17Z)/22:6(4Z,7Z,10Z,13Z,16Z,19Z))_iso6_ ; TG(22:6(4Z,7Z,10Z,13Z,16Z,19Z)/20:4(5Z,8Z,11Z,14Z)/22:6(4Z,7Z,10Z,13Z,16Z,19Z))_iso3_  \\\n",
       "3                                            0.029226                                                                                                                                \n",
       "13                                           0.029968                                                                                                                                \n",
       "19                                           0.031535                                                                                                                                \n",
       "22                                           0.028995                                                                                                                                \n",
       "40                                           0.022757                                                                                                                                \n",
       "44                                           0.022523                                                                                                                                \n",
       "\n",
       "    (2E)-Hexadecenoyl-CoA ; 2,7,10-hexadecatrienoylcoa ; 3,7,10-hexadecatrienoylcoa ; 3Z,7Z,10Z-hexadecatrienoyl-CoA ; 4,7,10-hexadecatrienoylcoa ; 4Z,7Z,10Z-hexadecatrienoyl-CoA ; 7,10,13-hexadecatrienoylcoa ; trans,cis,cis-2,7,10-hexadecatrienoyl-CoA  \\\n",
       "3                                            0.019556                                                                                                                                                                                                          \n",
       "13                                           0.024340                                                                                                                                                                                                          \n",
       "19                                           0.020139                                                                                                                                                                                                          \n",
       "22                                           0.022431                                                                                                                                                                                                          \n",
       "40                                           0.014375                                                                                                                                                                                                          \n",
       "44                                           0.019170                                                                                                                                                                                                          \n",
       "\n",
       "    Lacto-N-difucohexaose ; Lacto-N-difucopentaose II  \\\n",
       "3                                            0.033062   \n",
       "13                                           0.029870   \n",
       "19                                           0.032979   \n",
       "22                                           0.031226   \n",
       "40                                           0.020781   \n",
       "44                                           0.027684   \n",
       "\n",
       "    Galabiosylceramide (d18:1/26:1(17Z)) ; Lactosylceramide (d18:1/26:1(17Z))  \\\n",
       "3                                            0.040780                           \n",
       "13                                           0.036048                           \n",
       "19                                           0.039560                           \n",
       "22                                           0.032148                           \n",
       "40                                           0.026261                           \n",
       "44                                           0.027955                           \n",
       "\n",
       "    test_proba  target  \n",
       "3     0.613333     1.0  \n",
       "13    0.186667     1.0  \n",
       "19    0.633333     1.0  \n",
       "22    0.873333     1.0  \n",
       "40    0.433333     1.0  \n",
       "44    0.500000     1.0  \n",
       "\n",
       "[6 rows x 2183 columns]"
      ]
     },
     "execution_count": 40,
     "metadata": {},
     "output_type": "execute_result"
    }
   ],
   "source": [
    "df1_total = df1.iloc[:49, ]\n",
    "df1_total = df1_total.loc[df1_total['target'] == 1.0]\n",
    "df1_total"
   ]
  },
  {
   "cell_type": "code",
   "execution_count": 41,
   "id": "7736ce23",
   "metadata": {},
   "outputs": [],
   "source": [
    "l = list(df1_total.index.values)\n",
    "with open('total_metabolomics.txt', 'a+') as f:\n",
    "    for i in l:\n",
    "        f.write(f'{i}\\n')"
   ]
  },
  {
   "cell_type": "code",
   "execution_count": 42,
   "id": "b5559595",
   "metadata": {},
   "outputs": [
    {
     "data": {
      "text/plain": [
       "[3, 13, 19, 22, 40, 44]"
      ]
     },
     "execution_count": 42,
     "metadata": {},
     "output_type": "execute_result"
    }
   ],
   "source": [
    "l"
   ]
  },
  {
   "cell_type": "code",
   "execution_count": 43,
   "id": "3574a33d",
   "metadata": {},
   "outputs": [
    {
     "data": {
      "text/plain": [
       "{22, 44}"
      ]
     },
     "execution_count": 43,
     "metadata": {},
     "output_type": "execute_result"
    }
   ],
   "source": [
    "cl"
   ]
  },
  {
   "cell_type": "code",
   "execution_count": null,
   "id": "abd098b3",
   "metadata": {},
   "outputs": [],
   "source": []
  }
 ],
 "metadata": {
  "kernelspec": {
   "display_name": "Python 3 (ipykernel)",
   "language": "python",
   "name": "python3"
  },
  "language_info": {
   "codemirror_mode": {
    "name": "ipython",
    "version": 3
   },
   "file_extension": ".py",
   "mimetype": "text/x-python",
   "name": "python",
   "nbconvert_exporter": "python",
   "pygments_lexer": "ipython3",
   "version": "3.9.13"
  }
 },
 "nbformat": 4,
 "nbformat_minor": 5
}
