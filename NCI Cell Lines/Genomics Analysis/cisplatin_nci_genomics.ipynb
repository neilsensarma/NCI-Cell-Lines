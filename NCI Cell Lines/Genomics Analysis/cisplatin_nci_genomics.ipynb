{
 "cells": [
  {
   "cell_type": "code",
   "execution_count": 1,
   "id": "759d66fb",
   "metadata": {},
   "outputs": [],
   "source": [
    "import numpy as np\n",
    "import pandas as pd\n",
    "from sklearn.preprocessing import MinMaxScaler, StandardScaler\n",
    "from sklearn.feature_selection import RFE, RFECV\n",
    "from sklearn.model_selection import StratifiedKFold, RepeatedStratifiedKFold\n",
    "from sklearn.svm import SVC\n",
    "from sklearn.ensemble import RandomForestClassifier, AdaBoostClassifier\n",
    "from sklearn.tree import DecisionTreeClassifier\n",
    "from xgboost import XGBClassifier\n",
    "from sklearn.metrics import accuracy_score, f1_score, recall_score, precision_score\n",
    "import seaborn as sns\n",
    "from warnings import filterwarnings\n",
    "import matplotlib.pyplot as plt\n",
    "filterwarnings('ignore')"
   ]
  },
  {
   "cell_type": "code",
   "execution_count": 2,
   "id": "499c3d67",
   "metadata": {},
   "outputs": [
    {
     "data": {
      "text/html": [
       "<div>\n",
       "<style scoped>\n",
       "    .dataframe tbody tr th:only-of-type {\n",
       "        vertical-align: middle;\n",
       "    }\n",
       "\n",
       "    .dataframe tbody tr th {\n",
       "        vertical-align: top;\n",
       "    }\n",
       "\n",
       "    .dataframe thead th {\n",
       "        text-align: right;\n",
       "    }\n",
       "</style>\n",
       "<table border=\"1\" class=\"dataframe\">\n",
       "  <thead>\n",
       "    <tr style=\"text-align: right;\">\n",
       "      <th></th>\n",
       "      <th>Cell names</th>\n",
       "      <th>WASH7P</th>\n",
       "      <th>FAM138F</th>\n",
       "      <th>LOC729737</th>\n",
       "      <th>RPL23AP21</th>\n",
       "      <th>CICP7</th>\n",
       "      <th>CICP3</th>\n",
       "      <th>LOC101060494</th>\n",
       "      <th>LINC00115</th>\n",
       "      <th>LINC01128</th>\n",
       "      <th>...</th>\n",
       "      <th>MAFIP</th>\n",
       "      <th>LOC283788</th>\n",
       "      <th>KIR3DS1</th>\n",
       "      <th>LOC100507412</th>\n",
       "      <th>KIR2DS5</th>\n",
       "      <th>LOC100288966</th>\n",
       "      <th>KIR2DS1</th>\n",
       "      <th>MGC70870</th>\n",
       "      <th>HLA-DRB4</th>\n",
       "      <th>HLA-DRB3</th>\n",
       "    </tr>\n",
       "  </thead>\n",
       "  <tbody>\n",
       "    <tr>\n",
       "      <th>0</th>\n",
       "      <td>BR:MCF7</td>\n",
       "      <td>0.499</td>\n",
       "      <td>1.863</td>\n",
       "      <td>1.137</td>\n",
       "      <td>0.095</td>\n",
       "      <td>-0.356</td>\n",
       "      <td>-0.368</td>\n",
       "      <td>0.120</td>\n",
       "      <td>-0.253</td>\n",
       "      <td>-0.449</td>\n",
       "      <td>...</td>\n",
       "      <td>0.949</td>\n",
       "      <td>-0.028</td>\n",
       "      <td>-0.169</td>\n",
       "      <td>0.935</td>\n",
       "      <td>0.168</td>\n",
       "      <td>0.892</td>\n",
       "      <td>0.090</td>\n",
       "      <td>0.474</td>\n",
       "      <td>-0.201</td>\n",
       "      <td>-0.761</td>\n",
       "    </tr>\n",
       "    <tr>\n",
       "      <th>1</th>\n",
       "      <td>BR:MDA-MB-231</td>\n",
       "      <td>-0.386</td>\n",
       "      <td>0.786</td>\n",
       "      <td>0.931</td>\n",
       "      <td>-0.086</td>\n",
       "      <td>-0.508</td>\n",
       "      <td>0.744</td>\n",
       "      <td>-0.364</td>\n",
       "      <td>-0.510</td>\n",
       "      <td>-0.078</td>\n",
       "      <td>...</td>\n",
       "      <td>-1.306</td>\n",
       "      <td>-0.861</td>\n",
       "      <td>-0.169</td>\n",
       "      <td>0.246</td>\n",
       "      <td>-0.207</td>\n",
       "      <td>0.701</td>\n",
       "      <td>-0.293</td>\n",
       "      <td>-0.145</td>\n",
       "      <td>0.185</td>\n",
       "      <td>-0.528</td>\n",
       "    </tr>\n",
       "  </tbody>\n",
       "</table>\n",
       "<p>2 rows × 25041 columns</p>\n",
       "</div>"
      ],
      "text/plain": [
       "      Cell names  WASH7P  FAM138F  LOC729737  RPL23AP21  CICP7  CICP3  \\\n",
       "0        BR:MCF7   0.499    1.863      1.137      0.095 -0.356 -0.368   \n",
       "1  BR:MDA-MB-231  -0.386    0.786      0.931     -0.086 -0.508  0.744   \n",
       "\n",
       "   LOC101060494  LINC00115  LINC01128  ...  MAFIP  LOC283788  KIR3DS1  \\\n",
       "0         0.120     -0.253     -0.449  ...  0.949     -0.028   -0.169   \n",
       "1        -0.364     -0.510     -0.078  ... -1.306     -0.861   -0.169   \n",
       "\n",
       "   LOC100507412  KIR2DS5  LOC100288966  KIR2DS1  MGC70870  HLA-DRB4  HLA-DRB3  \n",
       "0         0.935    0.168         0.892    0.090     0.474    -0.201    -0.761  \n",
       "1         0.246   -0.207         0.701   -0.293    -0.145     0.185    -0.528  \n",
       "\n",
       "[2 rows x 25041 columns]"
      ]
     },
     "execution_count": 2,
     "metadata": {},
     "output_type": "execute_result"
    }
   ],
   "source": [
    "genomics = pd.read_csv('C:\\\\Users\\\\nilav\\\\NCI Cell Lines\\\\nci_genomics.csv', index_col = 0)\n",
    "genomics.head(2)"
   ]
  },
  {
   "cell_type": "code",
   "execution_count": 3,
   "id": "74ccd021",
   "metadata": {},
   "outputs": [
    {
     "data": {
      "text/html": [
       "<div>\n",
       "<style scoped>\n",
       "    .dataframe tbody tr th:only-of-type {\n",
       "        vertical-align: middle;\n",
       "    }\n",
       "\n",
       "    .dataframe tbody tr th {\n",
       "        vertical-align: top;\n",
       "    }\n",
       "\n",
       "    .dataframe thead th {\n",
       "        text-align: right;\n",
       "    }\n",
       "</style>\n",
       "<table border=\"1\" class=\"dataframe\">\n",
       "  <thead>\n",
       "    <tr style=\"text-align: right;\">\n",
       "      <th></th>\n",
       "      <th>Cell names</th>\n",
       "      <th>Cisplatin</th>\n",
       "      <th>cells</th>\n",
       "    </tr>\n",
       "  </thead>\n",
       "  <tbody>\n",
       "    <tr>\n",
       "      <th>0</th>\n",
       "      <td>BR:MDA-MB-231</td>\n",
       "      <td>1.411583</td>\n",
       "      <td>MDAMB231</td>\n",
       "    </tr>\n",
       "    <tr>\n",
       "      <th>1</th>\n",
       "      <td>BR:HS 578T</td>\n",
       "      <td>1.572590</td>\n",
       "      <td>HS578T</td>\n",
       "    </tr>\n",
       "  </tbody>\n",
       "</table>\n",
       "</div>"
      ],
      "text/plain": [
       "      Cell names  Cisplatin     cells\n",
       "0  BR:MDA-MB-231   1.411583  MDAMB231\n",
       "1     BR:HS 578T   1.572590    HS578T"
      ]
     },
     "execution_count": 3,
     "metadata": {},
     "output_type": "execute_result"
    }
   ],
   "source": [
    "gemc = pd.read_csv('C:\\\\Users\\\\nilav\\\\NCI Cell Lines\\\\Cisplatin_NCI.csv')\n",
    "gemc.head(2)"
   ]
  },
  {
   "cell_type": "code",
   "execution_count": 4,
   "id": "ac5b55c7",
   "metadata": {},
   "outputs": [
    {
     "data": {
      "text/plain": [
       "(59, 25043)"
      ]
     },
     "execution_count": 4,
     "metadata": {},
     "output_type": "execute_result"
    }
   ],
   "source": [
    "working_data = genomics.merge(gemc, on='Cell names')\n",
    "working_data.shape"
   ]
  },
  {
   "cell_type": "code",
   "execution_count": 5,
   "id": "9e8abda6",
   "metadata": {},
   "outputs": [
    {
     "data": {
      "text/plain": [
       "(59, 3)"
      ]
     },
     "execution_count": 5,
     "metadata": {},
     "output_type": "execute_result"
    }
   ],
   "source": [
    "gemc.shape"
   ]
  },
  {
   "cell_type": "code",
   "execution_count": 6,
   "id": "82ed67dc",
   "metadata": {},
   "outputs": [
    {
     "data": {
      "text/html": [
       "<div>\n",
       "<style scoped>\n",
       "    .dataframe tbody tr th:only-of-type {\n",
       "        vertical-align: middle;\n",
       "    }\n",
       "\n",
       "    .dataframe tbody tr th {\n",
       "        vertical-align: top;\n",
       "    }\n",
       "\n",
       "    .dataframe thead th {\n",
       "        text-align: right;\n",
       "    }\n",
       "</style>\n",
       "<table border=\"1\" class=\"dataframe\">\n",
       "  <thead>\n",
       "    <tr style=\"text-align: right;\">\n",
       "      <th></th>\n",
       "      <th>Cell names</th>\n",
       "      <th>WASH7P</th>\n",
       "      <th>FAM138F</th>\n",
       "      <th>LOC729737</th>\n",
       "      <th>RPL23AP21</th>\n",
       "      <th>CICP7</th>\n",
       "      <th>CICP3</th>\n",
       "      <th>LOC101060494</th>\n",
       "      <th>LINC00115</th>\n",
       "      <th>LINC01128</th>\n",
       "      <th>...</th>\n",
       "      <th>KIR3DS1</th>\n",
       "      <th>LOC100507412</th>\n",
       "      <th>KIR2DS5</th>\n",
       "      <th>LOC100288966</th>\n",
       "      <th>KIR2DS1</th>\n",
       "      <th>MGC70870</th>\n",
       "      <th>HLA-DRB4</th>\n",
       "      <th>HLA-DRB3</th>\n",
       "      <th>Cisplatin</th>\n",
       "      <th>cells</th>\n",
       "    </tr>\n",
       "  </thead>\n",
       "  <tbody>\n",
       "    <tr>\n",
       "      <th>0</th>\n",
       "      <td>BR:MDA-MB-231</td>\n",
       "      <td>-0.386</td>\n",
       "      <td>0.786</td>\n",
       "      <td>0.931</td>\n",
       "      <td>-0.086</td>\n",
       "      <td>-0.508</td>\n",
       "      <td>0.744</td>\n",
       "      <td>-0.364</td>\n",
       "      <td>-0.510</td>\n",
       "      <td>-0.078</td>\n",
       "      <td>...</td>\n",
       "      <td>-0.169</td>\n",
       "      <td>0.246</td>\n",
       "      <td>-0.207</td>\n",
       "      <td>0.701</td>\n",
       "      <td>-0.293</td>\n",
       "      <td>-0.145</td>\n",
       "      <td>0.185</td>\n",
       "      <td>-0.528</td>\n",
       "      <td>1.411583</td>\n",
       "      <td>MDAMB231</td>\n",
       "    </tr>\n",
       "    <tr>\n",
       "      <th>1</th>\n",
       "      <td>BR:HS 578T</td>\n",
       "      <td>-0.585</td>\n",
       "      <td>0.021</td>\n",
       "      <td>-0.801</td>\n",
       "      <td>-0.795</td>\n",
       "      <td>-0.499</td>\n",
       "      <td>0.720</td>\n",
       "      <td>-1.207</td>\n",
       "      <td>0.098</td>\n",
       "      <td>0.823</td>\n",
       "      <td>...</td>\n",
       "      <td>-0.169</td>\n",
       "      <td>-0.303</td>\n",
       "      <td>-0.268</td>\n",
       "      <td>0.669</td>\n",
       "      <td>-0.246</td>\n",
       "      <td>-1.024</td>\n",
       "      <td>-0.512</td>\n",
       "      <td>-0.172</td>\n",
       "      <td>1.572590</td>\n",
       "      <td>HS578T</td>\n",
       "    </tr>\n",
       "  </tbody>\n",
       "</table>\n",
       "<p>2 rows × 25043 columns</p>\n",
       "</div>"
      ],
      "text/plain": [
       "      Cell names  WASH7P  FAM138F  LOC729737  RPL23AP21  CICP7  CICP3  \\\n",
       "0  BR:MDA-MB-231  -0.386    0.786      0.931     -0.086 -0.508  0.744   \n",
       "1     BR:HS 578T  -0.585    0.021     -0.801     -0.795 -0.499  0.720   \n",
       "\n",
       "   LOC101060494  LINC00115  LINC01128  ...  KIR3DS1  LOC100507412  KIR2DS5  \\\n",
       "0        -0.364     -0.510     -0.078  ...   -0.169         0.246   -0.207   \n",
       "1        -1.207      0.098      0.823  ...   -0.169        -0.303   -0.268   \n",
       "\n",
       "   LOC100288966  KIR2DS1  MGC70870  HLA-DRB4  HLA-DRB3  Cisplatin     cells  \n",
       "0         0.701   -0.293    -0.145     0.185    -0.528   1.411583  MDAMB231  \n",
       "1         0.669   -0.246    -1.024    -0.512    -0.172   1.572590    HS578T  \n",
       "\n",
       "[2 rows x 25043 columns]"
      ]
     },
     "execution_count": 6,
     "metadata": {},
     "output_type": "execute_result"
    }
   ],
   "source": [
    "working_data.head(2)"
   ]
  },
  {
   "cell_type": "code",
   "execution_count": 7,
   "id": "182d365b",
   "metadata": {},
   "outputs": [],
   "source": [
    "target = working_data.pop('Cisplatin')\n",
    "X = working_data.select_dtypes('float64')"
   ]
  },
  {
   "cell_type": "code",
   "execution_count": 8,
   "id": "a5588798",
   "metadata": {},
   "outputs": [
    {
     "data": {
      "text/html": [
       "<div>\n",
       "<style scoped>\n",
       "    .dataframe tbody tr th:only-of-type {\n",
       "        vertical-align: middle;\n",
       "    }\n",
       "\n",
       "    .dataframe tbody tr th {\n",
       "        vertical-align: top;\n",
       "    }\n",
       "\n",
       "    .dataframe thead th {\n",
       "        text-align: right;\n",
       "    }\n",
       "</style>\n",
       "<table border=\"1\" class=\"dataframe\">\n",
       "  <thead>\n",
       "    <tr style=\"text-align: right;\">\n",
       "      <th></th>\n",
       "      <th>WASH7P</th>\n",
       "      <th>FAM138F</th>\n",
       "      <th>LOC729737</th>\n",
       "      <th>RPL23AP21</th>\n",
       "      <th>CICP7</th>\n",
       "      <th>CICP3</th>\n",
       "      <th>LOC101060494</th>\n",
       "      <th>LINC00115</th>\n",
       "      <th>LINC01128</th>\n",
       "      <th>TUBB8P11</th>\n",
       "      <th>...</th>\n",
       "      <th>MAFIP</th>\n",
       "      <th>LOC283788</th>\n",
       "      <th>KIR3DS1</th>\n",
       "      <th>LOC100507412</th>\n",
       "      <th>KIR2DS5</th>\n",
       "      <th>LOC100288966</th>\n",
       "      <th>KIR2DS1</th>\n",
       "      <th>MGC70870</th>\n",
       "      <th>HLA-DRB4</th>\n",
       "      <th>HLA-DRB3</th>\n",
       "    </tr>\n",
       "  </thead>\n",
       "  <tbody>\n",
       "    <tr>\n",
       "      <th>0</th>\n",
       "      <td>-0.386</td>\n",
       "      <td>0.786</td>\n",
       "      <td>0.931</td>\n",
       "      <td>-0.086</td>\n",
       "      <td>-0.508</td>\n",
       "      <td>0.744</td>\n",
       "      <td>-0.364</td>\n",
       "      <td>-0.510</td>\n",
       "      <td>-0.078</td>\n",
       "      <td>-0.045</td>\n",
       "      <td>...</td>\n",
       "      <td>-1.306</td>\n",
       "      <td>-0.861</td>\n",
       "      <td>-0.169</td>\n",
       "      <td>0.246</td>\n",
       "      <td>-0.207</td>\n",
       "      <td>0.701</td>\n",
       "      <td>-0.293</td>\n",
       "      <td>-0.145</td>\n",
       "      <td>0.185</td>\n",
       "      <td>-0.528</td>\n",
       "    </tr>\n",
       "    <tr>\n",
       "      <th>1</th>\n",
       "      <td>-0.585</td>\n",
       "      <td>0.021</td>\n",
       "      <td>-0.801</td>\n",
       "      <td>-0.795</td>\n",
       "      <td>-0.499</td>\n",
       "      <td>0.720</td>\n",
       "      <td>-1.207</td>\n",
       "      <td>0.098</td>\n",
       "      <td>0.823</td>\n",
       "      <td>1.923</td>\n",
       "      <td>...</td>\n",
       "      <td>-0.920</td>\n",
       "      <td>-0.619</td>\n",
       "      <td>-0.169</td>\n",
       "      <td>-0.303</td>\n",
       "      <td>-0.268</td>\n",
       "      <td>0.669</td>\n",
       "      <td>-0.246</td>\n",
       "      <td>-1.024</td>\n",
       "      <td>-0.512</td>\n",
       "      <td>-0.172</td>\n",
       "    </tr>\n",
       "  </tbody>\n",
       "</table>\n",
       "<p>2 rows × 25040 columns</p>\n",
       "</div>"
      ],
      "text/plain": [
       "   WASH7P  FAM138F  LOC729737  RPL23AP21  CICP7  CICP3  LOC101060494  \\\n",
       "0  -0.386    0.786      0.931     -0.086 -0.508  0.744        -0.364   \n",
       "1  -0.585    0.021     -0.801     -0.795 -0.499  0.720        -1.207   \n",
       "\n",
       "   LINC00115  LINC01128  TUBB8P11  ...  MAFIP  LOC283788  KIR3DS1  \\\n",
       "0     -0.510     -0.078    -0.045  ... -1.306     -0.861   -0.169   \n",
       "1      0.098      0.823     1.923  ... -0.920     -0.619   -0.169   \n",
       "\n",
       "   LOC100507412  KIR2DS5  LOC100288966  KIR2DS1  MGC70870  HLA-DRB4  HLA-DRB3  \n",
       "0         0.246   -0.207         0.701   -0.293    -0.145     0.185    -0.528  \n",
       "1        -0.303   -0.268         0.669   -0.246    -1.024    -0.512    -0.172  \n",
       "\n",
       "[2 rows x 25040 columns]"
      ]
     },
     "execution_count": 8,
     "metadata": {},
     "output_type": "execute_result"
    }
   ],
   "source": [
    "X.head(2)"
   ]
  },
  {
   "cell_type": "code",
   "execution_count": 9,
   "id": "79649d56",
   "metadata": {},
   "outputs": [],
   "source": [
    "mean = target.mean()\n",
    "y = []\n",
    "for i in list(target):\n",
    "    if i>mean:\n",
    "        y.append('NR')\n",
    "    else:\n",
    "        y.append('R')\n",
    "y = pd.Series(y)"
   ]
  },
  {
   "cell_type": "code",
   "execution_count": 10,
   "id": "3b13852f",
   "metadata": {},
   "outputs": [
    {
     "data": {
      "text/plain": [
       "<AxesSubplot:ylabel='Density'>"
      ]
     },
     "execution_count": 10,
     "metadata": {},
     "output_type": "execute_result"
    },
    {
     "data": {
      "image/png": "[encoded data removed]",
      "text/plain": [
       "<Figure size 640x480 with 1 Axes>"
      ]
     },
     "metadata": {},
     "output_type": "display_data"
    }
   ],
   "source": [
    "target.plot.density(color = 'green')"
   ]
  },
  {
   "cell_type": "code",
   "execution_count": 11,
   "id": "03df4157",
   "metadata": {},
   "outputs": [
    {
     "data": {
      "text/plain": [
       "0    42\n",
       "1    17\n",
       "dtype: int64"
      ]
     },
     "execution_count": 11,
     "metadata": {},
     "output_type": "execute_result"
    }
   ],
   "source": [
    "from sklearn.preprocessing import LabelEncoder\n",
    "\n",
    "le = LabelEncoder()\n",
    "y = pd.Series(le.fit_transform(y))\n",
    "y.value_counts()"
   ]
  },
  {
   "cell_type": "code",
   "execution_count": 12,
   "id": "51d5df18",
   "metadata": {},
   "outputs": [],
   "source": [
    "scaler = StandardScaler()\n",
    "X = pd.DataFrame(data = scaler.fit_transform(X), columns = X.columns)"
   ]
  },
  {
   "cell_type": "code",
   "execution_count": 13,
   "id": "87d2a4ce",
   "metadata": {},
   "outputs": [
    {
     "data": {
      "text/html": [
       "<div>\n",
       "<style scoped>\n",
       "    .dataframe tbody tr th:only-of-type {\n",
       "        vertical-align: middle;\n",
       "    }\n",
       "\n",
       "    .dataframe tbody tr th {\n",
       "        vertical-align: top;\n",
       "    }\n",
       "\n",
       "    .dataframe thead th {\n",
       "        text-align: right;\n",
       "    }\n",
       "</style>\n",
       "<table border=\"1\" class=\"dataframe\">\n",
       "  <thead>\n",
       "    <tr style=\"text-align: right;\">\n",
       "      <th></th>\n",
       "      <th>WASH7P</th>\n",
       "      <th>FAM138F</th>\n",
       "      <th>LOC729737</th>\n",
       "      <th>RPL23AP21</th>\n",
       "      <th>CICP7</th>\n",
       "      <th>CICP3</th>\n",
       "      <th>LOC101060494</th>\n",
       "      <th>LINC00115</th>\n",
       "      <th>LINC01128</th>\n",
       "      <th>TUBB8P11</th>\n",
       "      <th>...</th>\n",
       "      <th>MAFIP</th>\n",
       "      <th>LOC283788</th>\n",
       "      <th>KIR3DS1</th>\n",
       "      <th>LOC100507412</th>\n",
       "      <th>KIR2DS5</th>\n",
       "      <th>LOC100288966</th>\n",
       "      <th>KIR2DS1</th>\n",
       "      <th>MGC70870</th>\n",
       "      <th>HLA-DRB4</th>\n",
       "      <th>HLA-DRB3</th>\n",
       "    </tr>\n",
       "  </thead>\n",
       "  <tbody>\n",
       "    <tr>\n",
       "      <th>0</th>\n",
       "      <td>-0.378306</td>\n",
       "      <td>0.843224</td>\n",
       "      <td>0.969494</td>\n",
       "      <td>-0.090111</td>\n",
       "      <td>-0.514618</td>\n",
       "      <td>0.745022</td>\n",
       "      <td>-0.365166</td>\n",
       "      <td>-0.569089</td>\n",
       "      <td>-0.096179</td>\n",
       "      <td>-0.058416</td>\n",
       "      <td>...</td>\n",
       "      <td>-1.409597</td>\n",
       "      <td>-0.947768</td>\n",
       "      <td>-0.173007</td>\n",
       "      <td>0.281863</td>\n",
       "      <td>-0.204345</td>\n",
       "      <td>0.828610</td>\n",
       "      <td>-0.294187</td>\n",
       "      <td>-0.144175</td>\n",
       "      <td>0.200366</td>\n",
       "      <td>-0.548336</td>\n",
       "    </tr>\n",
       "    <tr>\n",
       "      <th>1</th>\n",
       "      <td>-0.577735</td>\n",
       "      <td>0.054258</td>\n",
       "      <td>-0.797510</td>\n",
       "      <td>-0.847027</td>\n",
       "      <td>-0.505608</td>\n",
       "      <td>0.720787</td>\n",
       "      <td>-1.215538</td>\n",
       "      <td>0.085113</td>\n",
       "      <td>0.959963</td>\n",
       "      <td>2.199502</td>\n",
       "      <td>...</td>\n",
       "      <td>-0.987777</td>\n",
       "      <td>-0.681527</td>\n",
       "      <td>-0.173007</td>\n",
       "      <td>-0.309179</td>\n",
       "      <td>-0.266444</td>\n",
       "      <td>0.791586</td>\n",
       "      <td>-0.246095</td>\n",
       "      <td>-1.128775</td>\n",
       "      <td>-0.564902</td>\n",
       "      <td>-0.187441</td>\n",
       "    </tr>\n",
       "  </tbody>\n",
       "</table>\n",
       "<p>2 rows × 25040 columns</p>\n",
       "</div>"
      ],
      "text/plain": [
       "     WASH7P   FAM138F  LOC729737  RPL23AP21     CICP7     CICP3  LOC101060494  \\\n",
       "0 -0.378306  0.843224   0.969494  -0.090111 -0.514618  0.745022     -0.365166   \n",
       "1 -0.577735  0.054258  -0.797510  -0.847027 -0.505608  0.720787     -1.215538   \n",
       "\n",
       "   LINC00115  LINC01128  TUBB8P11  ...     MAFIP  LOC283788   KIR3DS1  \\\n",
       "0  -0.569089  -0.096179 -0.058416  ... -1.409597  -0.947768 -0.173007   \n",
       "1   0.085113   0.959963  2.199502  ... -0.987777  -0.681527 -0.173007   \n",
       "\n",
       "   LOC100507412   KIR2DS5  LOC100288966   KIR2DS1  MGC70870  HLA-DRB4  \\\n",
       "0      0.281863 -0.204345      0.828610 -0.294187 -0.144175  0.200366   \n",
       "1     -0.309179 -0.266444      0.791586 -0.246095 -1.128775 -0.564902   \n",
       "\n",
       "   HLA-DRB3  \n",
       "0 -0.548336  \n",
       "1 -0.187441  \n",
       "\n",
       "[2 rows x 25040 columns]"
      ]
     },
     "execution_count": 13,
     "metadata": {},
     "output_type": "execute_result"
    }
   ],
   "source": [
    "X.head(2)"
   ]
  },
  {
   "cell_type": "code",
   "execution_count": 14,
   "id": "6efda6da",
   "metadata": {},
   "outputs": [
    {
     "data": {
      "text/plain": [
       "1    42\n",
       "0    42\n",
       "dtype: int64"
      ]
     },
     "execution_count": 14,
     "metadata": {},
     "output_type": "execute_result"
    }
   ],
   "source": [
    "from imblearn.over_sampling import SMOTE\n",
    "\n",
    "smote = SMOTE()\n",
    "X,y = smote.fit_resample(X,y)\n",
    "\n",
    "y.value_counts()"
   ]
  },
  {
   "cell_type": "code",
   "execution_count": 15,
   "id": "3f3c590c",
   "metadata": {},
   "outputs": [
    {
     "data": {
      "text/plain": [
       "((84, 25040), (84,))"
      ]
     },
     "execution_count": 15,
     "metadata": {},
     "output_type": "execute_result"
    }
   ],
   "source": [
    "X.shape, y.shape"
   ]
  },
  {
   "cell_type": "code",
   "execution_count": 16,
   "id": "9c39d34d",
   "metadata": {},
   "outputs": [
    {
     "data": {
      "image/png": "[encoded data removed]",
      "text/plain": [
       "<Figure size 640x480 with 1 Axes>"
      ]
     },
     "metadata": {},
     "output_type": "display_data"
    }
   ],
   "source": [
    "from xgboost import plot_importance\n",
    "from sklearn.model_selection import train_test_split\n",
    "\n",
    "model = RandomForestClassifier(class_weight = 'balanced', n_estimators = 150, random_state = 43)\n",
    "model.fit(X, y)\n",
    "importances = model.feature_importances_\n",
    "indices = np.argsort(importances)[::-1]\n",
    "\n",
    "plt.figure()\n",
    "plt.title(\"Feature importances\")\n",
    "plt.bar(range(X.shape[1]), importances[indices],\n",
    "        color=\"lightsalmon\", align=\"center\")\n",
    "plt.xticks(range(X.shape[1]), X.columns[indices], rotation=90)\n",
    "plt.xlim([-1, X.shape[1]])\n",
    "plt.show()"
   ]
  },
  {
   "cell_type": "code",
   "execution_count": 17,
   "id": "4a98c39e",
   "metadata": {},
   "outputs": [
    {
     "name": "stdout",
     "output_type": "stream",
     "text": [
      "Accuracy on training data: 1.0\n",
      "Accuracy on testing data: 0.9285714285714286\n",
      "              precision    recall  f1-score   support\n",
      "\n",
      "           0       0.94      0.94      0.94        16\n",
      "           1       0.92      0.92      0.92        12\n",
      "\n",
      "    accuracy                           0.93        28\n",
      "   macro avg       0.93      0.93      0.93        28\n",
      "weighted avg       0.93      0.93      0.93        28\n",
      "\n"
     ]
    }
   ],
   "source": [
    "from sklearn.feature_selection import SelectFromModel\n",
    "from sklearn.metrics import classification_report\n",
    "\n",
    "sfm = SelectFromModel(model, threshold = 0.002)\n",
    "sfm.fit(X,y)\n",
    "\n",
    "X = pd.DataFrame(data = sfm.transform(X), columns = X.columns[sfm.get_support(1)])\n",
    "indices = X.index.values\n",
    "X_train, X_test, train_index, test_index = train_test_split(X, indices, test_size = 0.33, random_state = 43)\n",
    "y_train, y_test = y.iloc[train_index], y.iloc[test_index]\n",
    "model.fit(X_train, y_train)\n",
    "prediction = model.predict_proba(X_test)[:, 1]\n",
    "y_pred = model.predict(X_test)\n",
    "\n",
    "print(f'Accuracy on training data: {accuracy_score(y_train, model.predict(X_train))}')\n",
    "print(f'Accuracy on testing data: {accuracy_score(y_test, model.predict(X_test))}')\n",
    "print(classification_report(y_test, y_pred))"
   ]
  },
  {
   "cell_type": "code",
   "execution_count": 18,
   "id": "20f3cdd5",
   "metadata": {},
   "outputs": [
    {
     "data": {
      "text/plain": [
       "Text(50.722222222222214, 0.5, 'True Labels')"
      ]
     },
     "execution_count": 18,
     "metadata": {},
     "output_type": "execute_result"
    },
    {
     "data": {
      "image/png": "[encoded data removed]",
      "text/plain": [
       "<Figure size 640x480 with 2 Axes>"
      ]
     },
     "metadata": {},
     "output_type": "display_data"
    }
   ],
   "source": [
    "from sklearn.metrics import confusion_matrix\n",
    "\n",
    "fig, ax = plt.subplots()\n",
    "ax = sns.heatmap(confusion_matrix(y_test, y_pred), annot=True, xticklabels = ['N', 'R'], yticklabels = ['N', 'R'])\n",
    "ax.set_title('Random Forest Model for Paclitaxel-NCI60 cell lines\\nAccuracy: 71%')\n",
    "ax.set_xlabel('Predicted Labels')\n",
    "ax.set_ylabel('True Labels')"
   ]
  },
  {
   "cell_type": "code",
   "execution_count": 19,
   "id": "82790fdc",
   "metadata": {},
   "outputs": [
    {
     "data": {
      "image/png": "[encoded data removed]",
      "text/plain": [
       "<Figure size 500x500 with 1 Axes>"
      ]
     },
     "metadata": {},
     "output_type": "display_data"
    }
   ],
   "source": [
    "plt.figure(figsize=(5, 5))\n",
    "plt.hist(prediction[y_test==0], label='Non-Responders')\n",
    "plt.hist(prediction[y_test==1], label='Responders', alpha=0.7, color = 'r')\n",
    "plt.xlabel('Probability of being Positive Class')\n",
    "plt.ylabel('Number of records in each bucket')\n",
    "plt.legend()\n",
    "plt.tick_params(axis='both')\n",
    "plt.show() "
   ]
  },
  {
   "cell_type": "code",
   "execution_count": 20,
   "id": "4c6116bf",
   "metadata": {},
   "outputs": [
    {
     "data": {
      "text/plain": [
       "(11, 0.9166666666666666)"
      ]
     },
     "execution_count": 20,
     "metadata": {},
     "output_type": "execute_result"
    }
   ],
   "source": [
    "responders = prediction[y_test == 1]\n",
    "count = 0\n",
    "for i in responders: \n",
    "    if i > max(prediction[y_test == 0]):\n",
    "        count+=1\n",
    "count, count/len(responders)"
   ]
  },
  {
   "cell_type": "code",
   "execution_count": 21,
   "id": "545578d2",
   "metadata": {},
   "outputs": [
    {
     "data": {
      "text/plain": [
       "0.5066666666666667"
      ]
     },
     "execution_count": 21,
     "metadata": {},
     "output_type": "execute_result"
    }
   ],
   "source": [
    "max(prediction[y_test == 0])"
   ]
  },
  {
   "cell_type": "code",
   "execution_count": 22,
   "id": "a0d409d1",
   "metadata": {},
   "outputs": [],
   "source": [
    "df_rf_test = X_test.copy()\n",
    "df_rf_test.loc[test_index, 'test_proba'] = prediction\n",
    "\n",
    "df1 = pd.concat([X_train, df_rf_test], sort=False).sort_index()"
   ]
  },
  {
   "cell_type": "code",
   "execution_count": 23,
   "id": "33ed1155",
   "metadata": {},
   "outputs": [
    {
     "data": {
      "text/plain": [
       "(3, 190)"
      ]
     },
     "execution_count": 23,
     "metadata": {},
     "output_type": "execute_result"
    }
   ],
   "source": [
    "df1_main = df1.iloc[:49, ]\n",
    "x = max(prediction[y_test == 0])\n",
    "df1_main = df1_main.loc[(df1_main['test_proba'] > x)]\n",
    "df1_main.shape"
   ]
  },
  {
   "cell_type": "code",
   "execution_count": 41,
   "id": "b8ef545b",
   "metadata": {},
   "outputs": [
    {
     "data": {
      "text/html": [
       "<div>\n",
       "<style scoped>\n",
       "    .dataframe tbody tr th:only-of-type {\n",
       "        vertical-align: middle;\n",
       "    }\n",
       "\n",
       "    .dataframe tbody tr th {\n",
       "        vertical-align: top;\n",
       "    }\n",
       "\n",
       "    .dataframe thead th {\n",
       "        text-align: right;\n",
       "    }\n",
       "</style>\n",
       "<table border=\"1\" class=\"dataframe\">\n",
       "  <thead>\n",
       "    <tr style=\"text-align: right;\">\n",
       "      <th></th>\n",
       "      <th>CALML6</th>\n",
       "      <th>RPS16P1</th>\n",
       "      <th>HSPB7</th>\n",
       "      <th>TMEM200B</th>\n",
       "      <th>SLC6A9</th>\n",
       "      <th>AGBL4</th>\n",
       "      <th>LEXM</th>\n",
       "      <th>NFIA</th>\n",
       "      <th>CFL1P3</th>\n",
       "      <th>ANKRD13C</th>\n",
       "      <th>...</th>\n",
       "      <th>GRPR</th>\n",
       "      <th>PPEF1</th>\n",
       "      <th>PORCN</th>\n",
       "      <th>GSPT2</th>\n",
       "      <th>CPXCR1</th>\n",
       "      <th>ZNF280C</th>\n",
       "      <th>PCDH11Y</th>\n",
       "      <th>TTTY2</th>\n",
       "      <th>MGC70870</th>\n",
       "      <th>test_proba</th>\n",
       "    </tr>\n",
       "  </thead>\n",
       "  <tbody>\n",
       "    <tr>\n",
       "      <th>0</th>\n",
       "      <td>0.083822</td>\n",
       "      <td>-0.179159</td>\n",
       "      <td>-0.364687</td>\n",
       "      <td>2.701874</td>\n",
       "      <td>0.893671</td>\n",
       "      <td>0.443635</td>\n",
       "      <td>-0.018797</td>\n",
       "      <td>-0.081910</td>\n",
       "      <td>0.517860</td>\n",
       "      <td>1.844479</td>\n",
       "      <td>...</td>\n",
       "      <td>-0.251607</td>\n",
       "      <td>-0.424153</td>\n",
       "      <td>0.607886</td>\n",
       "      <td>-0.912342</td>\n",
       "      <td>-0.032005</td>\n",
       "      <td>-0.500089</td>\n",
       "      <td>-0.491981</td>\n",
       "      <td>0.960341</td>\n",
       "      <td>-0.144175</td>\n",
       "      <td>0.873333</td>\n",
       "    </tr>\n",
       "    <tr>\n",
       "      <th>1</th>\n",
       "      <td>0.197012</td>\n",
       "      <td>-0.585057</td>\n",
       "      <td>2.586721</td>\n",
       "      <td>2.104103</td>\n",
       "      <td>2.567008</td>\n",
       "      <td>-1.410958</td>\n",
       "      <td>0.920017</td>\n",
       "      <td>-1.101667</td>\n",
       "      <td>2.261378</td>\n",
       "      <td>0.909135</td>\n",
       "      <td>...</td>\n",
       "      <td>1.240368</td>\n",
       "      <td>-0.465351</td>\n",
       "      <td>0.230658</td>\n",
       "      <td>-0.734952</td>\n",
       "      <td>-1.240070</td>\n",
       "      <td>-1.815878</td>\n",
       "      <td>-0.269283</td>\n",
       "      <td>2.580741</td>\n",
       "      <td>-1.128775</td>\n",
       "      <td>0.946667</td>\n",
       "    </tr>\n",
       "    <tr>\n",
       "      <th>2</th>\n",
       "      <td>0.816446</td>\n",
       "      <td>-0.644188</td>\n",
       "      <td>-0.246556</td>\n",
       "      <td>-0.614758</td>\n",
       "      <td>2.742917</td>\n",
       "      <td>-0.261845</td>\n",
       "      <td>-1.466912</td>\n",
       "      <td>-1.358843</td>\n",
       "      <td>0.648734</td>\n",
       "      <td>1.021332</td>\n",
       "      <td>...</td>\n",
       "      <td>0.440696</td>\n",
       "      <td>-0.463124</td>\n",
       "      <td>-0.692067</td>\n",
       "      <td>-1.371267</td>\n",
       "      <td>-0.478281</td>\n",
       "      <td>0.618976</td>\n",
       "      <td>-0.449288</td>\n",
       "      <td>1.846644</td>\n",
       "      <td>-0.143055</td>\n",
       "      <td>0.626667</td>\n",
       "    </tr>\n",
       "  </tbody>\n",
       "</table>\n",
       "<p>3 rows × 190 columns</p>\n",
       "</div>"
      ],
      "text/plain": [
       "     CALML6   RPS16P1     HSPB7  TMEM200B    SLC6A9     AGBL4      LEXM  \\\n",
       "0  0.083822 -0.179159 -0.364687  2.701874  0.893671  0.443635 -0.018797   \n",
       "1  0.197012 -0.585057  2.586721  2.104103  2.567008 -1.410958  0.920017   \n",
       "2  0.816446 -0.644188 -0.246556 -0.614758  2.742917 -0.261845 -1.466912   \n",
       "\n",
       "       NFIA    CFL1P3  ANKRD13C  ...      GRPR     PPEF1     PORCN     GSPT2  \\\n",
       "0 -0.081910  0.517860  1.844479  ... -0.251607 -0.424153  0.607886 -0.912342   \n",
       "1 -1.101667  2.261378  0.909135  ...  1.240368 -0.465351  0.230658 -0.734952   \n",
       "2 -1.358843  0.648734  1.021332  ...  0.440696 -0.463124 -0.692067 -1.371267   \n",
       "\n",
       "     CPXCR1   ZNF280C   PCDH11Y     TTTY2  MGC70870  test_proba  \n",
       "0 -0.032005 -0.500089 -0.491981  0.960341 -0.144175    0.873333  \n",
       "1 -1.240070 -1.815878 -0.269283  2.580741 -1.128775    0.946667  \n",
       "2 -0.478281  0.618976 -0.449288  1.846644 -0.143055    0.626667  \n",
       "\n",
       "[3 rows x 190 columns]"
      ]
     },
     "execution_count": 41,
     "metadata": {},
     "output_type": "execute_result"
    }
   ],
   "source": [
    "df1_main"
   ]
  },
  {
   "cell_type": "code",
   "execution_count": 24,
   "id": "24523555",
   "metadata": {},
   "outputs": [
    {
     "name": "stdout",
     "output_type": "stream",
     "text": [
      "Accuracy on training data: 1.0\n",
      "Accuracy on testing data: 1.0\n",
      "              precision    recall  f1-score   support\n",
      "\n",
      "           0       1.00      1.00      1.00        16\n",
      "           1       1.00      1.00      1.00        12\n",
      "\n",
      "    accuracy                           1.00        28\n",
      "   macro avg       1.00      1.00      1.00        28\n",
      "weighted avg       1.00      1.00      1.00        28\n",
      "\n"
     ]
    }
   ],
   "source": [
    "model2 = SVC(kernel = 'linear', C=1, gamma='auto', probability=True)\n",
    "model2.fit(X_train, y_train)\n",
    "prediction2 = model2.predict_proba(X_test)[:, 1]\n",
    "y_pred = model2.predict(X_test)\n",
    "print(f'Accuracy on training data: {accuracy_score(y_train, model2.predict(X_train))}')\n",
    "print(f'Accuracy on testing data: {accuracy_score(y_test, model2.predict(X_test))}')\n",
    "print(classification_report(y_test, y_pred))"
   ]
  },
  {
   "cell_type": "code",
   "execution_count": 25,
   "id": "e6114c20",
   "metadata": {},
   "outputs": [
    {
     "data": {
      "text/plain": [
       "Text(50.722222222222214, 0.5, 'True labels')"
      ]
     },
     "execution_count": 25,
     "metadata": {},
     "output_type": "execute_result"
    },
    {
     "data": {
      "image/png": "[encoded data removed]",
      "text/plain": [
       "<Figure size 640x480 with 2 Axes>"
      ]
     },
     "metadata": {},
     "output_type": "display_data"
    }
   ],
   "source": [
    "fig, ax = plt.subplots()\n",
    "ax = sns.heatmap(confusion_matrix(y_test, y_pred), annot=True, xticklabels = ['N', 'R'], yticklabels = ['N', 'R'])\n",
    "ax.set_title('SVM Paclitaxel Model for NCI-60 cell lines\\nAccuracy: 71%')\n",
    "ax.set_xlabel('Predicted Labels')\n",
    "ax.set_ylabel('True labels')"
   ]
  },
  {
   "cell_type": "code",
   "execution_count": 26,
   "id": "37343170",
   "metadata": {},
   "outputs": [
    {
     "data": {
      "image/png": "[encoded data removed]",
      "text/plain": [
       "<Figure size 500x500 with 1 Axes>"
      ]
     },
     "metadata": {},
     "output_type": "display_data"
    }
   ],
   "source": [
    "plt.figure(figsize=(5,5))\n",
    "plt.hist(prediction2[y_test==0], label='Negatives')\n",
    "plt.hist(prediction2[y_test==1], label='Positives', alpha=0.7, color = 'r')\n",
    "plt.xlabel('Probability of being Positive Class')\n",
    "plt.ylabel('Number of records in each bucket')\n",
    "plt.legend()\n",
    "plt.tick_params(axis='both')\n",
    "plt.show() "
   ]
  },
  {
   "cell_type": "code",
   "execution_count": 27,
   "id": "e3e64633",
   "metadata": {},
   "outputs": [
    {
     "data": {
      "text/plain": [
       "(12, 1.0)"
      ]
     },
     "execution_count": 27,
     "metadata": {},
     "output_type": "execute_result"
    }
   ],
   "source": [
    "resp_svm = prediction2[y_test == 1]\n",
    "count = 0\n",
    "for i in resp_svm:\n",
    "    if i > max(prediction2[y_test == 0]):\n",
    "        count+=1\n",
    "count, count/len(resp_svm)"
   ]
  },
  {
   "cell_type": "code",
   "execution_count": 28,
   "id": "94abf389",
   "metadata": {},
   "outputs": [
    {
     "data": {
      "text/plain": [
       "0.2501010327273236"
      ]
     },
     "execution_count": 28,
     "metadata": {},
     "output_type": "execute_result"
    }
   ],
   "source": [
    "max(prediction2[y_test == 0])"
   ]
  },
  {
   "cell_type": "code",
   "execution_count": 29,
   "id": "40c8224e",
   "metadata": {},
   "outputs": [],
   "source": [
    "df_svm_test = X_test.copy()\n",
    "df_svm_test.loc[test_index, 'test_proba'] = prediction2\n",
    "\n",
    "df2 = pd.concat([X_train, df_svm_test], sort=False).sort_index()"
   ]
  },
  {
   "cell_type": "code",
   "execution_count": 30,
   "id": "ced78a1b",
   "metadata": {},
   "outputs": [
    {
     "data": {
      "text/html": [
       "<div>\n",
       "<style scoped>\n",
       "    .dataframe tbody tr th:only-of-type {\n",
       "        vertical-align: middle;\n",
       "    }\n",
       "\n",
       "    .dataframe tbody tr th {\n",
       "        vertical-align: top;\n",
       "    }\n",
       "\n",
       "    .dataframe thead th {\n",
       "        text-align: right;\n",
       "    }\n",
       "</style>\n",
       "<table border=\"1\" class=\"dataframe\">\n",
       "  <thead>\n",
       "    <tr style=\"text-align: right;\">\n",
       "      <th></th>\n",
       "      <th>CALML6</th>\n",
       "      <th>RPS16P1</th>\n",
       "      <th>HSPB7</th>\n",
       "      <th>TMEM200B</th>\n",
       "      <th>SLC6A9</th>\n",
       "      <th>AGBL4</th>\n",
       "      <th>LEXM</th>\n",
       "      <th>NFIA</th>\n",
       "      <th>CFL1P3</th>\n",
       "      <th>ANKRD13C</th>\n",
       "      <th>...</th>\n",
       "      <th>GRPR</th>\n",
       "      <th>PPEF1</th>\n",
       "      <th>PORCN</th>\n",
       "      <th>GSPT2</th>\n",
       "      <th>CPXCR1</th>\n",
       "      <th>ZNF280C</th>\n",
       "      <th>PCDH11Y</th>\n",
       "      <th>TTTY2</th>\n",
       "      <th>MGC70870</th>\n",
       "      <th>test_proba</th>\n",
       "    </tr>\n",
       "  </thead>\n",
       "  <tbody>\n",
       "    <tr>\n",
       "      <th>0</th>\n",
       "      <td>0.083822</td>\n",
       "      <td>-0.179159</td>\n",
       "      <td>-0.364687</td>\n",
       "      <td>2.701874</td>\n",
       "      <td>0.893671</td>\n",
       "      <td>0.443635</td>\n",
       "      <td>-0.018797</td>\n",
       "      <td>-0.081910</td>\n",
       "      <td>0.517860</td>\n",
       "      <td>1.844479</td>\n",
       "      <td>...</td>\n",
       "      <td>-0.251607</td>\n",
       "      <td>-0.424153</td>\n",
       "      <td>0.607886</td>\n",
       "      <td>-0.912342</td>\n",
       "      <td>-0.032005</td>\n",
       "      <td>-0.500089</td>\n",
       "      <td>-0.491981</td>\n",
       "      <td>0.960341</td>\n",
       "      <td>-0.144175</td>\n",
       "      <td>0.975381</td>\n",
       "    </tr>\n",
       "    <tr>\n",
       "      <th>1</th>\n",
       "      <td>0.197012</td>\n",
       "      <td>-0.585057</td>\n",
       "      <td>2.586721</td>\n",
       "      <td>2.104103</td>\n",
       "      <td>2.567008</td>\n",
       "      <td>-1.410958</td>\n",
       "      <td>0.920017</td>\n",
       "      <td>-1.101667</td>\n",
       "      <td>2.261378</td>\n",
       "      <td>0.909135</td>\n",
       "      <td>...</td>\n",
       "      <td>1.240368</td>\n",
       "      <td>-0.465351</td>\n",
       "      <td>0.230658</td>\n",
       "      <td>-0.734952</td>\n",
       "      <td>-1.240070</td>\n",
       "      <td>-1.815878</td>\n",
       "      <td>-0.269283</td>\n",
       "      <td>2.580741</td>\n",
       "      <td>-1.128775</td>\n",
       "      <td>0.953136</td>\n",
       "    </tr>\n",
       "    <tr>\n",
       "      <th>2</th>\n",
       "      <td>0.816446</td>\n",
       "      <td>-0.644188</td>\n",
       "      <td>-0.246556</td>\n",
       "      <td>-0.614758</td>\n",
       "      <td>2.742917</td>\n",
       "      <td>-0.261845</td>\n",
       "      <td>-1.466912</td>\n",
       "      <td>-1.358843</td>\n",
       "      <td>0.648734</td>\n",
       "      <td>1.021332</td>\n",
       "      <td>...</td>\n",
       "      <td>0.440696</td>\n",
       "      <td>-0.463124</td>\n",
       "      <td>-0.692067</td>\n",
       "      <td>-1.371267</td>\n",
       "      <td>-0.478281</td>\n",
       "      <td>0.618976</td>\n",
       "      <td>-0.449288</td>\n",
       "      <td>1.846644</td>\n",
       "      <td>-0.143055</td>\n",
       "      <td>0.973826</td>\n",
       "    </tr>\n",
       "    <tr>\n",
       "      <th>22</th>\n",
       "      <td>-2.049368</td>\n",
       "      <td>0.245781</td>\n",
       "      <td>-0.305157</td>\n",
       "      <td>-1.394750</td>\n",
       "      <td>-1.335979</td>\n",
       "      <td>-1.035703</td>\n",
       "      <td>-1.976212</td>\n",
       "      <td>-1.333125</td>\n",
       "      <td>0.672026</td>\n",
       "      <td>1.324596</td>\n",
       "      <td>...</td>\n",
       "      <td>-0.523384</td>\n",
       "      <td>-0.485393</td>\n",
       "      <td>0.166870</td>\n",
       "      <td>-1.031365</td>\n",
       "      <td>-0.779398</td>\n",
       "      <td>1.626243</td>\n",
       "      <td>0.066495</td>\n",
       "      <td>-1.477283</td>\n",
       "      <td>-0.255068</td>\n",
       "      <td>0.740772</td>\n",
       "    </tr>\n",
       "  </tbody>\n",
       "</table>\n",
       "<p>4 rows × 190 columns</p>\n",
       "</div>"
      ],
      "text/plain": [
       "      CALML6   RPS16P1     HSPB7  TMEM200B    SLC6A9     AGBL4      LEXM  \\\n",
       "0   0.083822 -0.179159 -0.364687  2.701874  0.893671  0.443635 -0.018797   \n",
       "1   0.197012 -0.585057  2.586721  2.104103  2.567008 -1.410958  0.920017   \n",
       "2   0.816446 -0.644188 -0.246556 -0.614758  2.742917 -0.261845 -1.466912   \n",
       "22 -2.049368  0.245781 -0.305157 -1.394750 -1.335979 -1.035703 -1.976212   \n",
       "\n",
       "        NFIA    CFL1P3  ANKRD13C  ...      GRPR     PPEF1     PORCN     GSPT2  \\\n",
       "0  -0.081910  0.517860  1.844479  ... -0.251607 -0.424153  0.607886 -0.912342   \n",
       "1  -1.101667  2.261378  0.909135  ...  1.240368 -0.465351  0.230658 -0.734952   \n",
       "2  -1.358843  0.648734  1.021332  ...  0.440696 -0.463124 -0.692067 -1.371267   \n",
       "22 -1.333125  0.672026  1.324596  ... -0.523384 -0.485393  0.166870 -1.031365   \n",
       "\n",
       "      CPXCR1   ZNF280C   PCDH11Y     TTTY2  MGC70870  test_proba  \n",
       "0  -0.032005 -0.500089 -0.491981  0.960341 -0.144175    0.975381  \n",
       "1  -1.240070 -1.815878 -0.269283  2.580741 -1.128775    0.953136  \n",
       "2  -0.478281  0.618976 -0.449288  1.846644 -0.143055    0.973826  \n",
       "22 -0.779398  1.626243  0.066495 -1.477283 -0.255068    0.740772  \n",
       "\n",
       "[4 rows x 190 columns]"
      ]
     },
     "execution_count": 30,
     "metadata": {},
     "output_type": "execute_result"
    }
   ],
   "source": [
    "df2_main = df2.iloc[:49, ]\n",
    "df2_main = df2_main.loc[(df2_main['test_proba'] > max(prediction2[y_test == 0]))]\n",
    "df2_main"
   ]
  },
  {
   "cell_type": "code",
   "execution_count": 31,
   "id": "b47b562b",
   "metadata": {},
   "outputs": [
    {
     "name": "stdout",
     "output_type": "stream",
     "text": [
      "Accuracy on training data: 1.0\n",
      "Accuracy on testing data: 0.9285714285714286\n",
      "              precision    recall  f1-score   support\n",
      "\n",
      "           0       0.94      0.94      0.94        16\n",
      "           1       0.92      0.92      0.92        12\n",
      "\n",
      "    accuracy                           0.93        28\n",
      "   macro avg       0.93      0.93      0.93        28\n",
      "weighted avg       0.93      0.93      0.93        28\n",
      "\n"
     ]
    }
   ],
   "source": [
    "model3 = XGBClassifier()\n",
    "model3.fit(X_train, y_train)\n",
    "prediction3 = model3.predict_proba(X_test)[:, 1]\n",
    "y_pred = model3.predict(X_test)\n",
    "print(f'Accuracy on training data: {accuracy_score(y_train, model3.predict(X_train))}')\n",
    "print(f'Accuracy on testing data: {accuracy_score(y_test, model3.predict(X_test))}')\n",
    "print(classification_report(y_test, y_pred))"
   ]
  },
  {
   "cell_type": "code",
   "execution_count": 32,
   "id": "de9a34ac",
   "metadata": {},
   "outputs": [
    {
     "data": {
      "text/plain": [
       "Text(50.722222222222214, 0.5, 'True Labels')"
      ]
     },
     "execution_count": 32,
     "metadata": {},
     "output_type": "execute_result"
    },
    {
     "data": {
      "image/png": "[encoded data removed]",
      "text/plain": [
       "<Figure size 640x480 with 2 Axes>"
      ]
     },
     "metadata": {},
     "output_type": "display_data"
    }
   ],
   "source": [
    "fig, ax = plt.subplots()\n",
    "ax = sns.heatmap(confusion_matrix(y_test, y_pred), annot = True, xticklabels = ['N', 'R'], yticklabels = ['N', 'R'])\n",
    "ax.set_title('XGB Model for Paclitaxel-NCI 60 cell lines\\nAccuracy: 65%')\n",
    "ax.set_xlabel('Predicted Labels')\n",
    "ax.set_ylabel('True Labels')"
   ]
  },
  {
   "cell_type": "code",
   "execution_count": 33,
   "id": "6b824c79",
   "metadata": {},
   "outputs": [
    {
     "data": {
      "image/png": "[encoded data removed]",
      "text/plain": [
       "<Figure size 500x500 with 1 Axes>"
      ]
     },
     "metadata": {},
     "output_type": "display_data"
    }
   ],
   "source": [
    "plt.figure(figsize=(5, 5))\n",
    "plt.hist(prediction3[y_test==0], label='Non-Responders')\n",
    "plt.hist(prediction3[y_test==1], label='Responders', alpha=0.7, color='r')\n",
    "plt.xlabel('Probability of being Positive Class')\n",
    "plt.ylabel('Number of records in each bucket')\n",
    "plt.legend()\n",
    "plt.tick_params(axis='both')\n",
    "plt.show() "
   ]
  },
  {
   "cell_type": "code",
   "execution_count": 34,
   "id": "89677a6c",
   "metadata": {},
   "outputs": [
    {
     "data": {
      "text/plain": [
       "(10, 0.8333333333333334)"
      ]
     },
     "execution_count": 34,
     "metadata": {},
     "output_type": "execute_result"
    }
   ],
   "source": [
    "resp_xg = prediction3[y_test == 1]\n",
    "count = 0\n",
    "for i in resp_xg:\n",
    "    if i > max(prediction3[y_test == 0]):\n",
    "        count += 1\n",
    "count, count/len(resp_xg)"
   ]
  },
  {
   "cell_type": "code",
   "execution_count": 35,
   "id": "a2442d27",
   "metadata": {},
   "outputs": [
    {
     "data": {
      "text/plain": [
       "0.80541"
      ]
     },
     "execution_count": 35,
     "metadata": {},
     "output_type": "execute_result"
    }
   ],
   "source": [
    "max(prediction3[y_test == 0])"
   ]
  },
  {
   "cell_type": "code",
   "execution_count": 36,
   "id": "78747217",
   "metadata": {},
   "outputs": [],
   "source": [
    "df_xg = X_test.copy()\n",
    "df_xg.loc[test_index, 'test_proba'] = prediction3\n",
    "\n",
    "df3 = pd.concat([X_train, df_xg], sort=False).sort_index()"
   ]
  },
  {
   "cell_type": "code",
   "execution_count": 37,
   "id": "86a20588",
   "metadata": {},
   "outputs": [
    {
     "data": {
      "text/html": [
       "<div>\n",
       "<style scoped>\n",
       "    .dataframe tbody tr th:only-of-type {\n",
       "        vertical-align: middle;\n",
       "    }\n",
       "\n",
       "    .dataframe tbody tr th {\n",
       "        vertical-align: top;\n",
       "    }\n",
       "\n",
       "    .dataframe thead th {\n",
       "        text-align: right;\n",
       "    }\n",
       "</style>\n",
       "<table border=\"1\" class=\"dataframe\">\n",
       "  <thead>\n",
       "    <tr style=\"text-align: right;\">\n",
       "      <th></th>\n",
       "      <th>CALML6</th>\n",
       "      <th>RPS16P1</th>\n",
       "      <th>HSPB7</th>\n",
       "      <th>TMEM200B</th>\n",
       "      <th>SLC6A9</th>\n",
       "      <th>AGBL4</th>\n",
       "      <th>LEXM</th>\n",
       "      <th>NFIA</th>\n",
       "      <th>CFL1P3</th>\n",
       "      <th>ANKRD13C</th>\n",
       "      <th>...</th>\n",
       "      <th>GRPR</th>\n",
       "      <th>PPEF1</th>\n",
       "      <th>PORCN</th>\n",
       "      <th>GSPT2</th>\n",
       "      <th>CPXCR1</th>\n",
       "      <th>ZNF280C</th>\n",
       "      <th>PCDH11Y</th>\n",
       "      <th>TTTY2</th>\n",
       "      <th>MGC70870</th>\n",
       "      <th>test_proba</th>\n",
       "    </tr>\n",
       "  </thead>\n",
       "  <tbody>\n",
       "    <tr>\n",
       "      <th>0</th>\n",
       "      <td>0.083822</td>\n",
       "      <td>-0.179159</td>\n",
       "      <td>-0.364687</td>\n",
       "      <td>2.701874</td>\n",
       "      <td>0.893671</td>\n",
       "      <td>0.443635</td>\n",
       "      <td>-0.018797</td>\n",
       "      <td>-0.081910</td>\n",
       "      <td>0.517860</td>\n",
       "      <td>1.844479</td>\n",
       "      <td>...</td>\n",
       "      <td>-0.251607</td>\n",
       "      <td>-0.424153</td>\n",
       "      <td>0.607886</td>\n",
       "      <td>-0.912342</td>\n",
       "      <td>-0.032005</td>\n",
       "      <td>-0.500089</td>\n",
       "      <td>-0.491981</td>\n",
       "      <td>0.960341</td>\n",
       "      <td>-0.144175</td>\n",
       "      <td>0.981371</td>\n",
       "    </tr>\n",
       "    <tr>\n",
       "      <th>1</th>\n",
       "      <td>0.197012</td>\n",
       "      <td>-0.585057</td>\n",
       "      <td>2.586721</td>\n",
       "      <td>2.104103</td>\n",
       "      <td>2.567008</td>\n",
       "      <td>-1.410958</td>\n",
       "      <td>0.920017</td>\n",
       "      <td>-1.101667</td>\n",
       "      <td>2.261378</td>\n",
       "      <td>0.909135</td>\n",
       "      <td>...</td>\n",
       "      <td>1.240368</td>\n",
       "      <td>-0.465351</td>\n",
       "      <td>0.230658</td>\n",
       "      <td>-0.734952</td>\n",
       "      <td>-1.240070</td>\n",
       "      <td>-1.815878</td>\n",
       "      <td>-0.269283</td>\n",
       "      <td>2.580741</td>\n",
       "      <td>-1.128775</td>\n",
       "      <td>0.966029</td>\n",
       "    </tr>\n",
       "  </tbody>\n",
       "</table>\n",
       "<p>2 rows × 190 columns</p>\n",
       "</div>"
      ],
      "text/plain": [
       "     CALML6   RPS16P1     HSPB7  TMEM200B    SLC6A9     AGBL4      LEXM  \\\n",
       "0  0.083822 -0.179159 -0.364687  2.701874  0.893671  0.443635 -0.018797   \n",
       "1  0.197012 -0.585057  2.586721  2.104103  2.567008 -1.410958  0.920017   \n",
       "\n",
       "       NFIA    CFL1P3  ANKRD13C  ...      GRPR     PPEF1     PORCN     GSPT2  \\\n",
       "0 -0.081910  0.517860  1.844479  ... -0.251607 -0.424153  0.607886 -0.912342   \n",
       "1 -1.101667  2.261378  0.909135  ...  1.240368 -0.465351  0.230658 -0.734952   \n",
       "\n",
       "     CPXCR1   ZNF280C   PCDH11Y     TTTY2  MGC70870  test_proba  \n",
       "0 -0.032005 -0.500089 -0.491981  0.960341 -0.144175    0.981371  \n",
       "1 -1.240070 -1.815878 -0.269283  2.580741 -1.128775    0.966029  \n",
       "\n",
       "[2 rows x 190 columns]"
      ]
     },
     "execution_count": 37,
     "metadata": {},
     "output_type": "execute_result"
    }
   ],
   "source": [
    "df3_main = df3.iloc[:49, ]\n",
    "df3_main = df3_main.loc[(df3_main['test_proba'] > max(prediction3[y_test == 0]))]\n",
    "df3_main"
   ]
  },
  {
   "cell_type": "code",
   "execution_count": 40,
   "id": "86071ca2",
   "metadata": {},
   "outputs": [
    {
     "data": {
      "text/html": [
       "<div>\n",
       "<style scoped>\n",
       "    .dataframe tbody tr th:only-of-type {\n",
       "        vertical-align: middle;\n",
       "    }\n",
       "\n",
       "    .dataframe tbody tr th {\n",
       "        vertical-align: top;\n",
       "    }\n",
       "\n",
       "    .dataframe thead th {\n",
       "        text-align: right;\n",
       "    }\n",
       "</style>\n",
       "<table border=\"1\" class=\"dataframe\">\n",
       "  <thead>\n",
       "    <tr style=\"text-align: right;\">\n",
       "      <th></th>\n",
       "      <th>CALML6</th>\n",
       "      <th>RPS16P1</th>\n",
       "      <th>HSPB7</th>\n",
       "      <th>TMEM200B</th>\n",
       "      <th>SLC6A9</th>\n",
       "      <th>AGBL4</th>\n",
       "      <th>LEXM</th>\n",
       "      <th>NFIA</th>\n",
       "      <th>CFL1P3</th>\n",
       "      <th>ANKRD13C</th>\n",
       "      <th>...</th>\n",
       "      <th>GRPR</th>\n",
       "      <th>PPEF1</th>\n",
       "      <th>PORCN</th>\n",
       "      <th>GSPT2</th>\n",
       "      <th>CPXCR1</th>\n",
       "      <th>ZNF280C</th>\n",
       "      <th>PCDH11Y</th>\n",
       "      <th>TTTY2</th>\n",
       "      <th>MGC70870</th>\n",
       "      <th>test_proba</th>\n",
       "    </tr>\n",
       "  </thead>\n",
       "  <tbody>\n",
       "    <tr>\n",
       "      <th>0</th>\n",
       "      <td>0.083822</td>\n",
       "      <td>-0.179159</td>\n",
       "      <td>-0.364687</td>\n",
       "      <td>2.701874</td>\n",
       "      <td>0.893671</td>\n",
       "      <td>0.443635</td>\n",
       "      <td>-0.018797</td>\n",
       "      <td>-0.081910</td>\n",
       "      <td>0.517860</td>\n",
       "      <td>1.844479</td>\n",
       "      <td>...</td>\n",
       "      <td>-0.251607</td>\n",
       "      <td>-0.424153</td>\n",
       "      <td>0.607886</td>\n",
       "      <td>-0.912342</td>\n",
       "      <td>-0.032005</td>\n",
       "      <td>-0.500089</td>\n",
       "      <td>-0.491981</td>\n",
       "      <td>0.960341</td>\n",
       "      <td>-0.144175</td>\n",
       "      <td>0.981371</td>\n",
       "    </tr>\n",
       "    <tr>\n",
       "      <th>1</th>\n",
       "      <td>0.197012</td>\n",
       "      <td>-0.585057</td>\n",
       "      <td>2.586721</td>\n",
       "      <td>2.104103</td>\n",
       "      <td>2.567008</td>\n",
       "      <td>-1.410958</td>\n",
       "      <td>0.920017</td>\n",
       "      <td>-1.101667</td>\n",
       "      <td>2.261378</td>\n",
       "      <td>0.909135</td>\n",
       "      <td>...</td>\n",
       "      <td>1.240368</td>\n",
       "      <td>-0.465351</td>\n",
       "      <td>0.230658</td>\n",
       "      <td>-0.734952</td>\n",
       "      <td>-1.240070</td>\n",
       "      <td>-1.815878</td>\n",
       "      <td>-0.269283</td>\n",
       "      <td>2.580741</td>\n",
       "      <td>-1.128775</td>\n",
       "      <td>0.966029</td>\n",
       "    </tr>\n",
       "  </tbody>\n",
       "</table>\n",
       "<p>2 rows × 190 columns</p>\n",
       "</div>"
      ],
      "text/plain": [
       "     CALML6   RPS16P1     HSPB7  TMEM200B    SLC6A9     AGBL4      LEXM  \\\n",
       "0  0.083822 -0.179159 -0.364687  2.701874  0.893671  0.443635 -0.018797   \n",
       "1  0.197012 -0.585057  2.586721  2.104103  2.567008 -1.410958  0.920017   \n",
       "\n",
       "       NFIA    CFL1P3  ANKRD13C  ...      GRPR     PPEF1     PORCN     GSPT2  \\\n",
       "0 -0.081910  0.517860  1.844479  ... -0.251607 -0.424153  0.607886 -0.912342   \n",
       "1 -1.101667  2.261378  0.909135  ...  1.240368 -0.465351  0.230658 -0.734952   \n",
       "\n",
       "     CPXCR1   ZNF280C   PCDH11Y     TTTY2  MGC70870  test_proba  \n",
       "0 -0.032005 -0.500089 -0.491981  0.960341 -0.144175    0.981371  \n",
       "1 -1.240070 -1.815878 -0.269283  2.580741 -1.128775    0.966029  \n",
       "\n",
       "[2 rows x 190 columns]"
      ]
     },
     "execution_count": 40,
     "metadata": {},
     "output_type": "execute_result"
    }
   ],
   "source": [
    "df3_main"
   ]
  },
  {
   "cell_type": "code",
   "execution_count": 38,
   "id": "153d1c0c",
   "metadata": {},
   "outputs": [
    {
     "data": {
      "text/plain": [
       "{0: 26, 1: 30}"
      ]
     },
     "execution_count": 38,
     "metadata": {},
     "output_type": "execute_result"
    }
   ],
   "source": [
    "unique, counts = np.unique(y_train, return_counts=True)\n",
    "dict(zip(unique, counts))"
   ]
  },
  {
   "cell_type": "code",
   "execution_count": 39,
   "id": "77fcde13",
   "metadata": {},
   "outputs": [
    {
     "data": {
      "text/plain": [
       "{0: 16, 1: 12}"
      ]
     },
     "execution_count": 39,
     "metadata": {},
     "output_type": "execute_result"
    }
   ],
   "source": [
    "unique, counts = np.unique(y_test, return_counts=True)\n",
    "dict(zip(unique, counts))"
   ]
  },
  {
   "cell_type": "code",
   "execution_count": 42,
   "id": "5c3cd0cb",
   "metadata": {},
   "outputs": [],
   "source": [
    "common_list = []\n",
    "common_list.extend(list(df1_main.index.values))\n",
    "common_list.extend(list(df2_main.index.values))\n",
    "common_list.extend(list(df3_main.index.values))\n",
    "cl = set(common_list)\n",
    "with open('master_list_genomics.txt', 'a+') as f:\n",
    "    for i in cl:\n",
    "        f.write(f'{i}\\n')"
   ]
  },
  {
   "cell_type": "code",
   "execution_count": null,
   "id": "3821490d",
   "metadata": {},
   "outputs": [],
   "source": []
  }
 ],
 "metadata": {
  "kernelspec": {
   "display_name": "Python [conda env:root] *",
   "language": "python",
   "name": "conda-root-py"
  },
  "language_info": {
   "codemirror_mode": {
    "name": "ipython",
    "version": 3
   },
   "file_extension": ".py",
   "mimetype": "text/x-python",
   "name": "python",
   "nbconvert_exporter": "python",
   "pygments_lexer": "ipython3",
   "version": "3.9.13"
  }
 },
 "nbformat": 4,
 "nbformat_minor": 5
}
