{
 "cells": [
  {
   "cell_type": "code",
   "execution_count": 1,
   "id": "759d66fb",
   "metadata": {},
   "outputs": [],
   "source": [
    "import numpy as np\n",
    "import pandas as pd\n",
    "from sklearn.preprocessing import MinMaxScaler, StandardScaler\n",
    "from sklearn.feature_selection import RFE, RFECV\n",
    "from sklearn.model_selection import StratifiedKFold, RepeatedStratifiedKFold\n",
    "from sklearn.svm import SVC\n",
    "from sklearn.ensemble import RandomForestClassifier, AdaBoostClassifier\n",
    "from sklearn.tree import DecisionTreeClassifier\n",
    "from xgboost import XGBClassifier\n",
    "from sklearn.metrics import accuracy_score, f1_score, recall_score, precision_score\n",
    "import seaborn as sns\n",
    "from warnings import filterwarnings\n",
    "import matplotlib.pyplot as plt\n",
    "filterwarnings('ignore')"
   ]
  },
  {
   "cell_type": "code",
   "execution_count": 2,
   "id": "499c3d67",
   "metadata": {},
   "outputs": [
    {
     "data": {
      "text/html": [
       "<div>\n",
       "<style scoped>\n",
       "    .dataframe tbody tr th:only-of-type {\n",
       "        vertical-align: middle;\n",
       "    }\n",
       "\n",
       "    .dataframe tbody tr th {\n",
       "        vertical-align: top;\n",
       "    }\n",
       "\n",
       "    .dataframe thead th {\n",
       "        text-align: right;\n",
       "    }\n",
       "</style>\n",
       "<table border=\"1\" class=\"dataframe\">\n",
       "  <thead>\n",
       "    <tr style=\"text-align: right;\">\n",
       "      <th></th>\n",
       "      <th>Cell names</th>\n",
       "      <th>WASH7P</th>\n",
       "      <th>FAM138F</th>\n",
       "      <th>LOC729737</th>\n",
       "      <th>RPL23AP21</th>\n",
       "      <th>CICP7</th>\n",
       "      <th>CICP3</th>\n",
       "      <th>LOC101060494</th>\n",
       "      <th>LINC00115</th>\n",
       "      <th>LINC01128</th>\n",
       "      <th>...</th>\n",
       "      <th>MAFIP</th>\n",
       "      <th>LOC283788</th>\n",
       "      <th>KIR3DS1</th>\n",
       "      <th>LOC100507412</th>\n",
       "      <th>KIR2DS5</th>\n",
       "      <th>LOC100288966</th>\n",
       "      <th>KIR2DS1</th>\n",
       "      <th>MGC70870</th>\n",
       "      <th>HLA-DRB4</th>\n",
       "      <th>HLA-DRB3</th>\n",
       "    </tr>\n",
       "  </thead>\n",
       "  <tbody>\n",
       "    <tr>\n",
       "      <th>0</th>\n",
       "      <td>BR:MCF7</td>\n",
       "      <td>0.499</td>\n",
       "      <td>1.863</td>\n",
       "      <td>1.137</td>\n",
       "      <td>0.095</td>\n",
       "      <td>-0.356</td>\n",
       "      <td>-0.368</td>\n",
       "      <td>0.120</td>\n",
       "      <td>-0.253</td>\n",
       "      <td>-0.449</td>\n",
       "      <td>...</td>\n",
       "      <td>0.949</td>\n",
       "      <td>-0.028</td>\n",
       "      <td>-0.169</td>\n",
       "      <td>0.935</td>\n",
       "      <td>0.168</td>\n",
       "      <td>0.892</td>\n",
       "      <td>0.090</td>\n",
       "      <td>0.474</td>\n",
       "      <td>-0.201</td>\n",
       "      <td>-0.761</td>\n",
       "    </tr>\n",
       "    <tr>\n",
       "      <th>1</th>\n",
       "      <td>BR:MDA-MB-231</td>\n",
       "      <td>-0.386</td>\n",
       "      <td>0.786</td>\n",
       "      <td>0.931</td>\n",
       "      <td>-0.086</td>\n",
       "      <td>-0.508</td>\n",
       "      <td>0.744</td>\n",
       "      <td>-0.364</td>\n",
       "      <td>-0.510</td>\n",
       "      <td>-0.078</td>\n",
       "      <td>...</td>\n",
       "      <td>-1.306</td>\n",
       "      <td>-0.861</td>\n",
       "      <td>-0.169</td>\n",
       "      <td>0.246</td>\n",
       "      <td>-0.207</td>\n",
       "      <td>0.701</td>\n",
       "      <td>-0.293</td>\n",
       "      <td>-0.145</td>\n",
       "      <td>0.185</td>\n",
       "      <td>-0.528</td>\n",
       "    </tr>\n",
       "  </tbody>\n",
       "</table>\n",
       "<p>2 rows × 25041 columns</p>\n",
       "</div>"
      ],
      "text/plain": [
       "      Cell names  WASH7P  FAM138F  LOC729737  RPL23AP21  CICP7  CICP3  \\\n",
       "0        BR:MCF7   0.499    1.863      1.137      0.095 -0.356 -0.368   \n",
       "1  BR:MDA-MB-231  -0.386    0.786      0.931     -0.086 -0.508  0.744   \n",
       "\n",
       "   LOC101060494  LINC00115  LINC01128  ...  MAFIP  LOC283788  KIR3DS1  \\\n",
       "0         0.120     -0.253     -0.449  ...  0.949     -0.028   -0.169   \n",
       "1        -0.364     -0.510     -0.078  ... -1.306     -0.861   -0.169   \n",
       "\n",
       "   LOC100507412  KIR2DS5  LOC100288966  KIR2DS1  MGC70870  HLA-DRB4  HLA-DRB3  \n",
       "0         0.935    0.168         0.892    0.090     0.474    -0.201    -0.761  \n",
       "1         0.246   -0.207         0.701   -0.293    -0.145     0.185    -0.528  \n",
       "\n",
       "[2 rows x 25041 columns]"
      ]
     },
     "execution_count": 2,
     "metadata": {},
     "output_type": "execute_result"
    }
   ],
   "source": [
    "genomics = pd.read_csv('C:\\\\Users\\\\nilav\\\\NCI Cell Lines\\\\nci_genomics.csv', index_col = 0)\n",
    "genomics.head(2)"
   ]
  },
  {
   "cell_type": "code",
   "execution_count": 3,
   "id": "74ccd021",
   "metadata": {},
   "outputs": [
    {
     "data": {
      "text/html": [
       "<div>\n",
       "<style scoped>\n",
       "    .dataframe tbody tr th:only-of-type {\n",
       "        vertical-align: middle;\n",
       "    }\n",
       "\n",
       "    .dataframe tbody tr th {\n",
       "        vertical-align: top;\n",
       "    }\n",
       "\n",
       "    .dataframe thead th {\n",
       "        text-align: right;\n",
       "    }\n",
       "</style>\n",
       "<table border=\"1\" class=\"dataframe\">\n",
       "  <thead>\n",
       "    <tr style=\"text-align: right;\">\n",
       "      <th></th>\n",
       "      <th>Cell names</th>\n",
       "      <th>Gefitinib</th>\n",
       "      <th>cells</th>\n",
       "    </tr>\n",
       "  </thead>\n",
       "  <tbody>\n",
       "    <tr>\n",
       "      <th>0</th>\n",
       "      <td>BR:MDA-MB-231</td>\n",
       "      <td>5.078333</td>\n",
       "      <td>MDAMB231</td>\n",
       "    </tr>\n",
       "    <tr>\n",
       "      <th>1</th>\n",
       "      <td>BR:HS 578T</td>\n",
       "      <td>5.173333</td>\n",
       "      <td>HS578T</td>\n",
       "    </tr>\n",
       "  </tbody>\n",
       "</table>\n",
       "</div>"
      ],
      "text/plain": [
       "      Cell names  Gefitinib     cells\n",
       "0  BR:MDA-MB-231   5.078333  MDAMB231\n",
       "1     BR:HS 578T   5.173333    HS578T"
      ]
     },
     "execution_count": 3,
     "metadata": {},
     "output_type": "execute_result"
    }
   ],
   "source": [
    "gemc = pd.read_csv('C:\\\\Users\\\\nilav\\\\NCI Cell Lines\\\\Gefitinib_NCI.csv')\n",
    "gemc.head(2)"
   ]
  },
  {
   "cell_type": "code",
   "execution_count": 4,
   "id": "ac5b55c7",
   "metadata": {},
   "outputs": [
    {
     "data": {
      "text/plain": [
       "(59, 25043)"
      ]
     },
     "execution_count": 4,
     "metadata": {},
     "output_type": "execute_result"
    }
   ],
   "source": [
    "working_data = genomics.merge(gemc, on='Cell names')\n",
    "working_data.shape"
   ]
  },
  {
   "cell_type": "code",
   "execution_count": 5,
   "id": "9e8abda6",
   "metadata": {},
   "outputs": [
    {
     "data": {
      "text/plain": [
       "(59, 3)"
      ]
     },
     "execution_count": 5,
     "metadata": {},
     "output_type": "execute_result"
    }
   ],
   "source": [
    "gemc.shape"
   ]
  },
  {
   "cell_type": "code",
   "execution_count": 6,
   "id": "82ed67dc",
   "metadata": {},
   "outputs": [
    {
     "data": {
      "text/html": [
       "<div>\n",
       "<style scoped>\n",
       "    .dataframe tbody tr th:only-of-type {\n",
       "        vertical-align: middle;\n",
       "    }\n",
       "\n",
       "    .dataframe tbody tr th {\n",
       "        vertical-align: top;\n",
       "    }\n",
       "\n",
       "    .dataframe thead th {\n",
       "        text-align: right;\n",
       "    }\n",
       "</style>\n",
       "<table border=\"1\" class=\"dataframe\">\n",
       "  <thead>\n",
       "    <tr style=\"text-align: right;\">\n",
       "      <th></th>\n",
       "      <th>Cell names</th>\n",
       "      <th>WASH7P</th>\n",
       "      <th>FAM138F</th>\n",
       "      <th>LOC729737</th>\n",
       "      <th>RPL23AP21</th>\n",
       "      <th>CICP7</th>\n",
       "      <th>CICP3</th>\n",
       "      <th>LOC101060494</th>\n",
       "      <th>LINC00115</th>\n",
       "      <th>LINC01128</th>\n",
       "      <th>...</th>\n",
       "      <th>KIR3DS1</th>\n",
       "      <th>LOC100507412</th>\n",
       "      <th>KIR2DS5</th>\n",
       "      <th>LOC100288966</th>\n",
       "      <th>KIR2DS1</th>\n",
       "      <th>MGC70870</th>\n",
       "      <th>HLA-DRB4</th>\n",
       "      <th>HLA-DRB3</th>\n",
       "      <th>Gefitinib</th>\n",
       "      <th>cells</th>\n",
       "    </tr>\n",
       "  </thead>\n",
       "  <tbody>\n",
       "    <tr>\n",
       "      <th>0</th>\n",
       "      <td>BR:MDA-MB-231</td>\n",
       "      <td>-0.386</td>\n",
       "      <td>0.786</td>\n",
       "      <td>0.931</td>\n",
       "      <td>-0.086</td>\n",
       "      <td>-0.508</td>\n",
       "      <td>0.744</td>\n",
       "      <td>-0.364</td>\n",
       "      <td>-0.510</td>\n",
       "      <td>-0.078</td>\n",
       "      <td>...</td>\n",
       "      <td>-0.169</td>\n",
       "      <td>0.246</td>\n",
       "      <td>-0.207</td>\n",
       "      <td>0.701</td>\n",
       "      <td>-0.293</td>\n",
       "      <td>-0.145</td>\n",
       "      <td>0.185</td>\n",
       "      <td>-0.528</td>\n",
       "      <td>5.078333</td>\n",
       "      <td>MDAMB231</td>\n",
       "    </tr>\n",
       "    <tr>\n",
       "      <th>1</th>\n",
       "      <td>BR:HS 578T</td>\n",
       "      <td>-0.585</td>\n",
       "      <td>0.021</td>\n",
       "      <td>-0.801</td>\n",
       "      <td>-0.795</td>\n",
       "      <td>-0.499</td>\n",
       "      <td>0.720</td>\n",
       "      <td>-1.207</td>\n",
       "      <td>0.098</td>\n",
       "      <td>0.823</td>\n",
       "      <td>...</td>\n",
       "      <td>-0.169</td>\n",
       "      <td>-0.303</td>\n",
       "      <td>-0.268</td>\n",
       "      <td>0.669</td>\n",
       "      <td>-0.246</td>\n",
       "      <td>-1.024</td>\n",
       "      <td>-0.512</td>\n",
       "      <td>-0.172</td>\n",
       "      <td>5.173333</td>\n",
       "      <td>HS578T</td>\n",
       "    </tr>\n",
       "  </tbody>\n",
       "</table>\n",
       "<p>2 rows × 25043 columns</p>\n",
       "</div>"
      ],
      "text/plain": [
       "      Cell names  WASH7P  FAM138F  LOC729737  RPL23AP21  CICP7  CICP3  \\\n",
       "0  BR:MDA-MB-231  -0.386    0.786      0.931     -0.086 -0.508  0.744   \n",
       "1     BR:HS 578T  -0.585    0.021     -0.801     -0.795 -0.499  0.720   \n",
       "\n",
       "   LOC101060494  LINC00115  LINC01128  ...  KIR3DS1  LOC100507412  KIR2DS5  \\\n",
       "0        -0.364     -0.510     -0.078  ...   -0.169         0.246   -0.207   \n",
       "1        -1.207      0.098      0.823  ...   -0.169        -0.303   -0.268   \n",
       "\n",
       "   LOC100288966  KIR2DS1  MGC70870  HLA-DRB4  HLA-DRB3  Gefitinib     cells  \n",
       "0         0.701   -0.293    -0.145     0.185    -0.528   5.078333  MDAMB231  \n",
       "1         0.669   -0.246    -1.024    -0.512    -0.172   5.173333    HS578T  \n",
       "\n",
       "[2 rows x 25043 columns]"
      ]
     },
     "execution_count": 6,
     "metadata": {},
     "output_type": "execute_result"
    }
   ],
   "source": [
    "working_data.head(2)"
   ]
  },
  {
   "cell_type": "code",
   "execution_count": 7,
   "id": "182d365b",
   "metadata": {},
   "outputs": [],
   "source": [
    "target = working_data.pop('Gefitinib')\n",
    "X = working_data.select_dtypes('float64')"
   ]
  },
  {
   "cell_type": "code",
   "execution_count": 8,
   "id": "a5588798",
   "metadata": {},
   "outputs": [
    {
     "data": {
      "text/html": [
       "<div>\n",
       "<style scoped>\n",
       "    .dataframe tbody tr th:only-of-type {\n",
       "        vertical-align: middle;\n",
       "    }\n",
       "\n",
       "    .dataframe tbody tr th {\n",
       "        vertical-align: top;\n",
       "    }\n",
       "\n",
       "    .dataframe thead th {\n",
       "        text-align: right;\n",
       "    }\n",
       "</style>\n",
       "<table border=\"1\" class=\"dataframe\">\n",
       "  <thead>\n",
       "    <tr style=\"text-align: right;\">\n",
       "      <th></th>\n",
       "      <th>WASH7P</th>\n",
       "      <th>FAM138F</th>\n",
       "      <th>LOC729737</th>\n",
       "      <th>RPL23AP21</th>\n",
       "      <th>CICP7</th>\n",
       "      <th>CICP3</th>\n",
       "      <th>LOC101060494</th>\n",
       "      <th>LINC00115</th>\n",
       "      <th>LINC01128</th>\n",
       "      <th>TUBB8P11</th>\n",
       "      <th>...</th>\n",
       "      <th>MAFIP</th>\n",
       "      <th>LOC283788</th>\n",
       "      <th>KIR3DS1</th>\n",
       "      <th>LOC100507412</th>\n",
       "      <th>KIR2DS5</th>\n",
       "      <th>LOC100288966</th>\n",
       "      <th>KIR2DS1</th>\n",
       "      <th>MGC70870</th>\n",
       "      <th>HLA-DRB4</th>\n",
       "      <th>HLA-DRB3</th>\n",
       "    </tr>\n",
       "  </thead>\n",
       "  <tbody>\n",
       "    <tr>\n",
       "      <th>0</th>\n",
       "      <td>-0.386</td>\n",
       "      <td>0.786</td>\n",
       "      <td>0.931</td>\n",
       "      <td>-0.086</td>\n",
       "      <td>-0.508</td>\n",
       "      <td>0.744</td>\n",
       "      <td>-0.364</td>\n",
       "      <td>-0.510</td>\n",
       "      <td>-0.078</td>\n",
       "      <td>-0.045</td>\n",
       "      <td>...</td>\n",
       "      <td>-1.306</td>\n",
       "      <td>-0.861</td>\n",
       "      <td>-0.169</td>\n",
       "      <td>0.246</td>\n",
       "      <td>-0.207</td>\n",
       "      <td>0.701</td>\n",
       "      <td>-0.293</td>\n",
       "      <td>-0.145</td>\n",
       "      <td>0.185</td>\n",
       "      <td>-0.528</td>\n",
       "    </tr>\n",
       "    <tr>\n",
       "      <th>1</th>\n",
       "      <td>-0.585</td>\n",
       "      <td>0.021</td>\n",
       "      <td>-0.801</td>\n",
       "      <td>-0.795</td>\n",
       "      <td>-0.499</td>\n",
       "      <td>0.720</td>\n",
       "      <td>-1.207</td>\n",
       "      <td>0.098</td>\n",
       "      <td>0.823</td>\n",
       "      <td>1.923</td>\n",
       "      <td>...</td>\n",
       "      <td>-0.920</td>\n",
       "      <td>-0.619</td>\n",
       "      <td>-0.169</td>\n",
       "      <td>-0.303</td>\n",
       "      <td>-0.268</td>\n",
       "      <td>0.669</td>\n",
       "      <td>-0.246</td>\n",
       "      <td>-1.024</td>\n",
       "      <td>-0.512</td>\n",
       "      <td>-0.172</td>\n",
       "    </tr>\n",
       "  </tbody>\n",
       "</table>\n",
       "<p>2 rows × 25040 columns</p>\n",
       "</div>"
      ],
      "text/plain": [
       "   WASH7P  FAM138F  LOC729737  RPL23AP21  CICP7  CICP3  LOC101060494  \\\n",
       "0  -0.386    0.786      0.931     -0.086 -0.508  0.744        -0.364   \n",
       "1  -0.585    0.021     -0.801     -0.795 -0.499  0.720        -1.207   \n",
       "\n",
       "   LINC00115  LINC01128  TUBB8P11  ...  MAFIP  LOC283788  KIR3DS1  \\\n",
       "0     -0.510     -0.078    -0.045  ... -1.306     -0.861   -0.169   \n",
       "1      0.098      0.823     1.923  ... -0.920     -0.619   -0.169   \n",
       "\n",
       "   LOC100507412  KIR2DS5  LOC100288966  KIR2DS1  MGC70870  HLA-DRB4  HLA-DRB3  \n",
       "0         0.246   -0.207         0.701   -0.293    -0.145     0.185    -0.528  \n",
       "1        -0.303   -0.268         0.669   -0.246    -1.024    -0.512    -0.172  \n",
       "\n",
       "[2 rows x 25040 columns]"
      ]
     },
     "execution_count": 8,
     "metadata": {},
     "output_type": "execute_result"
    }
   ],
   "source": [
    "X.head(2)"
   ]
  },
  {
   "cell_type": "code",
   "execution_count": 9,
   "id": "79649d56",
   "metadata": {},
   "outputs": [],
   "source": [
    "mean = target.mean()\n",
    "y = []\n",
    "for i in list(target):\n",
    "    if i>mean:\n",
    "        y.append('NR')\n",
    "    else:\n",
    "        y.append('R')\n",
    "y = pd.Series(y)"
   ]
  },
  {
   "cell_type": "code",
   "execution_count": 10,
   "id": "03df4157",
   "metadata": {},
   "outputs": [
    {
     "data": {
      "text/plain": [
       "0    32\n",
       "1    27\n",
       "dtype: int64"
      ]
     },
     "execution_count": 10,
     "metadata": {},
     "output_type": "execute_result"
    }
   ],
   "source": [
    "from sklearn.preprocessing import LabelEncoder\n",
    "\n",
    "le = LabelEncoder()\n",
    "y = pd.Series(le.fit_transform(y))\n",
    "y.value_counts()"
   ]
  },
  {
   "cell_type": "code",
   "execution_count": 11,
   "id": "51d5df18",
   "metadata": {},
   "outputs": [],
   "source": [
    "scaler = StandardScaler()\n",
    "X = pd.DataFrame(data = scaler.fit_transform(X), columns = X.columns)"
   ]
  },
  {
   "cell_type": "code",
   "execution_count": 12,
   "id": "87d2a4ce",
   "metadata": {},
   "outputs": [
    {
     "data": {
      "text/html": [
       "<div>\n",
       "<style scoped>\n",
       "    .dataframe tbody tr th:only-of-type {\n",
       "        vertical-align: middle;\n",
       "    }\n",
       "\n",
       "    .dataframe tbody tr th {\n",
       "        vertical-align: top;\n",
       "    }\n",
       "\n",
       "    .dataframe thead th {\n",
       "        text-align: right;\n",
       "    }\n",
       "</style>\n",
       "<table border=\"1\" class=\"dataframe\">\n",
       "  <thead>\n",
       "    <tr style=\"text-align: right;\">\n",
       "      <th></th>\n",
       "      <th>WASH7P</th>\n",
       "      <th>FAM138F</th>\n",
       "      <th>LOC729737</th>\n",
       "      <th>RPL23AP21</th>\n",
       "      <th>CICP7</th>\n",
       "      <th>CICP3</th>\n",
       "      <th>LOC101060494</th>\n",
       "      <th>LINC00115</th>\n",
       "      <th>LINC01128</th>\n",
       "      <th>TUBB8P11</th>\n",
       "      <th>...</th>\n",
       "      <th>MAFIP</th>\n",
       "      <th>LOC283788</th>\n",
       "      <th>KIR3DS1</th>\n",
       "      <th>LOC100507412</th>\n",
       "      <th>KIR2DS5</th>\n",
       "      <th>LOC100288966</th>\n",
       "      <th>KIR2DS1</th>\n",
       "      <th>MGC70870</th>\n",
       "      <th>HLA-DRB4</th>\n",
       "      <th>HLA-DRB3</th>\n",
       "    </tr>\n",
       "  </thead>\n",
       "  <tbody>\n",
       "    <tr>\n",
       "      <th>0</th>\n",
       "      <td>-0.378306</td>\n",
       "      <td>0.843224</td>\n",
       "      <td>0.969494</td>\n",
       "      <td>-0.090111</td>\n",
       "      <td>-0.514618</td>\n",
       "      <td>0.745022</td>\n",
       "      <td>-0.365166</td>\n",
       "      <td>-0.569089</td>\n",
       "      <td>-0.096179</td>\n",
       "      <td>-0.058416</td>\n",
       "      <td>...</td>\n",
       "      <td>-1.409597</td>\n",
       "      <td>-0.947768</td>\n",
       "      <td>-0.173007</td>\n",
       "      <td>0.281863</td>\n",
       "      <td>-0.204345</td>\n",
       "      <td>0.828610</td>\n",
       "      <td>-0.294187</td>\n",
       "      <td>-0.144175</td>\n",
       "      <td>0.200366</td>\n",
       "      <td>-0.548336</td>\n",
       "    </tr>\n",
       "    <tr>\n",
       "      <th>1</th>\n",
       "      <td>-0.577735</td>\n",
       "      <td>0.054258</td>\n",
       "      <td>-0.797510</td>\n",
       "      <td>-0.847027</td>\n",
       "      <td>-0.505608</td>\n",
       "      <td>0.720787</td>\n",
       "      <td>-1.215538</td>\n",
       "      <td>0.085113</td>\n",
       "      <td>0.959963</td>\n",
       "      <td>2.199502</td>\n",
       "      <td>...</td>\n",
       "      <td>-0.987777</td>\n",
       "      <td>-0.681527</td>\n",
       "      <td>-0.173007</td>\n",
       "      <td>-0.309179</td>\n",
       "      <td>-0.266444</td>\n",
       "      <td>0.791586</td>\n",
       "      <td>-0.246095</td>\n",
       "      <td>-1.128775</td>\n",
       "      <td>-0.564902</td>\n",
       "      <td>-0.187441</td>\n",
       "    </tr>\n",
       "  </tbody>\n",
       "</table>\n",
       "<p>2 rows × 25040 columns</p>\n",
       "</div>"
      ],
      "text/plain": [
       "     WASH7P   FAM138F  LOC729737  RPL23AP21     CICP7     CICP3  LOC101060494  \\\n",
       "0 -0.378306  0.843224   0.969494  -0.090111 -0.514618  0.745022     -0.365166   \n",
       "1 -0.577735  0.054258  -0.797510  -0.847027 -0.505608  0.720787     -1.215538   \n",
       "\n",
       "   LINC00115  LINC01128  TUBB8P11  ...     MAFIP  LOC283788   KIR3DS1  \\\n",
       "0  -0.569089  -0.096179 -0.058416  ... -1.409597  -0.947768 -0.173007   \n",
       "1   0.085113   0.959963  2.199502  ... -0.987777  -0.681527 -0.173007   \n",
       "\n",
       "   LOC100507412   KIR2DS5  LOC100288966   KIR2DS1  MGC70870  HLA-DRB4  \\\n",
       "0      0.281863 -0.204345      0.828610 -0.294187 -0.144175  0.200366   \n",
       "1     -0.309179 -0.266444      0.791586 -0.246095 -1.128775 -0.564902   \n",
       "\n",
       "   HLA-DRB3  \n",
       "0 -0.548336  \n",
       "1 -0.187441  \n",
       "\n",
       "[2 rows x 25040 columns]"
      ]
     },
     "execution_count": 12,
     "metadata": {},
     "output_type": "execute_result"
    }
   ],
   "source": [
    "X.head(2)"
   ]
  },
  {
   "cell_type": "code",
   "execution_count": 13,
   "id": "3f3c590c",
   "metadata": {},
   "outputs": [
    {
     "data": {
      "text/plain": [
       "((59, 25040), (59,))"
      ]
     },
     "execution_count": 13,
     "metadata": {},
     "output_type": "execute_result"
    }
   ],
   "source": [
    "X.shape, y.shape"
   ]
  },
  {
   "cell_type": "code",
   "execution_count": 14,
   "id": "fe766ef4",
   "metadata": {},
   "outputs": [
    {
     "data": {
      "text/plain": [
       "1    32\n",
       "0    32\n",
       "dtype: int64"
      ]
     },
     "execution_count": 14,
     "metadata": {},
     "output_type": "execute_result"
    }
   ],
   "source": [
    "from imblearn.over_sampling import SMOTE\n",
    "\n",
    "smote = SMOTE()\n",
    "X,y = smote.fit_resample(X,y)\n",
    "\n",
    "y.value_counts()"
   ]
  },
  {
   "cell_type": "code",
   "execution_count": 15,
   "id": "9c39d34d",
   "metadata": {},
   "outputs": [
    {
     "data": {
      "image/png": "[encoded data removed]",
      "text/plain": [
       "<Figure size 640x480 with 1 Axes>"
      ]
     },
     "metadata": {},
     "output_type": "display_data"
    }
   ],
   "source": [
    "from xgboost import plot_importance\n",
    "from sklearn.model_selection import train_test_split\n",
    "\n",
    "model = RandomForestClassifier(class_weight = 'balanced', n_estimators = 150, random_state = 43)\n",
    "model.fit(X, y)\n",
    "importances = model.feature_importances_\n",
    "indices = np.argsort(importances)[::-1]\n",
    "\n",
    "plt.figure()\n",
    "plt.title(\"Feature importances\")\n",
    "plt.bar(range(X.shape[1]), importances[indices],\n",
    "        color=\"lightsalmon\", align=\"center\")\n",
    "plt.xticks(range(X.shape[1]), X.columns[indices], rotation=90)\n",
    "plt.xlim([-1, X.shape[1]])\n",
    "plt.show()"
   ]
  },
  {
   "cell_type": "code",
   "execution_count": 16,
   "id": "4a98c39e",
   "metadata": {},
   "outputs": [
    {
     "name": "stdout",
     "output_type": "stream",
     "text": [
      "Accuracy on training data: 1.0\n",
      "Accuracy on testing data: 0.8181818181818182\n",
      "              precision    recall  f1-score   support\n",
      "\n",
      "           0       0.82      0.82      0.82        11\n",
      "           1       0.82      0.82      0.82        11\n",
      "\n",
      "    accuracy                           0.82        22\n",
      "   macro avg       0.82      0.82      0.82        22\n",
      "weighted avg       0.82      0.82      0.82        22\n",
      "\n"
     ]
    }
   ],
   "source": [
    "from sklearn.feature_selection import SelectFromModel\n",
    "from sklearn.metrics import classification_report\n",
    "\n",
    "sfm = SelectFromModel(model, threshold = 0.002)\n",
    "sfm.fit(X,y)\n",
    "\n",
    "X = pd.DataFrame(data = sfm.transform(X), columns = X.columns[sfm.get_support(1)])\n",
    "\n",
    "X_train, X_test, y_train, y_test = train_test_split(X,y, stratify=y, test_size = 0.33, random_state = 43)\n",
    "\n",
    "model.fit(X_train, y_train)\n",
    "prediction = model.predict_proba(X_test)[:, 1]\n",
    "y_pred = model.predict(X_test)\n",
    "\n",
    "print(f'Accuracy on training data: {accuracy_score(y_train, model.predict(X_train))}')\n",
    "print(f'Accuracy on testing data: {accuracy_score(y_test, model.predict(X_test))}')\n",
    "print(classification_report(y_test, y_pred))"
   ]
  },
  {
   "cell_type": "code",
   "execution_count": 17,
   "id": "20f3cdd5",
   "metadata": {},
   "outputs": [
    {
     "data": {
      "text/plain": [
       "Text(50.722222222222214, 0.5, 'True Labels')"
      ]
     },
     "execution_count": 17,
     "metadata": {},
     "output_type": "execute_result"
    },
    {
     "data": {
      "image/png": "[encoded data removed]",
      "text/plain": [
       "<Figure size 640x480 with 2 Axes>"
      ]
     },
     "metadata": {},
     "output_type": "display_data"
    }
   ],
   "source": [
    "from sklearn.metrics import confusion_matrix\n",
    "\n",
    "fig, ax = plt.subplots()\n",
    "ax = sns.heatmap(confusion_matrix(y_test, y_pred), annot=True, xticklabels = ['N', 'R'], yticklabels = ['N', 'R'])\n",
    "ax.set_title('Random Forest Model for Paclitaxel-NCI60 cell lines\\nAccuracy: 71%')\n",
    "ax.set_xlabel('Predicted Labels')\n",
    "ax.set_ylabel('True Labels')"
   ]
  },
  {
   "cell_type": "code",
   "execution_count": 18,
   "id": "82790fdc",
   "metadata": {},
   "outputs": [
    {
     "data": {
      "image/png": "[encoded data removed]",
      "text/plain": [
       "<Figure size 500x500 with 1 Axes>"
      ]
     },
     "metadata": {},
     "output_type": "display_data"
    }
   ],
   "source": [
    "plt.figure(figsize=(5, 5))\n",
    "plt.hist(prediction[y_test==0], label='Non-Responders')\n",
    "plt.hist(prediction[y_test==1], label='Responders', alpha=0.7, color = 'r')\n",
    "plt.xlabel('Probability of being Positive Class')\n",
    "plt.ylabel('Number of records in each bucket')\n",
    "plt.legend()\n",
    "plt.tick_params(axis='both')\n",
    "plt.show() "
   ]
  },
  {
   "cell_type": "code",
   "execution_count": 33,
   "id": "fbe85383",
   "metadata": {},
   "outputs": [
    {
     "data": {
      "text/plain": [
       "(8, 0.7272727272727273)"
      ]
     },
     "execution_count": 33,
     "metadata": {},
     "output_type": "execute_result"
    }
   ],
   "source": [
    "responders = prediction[y_test == 1]\n",
    "count = 0\n",
    "for i in responders: \n",
    "    if i > max(prediction[y_test == 0]):\n",
    "        count+=1\n",
    "count, count/len(responders)"
   ]
  },
  {
   "cell_type": "code",
   "execution_count": 20,
   "id": "8522b249",
   "metadata": {},
   "outputs": [
    {
     "data": {
      "text/plain": [
       "0.5333333333333333"
      ]
     },
     "execution_count": 20,
     "metadata": {},
     "output_type": "execute_result"
    }
   ],
   "source": [
    "max(prediction[y_test == 0])"
   ]
  },
  {
   "cell_type": "code",
   "execution_count": 21,
   "id": "24523555",
   "metadata": {},
   "outputs": [
    {
     "name": "stdout",
     "output_type": "stream",
     "text": [
      "Accuracy on training data: 1.0\n",
      "Accuracy on testing data: 0.8181818181818182\n",
      "              precision    recall  f1-score   support\n",
      "\n",
      "           0       0.89      0.73      0.80        11\n",
      "           1       0.77      0.91      0.83        11\n",
      "\n",
      "    accuracy                           0.82        22\n",
      "   macro avg       0.83      0.82      0.82        22\n",
      "weighted avg       0.83      0.82      0.82        22\n",
      "\n"
     ]
    }
   ],
   "source": [
    "model2 = SVC(kernel = 'linear', C=1, gamma='auto', probability=True)\n",
    "model2.fit(X_train, y_train)\n",
    "prediction2 = model2.predict_proba(X_test)[:, 1]\n",
    "y_pred = model2.predict(X_test)\n",
    "print(f'Accuracy on training data: {accuracy_score(y_train, model2.predict(X_train))}')\n",
    "print(f'Accuracy on testing data: {accuracy_score(y_test, model2.predict(X_test))}')\n",
    "print(classification_report(y_test, y_pred))"
   ]
  },
  {
   "cell_type": "code",
   "execution_count": 22,
   "id": "e6114c20",
   "metadata": {},
   "outputs": [
    {
     "data": {
      "text/plain": [
       "Text(50.722222222222214, 0.5, 'True labels')"
      ]
     },
     "execution_count": 22,
     "metadata": {},
     "output_type": "execute_result"
    },
    {
     "data": {
      "image/png": "[encoded data removed]",
      "text/plain": [
       "<Figure size 640x480 with 2 Axes>"
      ]
     },
     "metadata": {},
     "output_type": "display_data"
    }
   ],
   "source": [
    "fig, ax = plt.subplots()\n",
    "ax = sns.heatmap(confusion_matrix(y_test, y_pred), annot=True, xticklabels = ['N', 'R'], yticklabels = ['N', 'R'])\n",
    "ax.set_title('SVM Paclitaxel Model for NCI-60 cell lines\\nAccuracy: 71%')\n",
    "ax.set_xlabel('Predicted Labels')\n",
    "ax.set_ylabel('True labels')"
   ]
  },
  {
   "cell_type": "code",
   "execution_count": 23,
   "id": "37343170",
   "metadata": {},
   "outputs": [
    {
     "data": {
      "image/png": "[encoded data removed]",
      "text/plain": [
       "<Figure size 500x500 with 1 Axes>"
      ]
     },
     "metadata": {},
     "output_type": "display_data"
    }
   ],
   "source": [
    "plt.figure(figsize=(5,5))\n",
    "plt.hist(prediction2[y_test==0], label='Negatives')\n",
    "plt.hist(prediction2[y_test==1], label='Positives', alpha=0.7, color = 'r')\n",
    "plt.xlabel('Probability of being Positive Class')\n",
    "plt.ylabel('Number of records in each bucket')\n",
    "plt.legend()\n",
    "plt.tick_params(axis='both')\n",
    "plt.show() "
   ]
  },
  {
   "cell_type": "code",
   "execution_count": 35,
   "id": "6c80d558",
   "metadata": {},
   "outputs": [
    {
     "data": {
      "text/plain": [
       "(6, 0.5454545454545454)"
      ]
     },
     "execution_count": 35,
     "metadata": {},
     "output_type": "execute_result"
    }
   ],
   "source": [
    "resp_svm = prediction2[y_test == 1]\n",
    "count = 0\n",
    "for i in resp_svm:\n",
    "    if i > max(prediction2[y_test == 0]):\n",
    "        count+=1\n",
    "count, count/len(resp_svm)"
   ]
  },
  {
   "cell_type": "code",
   "execution_count": 25,
   "id": "cc22bae6",
   "metadata": {},
   "outputs": [
    {
     "data": {
      "text/plain": [
       "0.798071134291943"
      ]
     },
     "execution_count": 25,
     "metadata": {},
     "output_type": "execute_result"
    }
   ],
   "source": [
    "max(prediction2[y_test == 0])"
   ]
  },
  {
   "cell_type": "code",
   "execution_count": 26,
   "id": "b47b562b",
   "metadata": {},
   "outputs": [
    {
     "name": "stdout",
     "output_type": "stream",
     "text": [
      "Accuracy on training data: 1.0\n",
      "Accuracy on testing data: 0.5454545454545454\n",
      "              precision    recall  f1-score   support\n",
      "\n",
      "           0       0.57      0.36      0.44        11\n",
      "           1       0.53      0.73      0.62        11\n",
      "\n",
      "    accuracy                           0.55        22\n",
      "   macro avg       0.55      0.55      0.53        22\n",
      "weighted avg       0.55      0.55      0.53        22\n",
      "\n"
     ]
    }
   ],
   "source": [
    "model3 = XGBClassifier()\n",
    "model3.fit(X_train, y_train)\n",
    "prediction3 = model3.predict_proba(X_test)[:, 1]\n",
    "y_pred = model3.predict(X_test)\n",
    "print(f'Accuracy on training data: {accuracy_score(y_train, model3.predict(X_train))}')\n",
    "print(f'Accuracy on testing data: {accuracy_score(y_test, model3.predict(X_test))}')\n",
    "print(classification_report(y_test, y_pred))"
   ]
  },
  {
   "cell_type": "code",
   "execution_count": 27,
   "id": "de9a34ac",
   "metadata": {},
   "outputs": [
    {
     "data": {
      "text/plain": [
       "Text(50.722222222222214, 0.5, 'True Labels')"
      ]
     },
     "execution_count": 27,
     "metadata": {},
     "output_type": "execute_result"
    },
    {
     "data": {
      "image/png": "[encoded data removed]",
      "text/plain": [
       "<Figure size 640x480 with 2 Axes>"
      ]
     },
     "metadata": {},
     "output_type": "display_data"
    }
   ],
   "source": [
    "fig, ax = plt.subplots()\n",
    "ax = sns.heatmap(confusion_matrix(y_test, y_pred), annot = True, xticklabels = ['N', 'R'], yticklabels = ['N', 'R'])\n",
    "ax.set_title('XGB Model for Paclitaxel-NCI 60 cell lines\\nAccuracy: 65%')\n",
    "ax.set_xlabel('Predicted Labels')\n",
    "ax.set_ylabel('True Labels')"
   ]
  },
  {
   "cell_type": "code",
   "execution_count": 28,
   "id": "6b824c79",
   "metadata": {},
   "outputs": [
    {
     "data": {
      "image/png": "[encoded data removed]",
      "text/plain": [
       "<Figure size 500x500 with 1 Axes>"
      ]
     },
     "metadata": {},
     "output_type": "display_data"
    }
   ],
   "source": [
    "plt.figure(figsize=(5, 5))\n",
    "plt.hist(prediction3[y_test==0], label='Non-Responders')\n",
    "plt.hist(prediction3[y_test==1], label='Responders', alpha=0.7, color='r')\n",
    "plt.xlabel('Probability of being Positive Class')\n",
    "plt.ylabel('Number of records in each bucket')\n",
    "plt.legend()\n",
    "plt.tick_params(axis='both')\n",
    "plt.show() "
   ]
  },
  {
   "cell_type": "code",
   "execution_count": 34,
   "id": "b8489714",
   "metadata": {},
   "outputs": [
    {
     "data": {
      "text/plain": [
       "(1, 0.09090909090909091)"
      ]
     },
     "execution_count": 34,
     "metadata": {},
     "output_type": "execute_result"
    }
   ],
   "source": [
    "resp_xg = prediction3[y_test == 1]\n",
    "count = 0\n",
    "for i in resp_xg:\n",
    "    if i > max(prediction3[y_test == 0]):\n",
    "        count += 1\n",
    "count, count/len(resp_xg)"
   ]
  },
  {
   "cell_type": "code",
   "execution_count": 30,
   "id": "8c6cd635",
   "metadata": {},
   "outputs": [
    {
     "data": {
      "text/plain": [
       "0.9770824"
      ]
     },
     "execution_count": 30,
     "metadata": {},
     "output_type": "execute_result"
    }
   ],
   "source": [
    "max(prediction3[y_test == 0])"
   ]
  },
  {
   "cell_type": "code",
   "execution_count": 31,
   "id": "153d1c0c",
   "metadata": {},
   "outputs": [
    {
     "data": {
      "text/plain": [
       "{0: 21, 1: 21}"
      ]
     },
     "execution_count": 31,
     "metadata": {},
     "output_type": "execute_result"
    }
   ],
   "source": [
    "unique, counts = np.unique(y_train, return_counts=True)\n",
    "dict(zip(unique, counts))"
   ]
  },
  {
   "cell_type": "code",
   "execution_count": 32,
   "id": "77fcde13",
   "metadata": {},
   "outputs": [
    {
     "data": {
      "text/plain": [
       "{0: 11, 1: 11}"
      ]
     },
     "execution_count": 32,
     "metadata": {},
     "output_type": "execute_result"
    }
   ],
   "source": [
    "unique, counts = np.unique(y_test, return_counts=True)\n",
    "dict(zip(unique, counts))"
   ]
  },
  {
   "cell_type": "code",
   "execution_count": null,
   "id": "75ac01f6",
   "metadata": {},
   "outputs": [],
   "source": []
  }
 ],
 "metadata": {
  "kernelspec": {
   "display_name": "Python [conda env:root] *",
   "language": "python",
   "name": "conda-root-py"
  },
  "language_info": {
   "codemirror_mode": {
    "name": "ipython",
    "version": 3
   },
   "file_extension": ".py",
   "mimetype": "text/x-python",
   "name": "python",
   "nbconvert_exporter": "python",
   "pygments_lexer": "ipython3",
   "version": "3.9.13"
  }
 },
 "nbformat": 4,
 "nbformat_minor": 5
}
